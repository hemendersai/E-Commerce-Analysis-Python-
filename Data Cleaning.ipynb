{
 "cells": [
  {
   "cell_type": "markdown",
   "id": "1fbd6845-3335-4fab-be81-fa0b60ac60c0",
   "metadata": {},
   "source": [
    "                                                    E-Commerce Analysis"
   ]
  },
  {
   "cell_type": "markdown",
   "id": "92ad467f-c7ea-463a-9111-d40ff2223453",
   "metadata": {},
   "source": [
    "Import data"
   ]
  },
  {
   "cell_type": "code",
   "execution_count": 1,
   "id": "c71dad96-f7bc-4701-9aaa-a9a4034b7b81",
   "metadata": {},
   "outputs": [],
   "source": [
    "import pandas as pd\n",
    "import numpy as np\n",
    "import seaborn as sns\n",
    "import plotly.express as px\n",
    "import matplotlib.pyplot as plt\n",
    "%matplotlib inline"
   ]
  },
  {
   "cell_type": "code",
   "execution_count": 2,
   "id": "a7bf104f-f7cd-4584-b97c-a11d8caf3697",
   "metadata": {},
   "outputs": [
    {
     "data": {
      "text/html": [
       "<div>\n",
       "<style scoped>\n",
       "    .dataframe tbody tr th:only-of-type {\n",
       "        vertical-align: middle;\n",
       "    }\n",
       "\n",
       "    .dataframe tbody tr th {\n",
       "        vertical-align: top;\n",
       "    }\n",
       "\n",
       "    .dataframe thead th {\n",
       "        text-align: right;\n",
       "    }\n",
       "</style>\n",
       "<table border=\"1\" class=\"dataframe\">\n",
       "  <thead>\n",
       "    <tr style=\"text-align: right;\">\n",
       "      <th></th>\n",
       "      <th>CustomerID</th>\n",
       "      <th>CustomerName</th>\n",
       "      <th>Gender</th>\n",
       "      <th>Age</th>\n",
       "      <th>Country</th>\n",
       "      <th>OrderID</th>\n",
       "      <th>OrderDate</th>\n",
       "      <th>ProductCategory</th>\n",
       "      <th>ProductName</th>\n",
       "      <th>Price</th>\n",
       "      <th>...</th>\n",
       "      <th>DiscountRate</th>\n",
       "      <th>HasDiscountApplied</th>\n",
       "      <th>TotalAmount</th>\n",
       "      <th>PaymentMethod</th>\n",
       "      <th>DeviceType</th>\n",
       "      <th>ReferralSource</th>\n",
       "      <th>SessionDuration</th>\n",
       "      <th>CustomerTenureDays</th>\n",
       "      <th>ReviewScore</th>\n",
       "      <th>ReviewText</th>\n",
       "    </tr>\n",
       "  </thead>\n",
       "  <tbody>\n",
       "    <tr>\n",
       "      <th>0</th>\n",
       "      <td>C132389</td>\n",
       "      <td>Anil Singh</td>\n",
       "      <td>Female</td>\n",
       "      <td>18.0</td>\n",
       "      <td>USA</td>\n",
       "      <td>O278302</td>\n",
       "      <td>27-02-2024</td>\n",
       "      <td>Clothing</td>\n",
       "      <td>Zara Casual Shirt</td>\n",
       "      <td>2196.74</td>\n",
       "      <td>...</td>\n",
       "      <td>0.0</td>\n",
       "      <td>FALSE</td>\n",
       "      <td>2196.74</td>\n",
       "      <td>Netbanking</td>\n",
       "      <td>Mobile</td>\n",
       "      <td>Organic</td>\n",
       "      <td>970.0</td>\n",
       "      <td>423.0</td>\n",
       "      <td>5.0</td>\n",
       "      <td>NaN</td>\n",
       "    </tr>\n",
       "    <tr>\n",
       "      <th>1</th>\n",
       "      <td>C133143</td>\n",
       "      <td>Karan Nair</td>\n",
       "      <td>Male</td>\n",
       "      <td>40.0</td>\n",
       "      <td>USA</td>\n",
       "      <td>O266464</td>\n",
       "      <td>25-12-2024</td>\n",
       "      <td>Clothing</td>\n",
       "      <td>Zara Casual Shirt</td>\n",
       "      <td>1843.29</td>\n",
       "      <td>...</td>\n",
       "      <td>0.0</td>\n",
       "      <td>FALSE</td>\n",
       "      <td>1843.29</td>\n",
       "      <td>Netbanking</td>\n",
       "      <td>Mobile</td>\n",
       "      <td>Search</td>\n",
       "      <td>240.0</td>\n",
       "      <td>917.0</td>\n",
       "      <td>3.0</td>\n",
       "      <td>Okay product</td>\n",
       "    </tr>\n",
       "    <tr>\n",
       "      <th>2</th>\n",
       "      <td>C105591</td>\n",
       "      <td>Aisha Varma</td>\n",
       "      <td>Female</td>\n",
       "      <td>40.0</td>\n",
       "      <td>Germany</td>\n",
       "      <td>O293227</td>\n",
       "      <td>23-04-2024</td>\n",
       "      <td>Electronics</td>\n",
       "      <td>Apple iPad 10th</td>\n",
       "      <td>26148.78</td>\n",
       "      <td>...</td>\n",
       "      <td>0.0</td>\n",
       "      <td>FALSE</td>\n",
       "      <td>26148.78</td>\n",
       "      <td>UPI</td>\n",
       "      <td>Mobile</td>\n",
       "      <td>Email</td>\n",
       "      <td>233.0</td>\n",
       "      <td>560.0</td>\n",
       "      <td>5.0</td>\n",
       "      <td>Very satisfied</td>\n",
       "    </tr>\n",
       "    <tr>\n",
       "      <th>3</th>\n",
       "      <td>C106172</td>\n",
       "      <td>Hemender Mehta</td>\n",
       "      <td>Male</td>\n",
       "      <td>18.0</td>\n",
       "      <td>UK</td>\n",
       "      <td>O201747</td>\n",
       "      <td>20-02-2024</td>\n",
       "      <td>Electronics</td>\n",
       "      <td>Apple iPad 10th</td>\n",
       "      <td>29340.19</td>\n",
       "      <td>...</td>\n",
       "      <td>0.0</td>\n",
       "      <td>FALSE</td>\n",
       "      <td>29340.19</td>\n",
       "      <td>UPI</td>\n",
       "      <td>Mobile</td>\n",
       "      <td>Ad</td>\n",
       "      <td>163.0</td>\n",
       "      <td>91.0</td>\n",
       "      <td>4.0</td>\n",
       "      <td>NaN</td>\n",
       "    </tr>\n",
       "    <tr>\n",
       "      <th>4</th>\n",
       "      <td>C134744</td>\n",
       "      <td>Vikram Mehta</td>\n",
       "      <td>Female</td>\n",
       "      <td>36.0</td>\n",
       "      <td>UK</td>\n",
       "      <td>O280004</td>\n",
       "      <td>25-02-2024</td>\n",
       "      <td>Electronics</td>\n",
       "      <td>Apple iPad 10th</td>\n",
       "      <td>24367.64</td>\n",
       "      <td>...</td>\n",
       "      <td>0.0</td>\n",
       "      <td>FALSE</td>\n",
       "      <td>24367.64</td>\n",
       "      <td>UPI</td>\n",
       "      <td>Mobile</td>\n",
       "      <td>Friend</td>\n",
       "      <td>149.0</td>\n",
       "      <td>11.0</td>\n",
       "      <td>4.0</td>\n",
       "      <td>NaN</td>\n",
       "    </tr>\n",
       "    <tr>\n",
       "      <th>...</th>\n",
       "      <td>...</td>\n",
       "      <td>...</td>\n",
       "      <td>...</td>\n",
       "      <td>...</td>\n",
       "      <td>...</td>\n",
       "      <td>...</td>\n",
       "      <td>...</td>\n",
       "      <td>...</td>\n",
       "      <td>...</td>\n",
       "      <td>...</td>\n",
       "      <td>...</td>\n",
       "      <td>...</td>\n",
       "      <td>...</td>\n",
       "      <td>...</td>\n",
       "      <td>...</td>\n",
       "      <td>...</td>\n",
       "      <td>...</td>\n",
       "      <td>...</td>\n",
       "      <td>...</td>\n",
       "      <td>...</td>\n",
       "      <td>...</td>\n",
       "    </tr>\n",
       "    <tr>\n",
       "      <th>100495</th>\n",
       "      <td>C140533</td>\n",
       "      <td>Fatima Nair</td>\n",
       "      <td>Male</td>\n",
       "      <td>18.0</td>\n",
       "      <td>UK</td>\n",
       "      <td>O206265</td>\n",
       "      <td>18-06-2024</td>\n",
       "      <td>Electronics</td>\n",
       "      <td>Apple iPad 10th</td>\n",
       "      <td>29838.26</td>\n",
       "      <td>...</td>\n",
       "      <td>5.0</td>\n",
       "      <td>TRUE</td>\n",
       "      <td>28346.35</td>\n",
       "      <td>UPI</td>\n",
       "      <td>Mobile</td>\n",
       "      <td>Organic</td>\n",
       "      <td>185.0</td>\n",
       "      <td>621.0</td>\n",
       "      <td>5.0</td>\n",
       "      <td>Great product</td>\n",
       "    </tr>\n",
       "    <tr>\n",
       "      <th>100496</th>\n",
       "      <td>C138850</td>\n",
       "      <td>Aisha Das</td>\n",
       "      <td>Female</td>\n",
       "      <td>44.0</td>\n",
       "      <td>Canada</td>\n",
       "      <td>O254886</td>\n",
       "      <td>16-02-2024</td>\n",
       "      <td>Clothing</td>\n",
       "      <td>Zara Casual Shirt</td>\n",
       "      <td>1828.11</td>\n",
       "      <td>...</td>\n",
       "      <td>0.0</td>\n",
       "      <td>FALSE</td>\n",
       "      <td>1828.11</td>\n",
       "      <td>UPI</td>\n",
       "      <td>Mobile</td>\n",
       "      <td>Social</td>\n",
       "      <td>204.0</td>\n",
       "      <td>8.0</td>\n",
       "      <td>3.0</td>\n",
       "      <td>NaN</td>\n",
       "    </tr>\n",
       "    <tr>\n",
       "      <th>100497</th>\n",
       "      <td>C110615</td>\n",
       "      <td>Aisha Joseph</td>\n",
       "      <td>Male</td>\n",
       "      <td>47.0</td>\n",
       "      <td>India</td>\n",
       "      <td>O276820</td>\n",
       "      <td>25-12-2024</td>\n",
       "      <td>Furniture</td>\n",
       "      <td>Office Ergonomic Chair</td>\n",
       "      <td>9024.69</td>\n",
       "      <td>...</td>\n",
       "      <td>5.0</td>\n",
       "      <td>TRUE</td>\n",
       "      <td>8573.46</td>\n",
       "      <td>UPI</td>\n",
       "      <td>Mobile</td>\n",
       "      <td>Friend</td>\n",
       "      <td>185.0</td>\n",
       "      <td>92.0</td>\n",
       "      <td>4.0</td>\n",
       "      <td>NaN</td>\n",
       "    </tr>\n",
       "    <tr>\n",
       "      <th>100498</th>\n",
       "      <td>C125593</td>\n",
       "      <td>Vikram  Reddy</td>\n",
       "      <td>Female</td>\n",
       "      <td>37.0</td>\n",
       "      <td>USA</td>\n",
       "      <td>O200860</td>\n",
       "      <td>24-12-2024</td>\n",
       "      <td>Clothing</td>\n",
       "      <td>Nike Running Shoes</td>\n",
       "      <td>3915.72</td>\n",
       "      <td>...</td>\n",
       "      <td>0.0</td>\n",
       "      <td>FALSE</td>\n",
       "      <td>15662.88</td>\n",
       "      <td>UPI</td>\n",
       "      <td>Desktop</td>\n",
       "      <td>Social</td>\n",
       "      <td>170.0</td>\n",
       "      <td>207.0</td>\n",
       "      <td>3.0</td>\n",
       "      <td>Nothing special</td>\n",
       "    </tr>\n",
       "    <tr>\n",
       "      <th>100499</th>\n",
       "      <td>C106543</td>\n",
       "      <td>Fatima Sharma</td>\n",
       "      <td>Male</td>\n",
       "      <td>30.0</td>\n",
       "      <td>USA</td>\n",
       "      <td>O215795</td>\n",
       "      <td>28-02-2024</td>\n",
       "      <td>Electronics</td>\n",
       "      <td>LG TV 43\"</td>\n",
       "      <td>15336.55</td>\n",
       "      <td>...</td>\n",
       "      <td>20.0</td>\n",
       "      <td>TRUE</td>\n",
       "      <td>36807.72</td>\n",
       "      <td>Card</td>\n",
       "      <td>Mobile</td>\n",
       "      <td>Ad</td>\n",
       "      <td>135.0</td>\n",
       "      <td>45.0</td>\n",
       "      <td>5.0</td>\n",
       "      <td>NaN</td>\n",
       "    </tr>\n",
       "  </tbody>\n",
       "</table>\n",
       "<p>100500 rows × 21 columns</p>\n",
       "</div>"
      ],
      "text/plain": [
       "       CustomerID    CustomerName  Gender   Age  Country  OrderID   OrderDate  \\\n",
       "0         C132389      Anil Singh  Female  18.0      USA  O278302  27-02-2024   \n",
       "1         C133143      Karan Nair    Male  40.0      USA  O266464  25-12-2024   \n",
       "2         C105591     Aisha Varma  Female  40.0  Germany  O293227  23-04-2024   \n",
       "3         C106172  Hemender Mehta    Male  18.0       UK  O201747  20-02-2024   \n",
       "4         C134744    Vikram Mehta  Female  36.0       UK  O280004  25-02-2024   \n",
       "...           ...             ...     ...   ...      ...      ...         ...   \n",
       "100495    C140533     Fatima Nair    Male  18.0       UK  O206265  18-06-2024   \n",
       "100496    C138850       Aisha Das  Female  44.0   Canada  O254886  16-02-2024   \n",
       "100497    C110615    Aisha Joseph    Male  47.0    India  O276820  25-12-2024   \n",
       "100498    C125593   Vikram  Reddy  Female  37.0      USA  O200860  24-12-2024   \n",
       "100499    C106543   Fatima Sharma    Male  30.0      USA  O215795  28-02-2024   \n",
       "\n",
       "       ProductCategory             ProductName     Price  ...  DiscountRate  \\\n",
       "0             Clothing       Zara Casual Shirt   2196.74  ...           0.0   \n",
       "1             Clothing       Zara Casual Shirt   1843.29  ...           0.0   \n",
       "2          Electronics         Apple iPad 10th  26148.78  ...           0.0   \n",
       "3          Electronics         Apple iPad 10th  29340.19  ...           0.0   \n",
       "4          Electronics         Apple iPad 10th  24367.64  ...           0.0   \n",
       "...                ...                     ...       ...  ...           ...   \n",
       "100495     Electronics         Apple iPad 10th  29838.26  ...           5.0   \n",
       "100496        Clothing       Zara Casual Shirt   1828.11  ...           0.0   \n",
       "100497       Furniture  Office Ergonomic Chair   9024.69  ...           5.0   \n",
       "100498        Clothing      Nike Running Shoes   3915.72  ...           0.0   \n",
       "100499     Electronics               LG TV 43\"  15336.55  ...          20.0   \n",
       "\n",
       "        HasDiscountApplied TotalAmount  PaymentMethod DeviceType  \\\n",
       "0                    FALSE     2196.74     Netbanking     Mobile   \n",
       "1                    FALSE     1843.29     Netbanking     Mobile   \n",
       "2                    FALSE    26148.78            UPI     Mobile   \n",
       "3                    FALSE    29340.19            UPI     Mobile   \n",
       "4                    FALSE    24367.64            UPI     Mobile   \n",
       "...                    ...         ...            ...        ...   \n",
       "100495                TRUE    28346.35            UPI     Mobile   \n",
       "100496               FALSE     1828.11            UPI     Mobile   \n",
       "100497                TRUE     8573.46            UPI     Mobile   \n",
       "100498               FALSE    15662.88            UPI    Desktop   \n",
       "100499                TRUE    36807.72           Card     Mobile   \n",
       "\n",
       "       ReferralSource SessionDuration  CustomerTenureDays  ReviewScore  \\\n",
       "0             Organic           970.0               423.0          5.0   \n",
       "1              Search           240.0               917.0          3.0   \n",
       "2               Email           233.0               560.0          5.0   \n",
       "3                  Ad           163.0                91.0          4.0   \n",
       "4              Friend           149.0                11.0          4.0   \n",
       "...               ...             ...                 ...          ...   \n",
       "100495        Organic           185.0               621.0          5.0   \n",
       "100496         Social           204.0                 8.0          3.0   \n",
       "100497         Friend           185.0                92.0          4.0   \n",
       "100498         Social           170.0               207.0          3.0   \n",
       "100499             Ad           135.0                45.0          5.0   \n",
       "\n",
       "             ReviewText  \n",
       "0                   NaN  \n",
       "1          Okay product  \n",
       "2        Very satisfied  \n",
       "3                   NaN  \n",
       "4                   NaN  \n",
       "...                 ...  \n",
       "100495    Great product  \n",
       "100496              NaN  \n",
       "100497              NaN  \n",
       "100498  Nothing special  \n",
       "100499              NaN  \n",
       "\n",
       "[100500 rows x 21 columns]"
      ]
     },
     "execution_count": 2,
     "metadata": {},
     "output_type": "execute_result"
    }
   ],
   "source": [
    "df=pd.read_csv('ecommerce_realistic_100k_messy.csv')\n",
    "df"
   ]
  },
  {
   "cell_type": "markdown",
   "id": "e7501ab6-1dd2-4c27-b135-c5738981685e",
   "metadata": {},
   "source": [
    "Data Preparation & Cleaning"
   ]
  },
  {
   "cell_type": "code",
   "execution_count": 3,
   "id": "0e6a974c-ed44-4db7-bc3c-1cb5f2f073b6",
   "metadata": {},
   "outputs": [
    {
     "data": {
      "text/html": [
       "<div>\n",
       "<style scoped>\n",
       "    .dataframe tbody tr th:only-of-type {\n",
       "        vertical-align: middle;\n",
       "    }\n",
       "\n",
       "    .dataframe tbody tr th {\n",
       "        vertical-align: top;\n",
       "    }\n",
       "\n",
       "    .dataframe thead th {\n",
       "        text-align: right;\n",
       "    }\n",
       "</style>\n",
       "<table border=\"1\" class=\"dataframe\">\n",
       "  <thead>\n",
       "    <tr style=\"text-align: right;\">\n",
       "      <th></th>\n",
       "      <th>CustomerID</th>\n",
       "      <th>CustomerName</th>\n",
       "      <th>Gender</th>\n",
       "      <th>Age</th>\n",
       "      <th>Country</th>\n",
       "      <th>OrderID</th>\n",
       "      <th>OrderDate</th>\n",
       "      <th>ProductCategory</th>\n",
       "      <th>ProductName</th>\n",
       "      <th>Price</th>\n",
       "      <th>...</th>\n",
       "      <th>DiscountRate</th>\n",
       "      <th>HasDiscountApplied</th>\n",
       "      <th>TotalAmount</th>\n",
       "      <th>PaymentMethod</th>\n",
       "      <th>DeviceType</th>\n",
       "      <th>ReferralSource</th>\n",
       "      <th>SessionDuration</th>\n",
       "      <th>CustomerTenureDays</th>\n",
       "      <th>ReviewScore</th>\n",
       "      <th>ReviewText</th>\n",
       "    </tr>\n",
       "  </thead>\n",
       "  <tbody>\n",
       "    <tr>\n",
       "      <th>0</th>\n",
       "      <td>C132389</td>\n",
       "      <td>Anil Singh</td>\n",
       "      <td>Female</td>\n",
       "      <td>18.0</td>\n",
       "      <td>USA</td>\n",
       "      <td>O278302</td>\n",
       "      <td>27-02-2024</td>\n",
       "      <td>Clothing</td>\n",
       "      <td>Zara Casual Shirt</td>\n",
       "      <td>2196.74</td>\n",
       "      <td>...</td>\n",
       "      <td>0.0</td>\n",
       "      <td>FALSE</td>\n",
       "      <td>2196.74</td>\n",
       "      <td>Netbanking</td>\n",
       "      <td>Mobile</td>\n",
       "      <td>Organic</td>\n",
       "      <td>970.0</td>\n",
       "      <td>423.0</td>\n",
       "      <td>5.0</td>\n",
       "      <td>NaN</td>\n",
       "    </tr>\n",
       "    <tr>\n",
       "      <th>1</th>\n",
       "      <td>C133143</td>\n",
       "      <td>Karan Nair</td>\n",
       "      <td>Male</td>\n",
       "      <td>40.0</td>\n",
       "      <td>USA</td>\n",
       "      <td>O266464</td>\n",
       "      <td>25-12-2024</td>\n",
       "      <td>Clothing</td>\n",
       "      <td>Zara Casual Shirt</td>\n",
       "      <td>1843.29</td>\n",
       "      <td>...</td>\n",
       "      <td>0.0</td>\n",
       "      <td>FALSE</td>\n",
       "      <td>1843.29</td>\n",
       "      <td>Netbanking</td>\n",
       "      <td>Mobile</td>\n",
       "      <td>Search</td>\n",
       "      <td>240.0</td>\n",
       "      <td>917.0</td>\n",
       "      <td>3.0</td>\n",
       "      <td>Okay product</td>\n",
       "    </tr>\n",
       "    <tr>\n",
       "      <th>2</th>\n",
       "      <td>C105591</td>\n",
       "      <td>Aisha Varma</td>\n",
       "      <td>Female</td>\n",
       "      <td>40.0</td>\n",
       "      <td>Germany</td>\n",
       "      <td>O293227</td>\n",
       "      <td>23-04-2024</td>\n",
       "      <td>Electronics</td>\n",
       "      <td>Apple iPad 10th</td>\n",
       "      <td>26148.78</td>\n",
       "      <td>...</td>\n",
       "      <td>0.0</td>\n",
       "      <td>FALSE</td>\n",
       "      <td>26148.78</td>\n",
       "      <td>UPI</td>\n",
       "      <td>Mobile</td>\n",
       "      <td>Email</td>\n",
       "      <td>233.0</td>\n",
       "      <td>560.0</td>\n",
       "      <td>5.0</td>\n",
       "      <td>Very satisfied</td>\n",
       "    </tr>\n",
       "    <tr>\n",
       "      <th>3</th>\n",
       "      <td>C106172</td>\n",
       "      <td>Hemender Mehta</td>\n",
       "      <td>Male</td>\n",
       "      <td>18.0</td>\n",
       "      <td>UK</td>\n",
       "      <td>O201747</td>\n",
       "      <td>20-02-2024</td>\n",
       "      <td>Electronics</td>\n",
       "      <td>Apple iPad 10th</td>\n",
       "      <td>29340.19</td>\n",
       "      <td>...</td>\n",
       "      <td>0.0</td>\n",
       "      <td>FALSE</td>\n",
       "      <td>29340.19</td>\n",
       "      <td>UPI</td>\n",
       "      <td>Mobile</td>\n",
       "      <td>Ad</td>\n",
       "      <td>163.0</td>\n",
       "      <td>91.0</td>\n",
       "      <td>4.0</td>\n",
       "      <td>NaN</td>\n",
       "    </tr>\n",
       "    <tr>\n",
       "      <th>4</th>\n",
       "      <td>C134744</td>\n",
       "      <td>Vikram Mehta</td>\n",
       "      <td>Female</td>\n",
       "      <td>36.0</td>\n",
       "      <td>UK</td>\n",
       "      <td>O280004</td>\n",
       "      <td>25-02-2024</td>\n",
       "      <td>Electronics</td>\n",
       "      <td>Apple iPad 10th</td>\n",
       "      <td>24367.64</td>\n",
       "      <td>...</td>\n",
       "      <td>0.0</td>\n",
       "      <td>FALSE</td>\n",
       "      <td>24367.64</td>\n",
       "      <td>UPI</td>\n",
       "      <td>Mobile</td>\n",
       "      <td>Friend</td>\n",
       "      <td>149.0</td>\n",
       "      <td>11.0</td>\n",
       "      <td>4.0</td>\n",
       "      <td>NaN</td>\n",
       "    </tr>\n",
       "  </tbody>\n",
       "</table>\n",
       "<p>5 rows × 21 columns</p>\n",
       "</div>"
      ],
      "text/plain": [
       "  CustomerID    CustomerName  Gender   Age  Country  OrderID   OrderDate  \\\n",
       "0    C132389      Anil Singh  Female  18.0      USA  O278302  27-02-2024   \n",
       "1    C133143      Karan Nair    Male  40.0      USA  O266464  25-12-2024   \n",
       "2    C105591     Aisha Varma  Female  40.0  Germany  O293227  23-04-2024   \n",
       "3    C106172  Hemender Mehta    Male  18.0       UK  O201747  20-02-2024   \n",
       "4    C134744    Vikram Mehta  Female  36.0       UK  O280004  25-02-2024   \n",
       "\n",
       "  ProductCategory        ProductName     Price  ...  DiscountRate  \\\n",
       "0        Clothing  Zara Casual Shirt   2196.74  ...           0.0   \n",
       "1        Clothing  Zara Casual Shirt   1843.29  ...           0.0   \n",
       "2     Electronics    Apple iPad 10th  26148.78  ...           0.0   \n",
       "3     Electronics    Apple iPad 10th  29340.19  ...           0.0   \n",
       "4     Electronics    Apple iPad 10th  24367.64  ...           0.0   \n",
       "\n",
       "   HasDiscountApplied TotalAmount  PaymentMethod DeviceType ReferralSource  \\\n",
       "0               FALSE     2196.74     Netbanking     Mobile        Organic   \n",
       "1               FALSE     1843.29     Netbanking     Mobile         Search   \n",
       "2               FALSE    26148.78            UPI     Mobile          Email   \n",
       "3               FALSE    29340.19            UPI     Mobile             Ad   \n",
       "4               FALSE    24367.64            UPI     Mobile         Friend   \n",
       "\n",
       "  SessionDuration  CustomerTenureDays  ReviewScore      ReviewText  \n",
       "0           970.0               423.0          5.0             NaN  \n",
       "1           240.0               917.0          3.0    Okay product  \n",
       "2           233.0               560.0          5.0  Very satisfied  \n",
       "3           163.0                91.0          4.0             NaN  \n",
       "4           149.0                11.0          4.0             NaN  \n",
       "\n",
       "[5 rows x 21 columns]"
      ]
     },
     "execution_count": 3,
     "metadata": {},
     "output_type": "execute_result"
    }
   ],
   "source": [
    "df.head()"
   ]
  },
  {
   "cell_type": "code",
   "execution_count": 4,
   "id": "f322ce66-a9dd-41d8-8c9a-4ff5d22ce736",
   "metadata": {},
   "outputs": [
    {
     "data": {
      "text/plain": [
       "(100500, 21)"
      ]
     },
     "execution_count": 4,
     "metadata": {},
     "output_type": "execute_result"
    }
   ],
   "source": [
    "df.shape"
   ]
  },
  {
   "cell_type": "code",
   "execution_count": 5,
   "id": "9eb8a86a-fe32-4639-81f4-ed40c62323ce",
   "metadata": {},
   "outputs": [
    {
     "data": {
      "text/html": [
       "<div>\n",
       "<style scoped>\n",
       "    .dataframe tbody tr th:only-of-type {\n",
       "        vertical-align: middle;\n",
       "    }\n",
       "\n",
       "    .dataframe tbody tr th {\n",
       "        vertical-align: top;\n",
       "    }\n",
       "\n",
       "    .dataframe thead th {\n",
       "        text-align: right;\n",
       "    }\n",
       "</style>\n",
       "<table border=\"1\" class=\"dataframe\">\n",
       "  <thead>\n",
       "    <tr style=\"text-align: right;\">\n",
       "      <th></th>\n",
       "      <th>Age</th>\n",
       "      <th>Price</th>\n",
       "      <th>Quantity</th>\n",
       "      <th>DiscountRate</th>\n",
       "      <th>TotalAmount</th>\n",
       "      <th>SessionDuration</th>\n",
       "      <th>CustomerTenureDays</th>\n",
       "      <th>ReviewScore</th>\n",
       "    </tr>\n",
       "  </thead>\n",
       "  <tbody>\n",
       "    <tr>\n",
       "      <th>count</th>\n",
       "      <td>100500.000000</td>\n",
       "      <td>100500.000000</td>\n",
       "      <td>100500.000000</td>\n",
       "      <td>100500.000000</td>\n",
       "      <td>100500.000000</td>\n",
       "      <td>100500.000000</td>\n",
       "      <td>100500.000000</td>\n",
       "      <td>100500.000000</td>\n",
       "    </tr>\n",
       "    <tr>\n",
       "      <th>mean</th>\n",
       "      <td>32.225189</td>\n",
       "      <td>12969.015061</td>\n",
       "      <td>1.373490</td>\n",
       "      <td>3.732758</td>\n",
       "      <td>16636.518828</td>\n",
       "      <td>322.946302</td>\n",
       "      <td>402.047919</td>\n",
       "      <td>3.629075</td>\n",
       "    </tr>\n",
       "    <tr>\n",
       "      <th>std</th>\n",
       "      <td>9.410431</td>\n",
       "      <td>14705.752729</td>\n",
       "      <td>0.799082</td>\n",
       "      <td>5.572621</td>\n",
       "      <td>23898.641885</td>\n",
       "      <td>297.289047</td>\n",
       "      <td>403.322816</td>\n",
       "      <td>1.108081</td>\n",
       "    </tr>\n",
       "    <tr>\n",
       "      <th>min</th>\n",
       "      <td>18.000000</td>\n",
       "      <td>255.050000</td>\n",
       "      <td>1.000000</td>\n",
       "      <td>0.000000</td>\n",
       "      <td>204.380000</td>\n",
       "      <td>16.191353</td>\n",
       "      <td>0.000000</td>\n",
       "      <td>0.919006</td>\n",
       "    </tr>\n",
       "    <tr>\n",
       "      <th>25%</th>\n",
       "      <td>25.000000</td>\n",
       "      <td>1896.890000</td>\n",
       "      <td>1.000000</td>\n",
       "      <td>0.000000</td>\n",
       "      <td>2085.767500</td>\n",
       "      <td>112.000000</td>\n",
       "      <td>115.000000</td>\n",
       "      <td>3.000000</td>\n",
       "    </tr>\n",
       "    <tr>\n",
       "      <th>50%</th>\n",
       "      <td>32.000000</td>\n",
       "      <td>7769.295000</td>\n",
       "      <td>1.000000</td>\n",
       "      <td>0.000000</td>\n",
       "      <td>8025.115000</td>\n",
       "      <td>231.000000</td>\n",
       "      <td>278.000000</td>\n",
       "      <td>4.000000</td>\n",
       "    </tr>\n",
       "    <tr>\n",
       "      <th>75%</th>\n",
       "      <td>39.000000</td>\n",
       "      <td>18445.222500</td>\n",
       "      <td>1.000000</td>\n",
       "      <td>5.000000</td>\n",
       "      <td>22620.780000</td>\n",
       "      <td>436.000000</td>\n",
       "      <td>556.000000</td>\n",
       "      <td>4.000000</td>\n",
       "    </tr>\n",
       "    <tr>\n",
       "      <th>max</th>\n",
       "      <td>81.772819</td>\n",
       "      <td>74911.034740</td>\n",
       "      <td>5.883613</td>\n",
       "      <td>28.270089</td>\n",
       "      <td>249669.520000</td>\n",
       "      <td>3465.000000</td>\n",
       "      <td>6287.000000</td>\n",
       "      <td>5.000000</td>\n",
       "    </tr>\n",
       "  </tbody>\n",
       "</table>\n",
       "</div>"
      ],
      "text/plain": [
       "                 Age          Price       Quantity   DiscountRate  \\\n",
       "count  100500.000000  100500.000000  100500.000000  100500.000000   \n",
       "mean       32.225189   12969.015061       1.373490       3.732758   \n",
       "std         9.410431   14705.752729       0.799082       5.572621   \n",
       "min        18.000000     255.050000       1.000000       0.000000   \n",
       "25%        25.000000    1896.890000       1.000000       0.000000   \n",
       "50%        32.000000    7769.295000       1.000000       0.000000   \n",
       "75%        39.000000   18445.222500       1.000000       5.000000   \n",
       "max        81.772819   74911.034740       5.883613      28.270089   \n",
       "\n",
       "         TotalAmount  SessionDuration  CustomerTenureDays    ReviewScore  \n",
       "count  100500.000000    100500.000000       100500.000000  100500.000000  \n",
       "mean    16636.518828       322.946302          402.047919       3.629075  \n",
       "std     23898.641885       297.289047          403.322816       1.108081  \n",
       "min       204.380000        16.191353            0.000000       0.919006  \n",
       "25%      2085.767500       112.000000          115.000000       3.000000  \n",
       "50%      8025.115000       231.000000          278.000000       4.000000  \n",
       "75%     22620.780000       436.000000          556.000000       4.000000  \n",
       "max    249669.520000      3465.000000         6287.000000       5.000000  "
      ]
     },
     "execution_count": 5,
     "metadata": {},
     "output_type": "execute_result"
    }
   ],
   "source": [
    "df.describe()"
   ]
  },
  {
   "cell_type": "code",
   "execution_count": 6,
   "id": "ccbe38b2-808c-4f2c-93a8-8e2ec0b28d7e",
   "metadata": {},
   "outputs": [
    {
     "data": {
      "text/plain": [
       "CustomerID                0\n",
       "CustomerName            966\n",
       "Gender                    0\n",
       "Age                       0\n",
       "Country                   0\n",
       "OrderID                   0\n",
       "OrderDate                 0\n",
       "ProductCategory           0\n",
       "ProductName             975\n",
       "Price                     0\n",
       "Quantity                  0\n",
       "DiscountRate              0\n",
       "HasDiscountApplied        0\n",
       "TotalAmount               0\n",
       "PaymentMethod          1010\n",
       "DeviceType                0\n",
       "ReferralSource            0\n",
       "SessionDuration           0\n",
       "CustomerTenureDays        0\n",
       "ReviewScore               0\n",
       "ReviewText            58538\n",
       "dtype: int64"
      ]
     },
     "execution_count": 6,
     "metadata": {},
     "output_type": "execute_result"
    }
   ],
   "source": [
    "df.isnull().sum()"
   ]
  },
  {
   "cell_type": "code",
   "execution_count": 7,
   "id": "8b7ad231-d317-499e-aee7-565247ea6de5",
   "metadata": {},
   "outputs": [
    {
     "name": "stdout",
     "output_type": "stream",
     "text": [
      "<class 'pandas.core.frame.DataFrame'>\n",
      "RangeIndex: 100500 entries, 0 to 100499\n",
      "Data columns (total 21 columns):\n",
      " #   Column              Non-Null Count   Dtype  \n",
      "---  ------              --------------   -----  \n",
      " 0   CustomerID          100500 non-null  object \n",
      " 1   CustomerName        99534 non-null   object \n",
      " 2   Gender              100500 non-null  object \n",
      " 3   Age                 100500 non-null  float64\n",
      " 4   Country             100500 non-null  object \n",
      " 5   OrderID             100500 non-null  object \n",
      " 6   OrderDate           100500 non-null  object \n",
      " 7   ProductCategory     100500 non-null  object \n",
      " 8   ProductName         99525 non-null   object \n",
      " 9   Price               100500 non-null  float64\n",
      " 10  Quantity            100500 non-null  float64\n",
      " 11  DiscountRate        100500 non-null  float64\n",
      " 12  HasDiscountApplied  100500 non-null  object \n",
      " 13  TotalAmount         100500 non-null  float64\n",
      " 14  PaymentMethod       99490 non-null   object \n",
      " 15  DeviceType          100500 non-null  object \n",
      " 16  ReferralSource      100500 non-null  object \n",
      " 17  SessionDuration     100500 non-null  float64\n",
      " 18  CustomerTenureDays  100500 non-null  float64\n",
      " 19  ReviewScore         100500 non-null  float64\n",
      " 20  ReviewText          41962 non-null   object \n",
      "dtypes: float64(8), object(13)\n",
      "memory usage: 16.1+ MB\n"
     ]
    }
   ],
   "source": [
    "df.info()"
   ]
  },
  {
   "cell_type": "markdown",
   "id": "6ad011eb-3582-4046-b065-abce33ceba94",
   "metadata": {},
   "source": [
    "First lets clean Data for easier analysis"
   ]
  },
  {
   "cell_type": "code",
   "execution_count": 8,
   "id": "74d47615-89bc-4735-aaee-1f96f228b14c",
   "metadata": {},
   "outputs": [
    {
     "data": {
      "text/html": [
       "<div>\n",
       "<style scoped>\n",
       "    .dataframe tbody tr th:only-of-type {\n",
       "        vertical-align: middle;\n",
       "    }\n",
       "\n",
       "    .dataframe tbody tr th {\n",
       "        vertical-align: top;\n",
       "    }\n",
       "\n",
       "    .dataframe thead th {\n",
       "        text-align: right;\n",
       "    }\n",
       "</style>\n",
       "<table border=\"1\" class=\"dataframe\">\n",
       "  <thead>\n",
       "    <tr style=\"text-align: right;\">\n",
       "      <th></th>\n",
       "      <th>Age</th>\n",
       "      <th>Price</th>\n",
       "      <th>Quantity</th>\n",
       "      <th>DiscountRate</th>\n",
       "      <th>TotalAmount</th>\n",
       "      <th>SessionDuration</th>\n",
       "      <th>CustomerTenureDays</th>\n",
       "      <th>ReviewScore</th>\n",
       "    </tr>\n",
       "  </thead>\n",
       "  <tbody>\n",
       "    <tr>\n",
       "      <th>count</th>\n",
       "      <td>100500.000000</td>\n",
       "      <td>100500.000000</td>\n",
       "      <td>100500.000000</td>\n",
       "      <td>100500.000000</td>\n",
       "      <td>100500.000000</td>\n",
       "      <td>100500.000000</td>\n",
       "      <td>100500.000000</td>\n",
       "      <td>100500.000000</td>\n",
       "    </tr>\n",
       "    <tr>\n",
       "      <th>mean</th>\n",
       "      <td>32.225189</td>\n",
       "      <td>12969.015061</td>\n",
       "      <td>1.373490</td>\n",
       "      <td>3.732758</td>\n",
       "      <td>16636.518828</td>\n",
       "      <td>322.946302</td>\n",
       "      <td>402.047919</td>\n",
       "      <td>3.629075</td>\n",
       "    </tr>\n",
       "    <tr>\n",
       "      <th>std</th>\n",
       "      <td>9.410431</td>\n",
       "      <td>14705.752729</td>\n",
       "      <td>0.799082</td>\n",
       "      <td>5.572621</td>\n",
       "      <td>23898.641885</td>\n",
       "      <td>297.289047</td>\n",
       "      <td>403.322816</td>\n",
       "      <td>1.108081</td>\n",
       "    </tr>\n",
       "    <tr>\n",
       "      <th>min</th>\n",
       "      <td>18.000000</td>\n",
       "      <td>255.050000</td>\n",
       "      <td>1.000000</td>\n",
       "      <td>0.000000</td>\n",
       "      <td>204.380000</td>\n",
       "      <td>16.191353</td>\n",
       "      <td>0.000000</td>\n",
       "      <td>0.919006</td>\n",
       "    </tr>\n",
       "    <tr>\n",
       "      <th>25%</th>\n",
       "      <td>25.000000</td>\n",
       "      <td>1896.890000</td>\n",
       "      <td>1.000000</td>\n",
       "      <td>0.000000</td>\n",
       "      <td>2085.767500</td>\n",
       "      <td>112.000000</td>\n",
       "      <td>115.000000</td>\n",
       "      <td>3.000000</td>\n",
       "    </tr>\n",
       "    <tr>\n",
       "      <th>50%</th>\n",
       "      <td>32.000000</td>\n",
       "      <td>7769.295000</td>\n",
       "      <td>1.000000</td>\n",
       "      <td>0.000000</td>\n",
       "      <td>8025.115000</td>\n",
       "      <td>231.000000</td>\n",
       "      <td>278.000000</td>\n",
       "      <td>4.000000</td>\n",
       "    </tr>\n",
       "    <tr>\n",
       "      <th>75%</th>\n",
       "      <td>39.000000</td>\n",
       "      <td>18445.222500</td>\n",
       "      <td>1.000000</td>\n",
       "      <td>5.000000</td>\n",
       "      <td>22620.780000</td>\n",
       "      <td>436.000000</td>\n",
       "      <td>556.000000</td>\n",
       "      <td>4.000000</td>\n",
       "    </tr>\n",
       "    <tr>\n",
       "      <th>max</th>\n",
       "      <td>81.772819</td>\n",
       "      <td>74911.034740</td>\n",
       "      <td>5.883613</td>\n",
       "      <td>28.270089</td>\n",
       "      <td>249669.520000</td>\n",
       "      <td>3465.000000</td>\n",
       "      <td>6287.000000</td>\n",
       "      <td>5.000000</td>\n",
       "    </tr>\n",
       "  </tbody>\n",
       "</table>\n",
       "</div>"
      ],
      "text/plain": [
       "                 Age          Price       Quantity   DiscountRate  \\\n",
       "count  100500.000000  100500.000000  100500.000000  100500.000000   \n",
       "mean       32.225189   12969.015061       1.373490       3.732758   \n",
       "std         9.410431   14705.752729       0.799082       5.572621   \n",
       "min        18.000000     255.050000       1.000000       0.000000   \n",
       "25%        25.000000    1896.890000       1.000000       0.000000   \n",
       "50%        32.000000    7769.295000       1.000000       0.000000   \n",
       "75%        39.000000   18445.222500       1.000000       5.000000   \n",
       "max        81.772819   74911.034740       5.883613      28.270089   \n",
       "\n",
       "         TotalAmount  SessionDuration  CustomerTenureDays    ReviewScore  \n",
       "count  100500.000000    100500.000000       100500.000000  100500.000000  \n",
       "mean    16636.518828       322.946302          402.047919       3.629075  \n",
       "std     23898.641885       297.289047          403.322816       1.108081  \n",
       "min       204.380000        16.191353            0.000000       0.919006  \n",
       "25%      2085.767500       112.000000          115.000000       3.000000  \n",
       "50%      8025.115000       231.000000          278.000000       4.000000  \n",
       "75%     22620.780000       436.000000          556.000000       4.000000  \n",
       "max    249669.520000      3465.000000         6287.000000       5.000000  "
      ]
     },
     "execution_count": 8,
     "metadata": {},
     "output_type": "execute_result"
    }
   ],
   "source": [
    "df.describe()"
   ]
  },
  {
   "cell_type": "code",
   "execution_count": 9,
   "id": "35a28bf7-8d04-4909-a715-85a5438199a7",
   "metadata": {},
   "outputs": [
    {
     "data": {
      "text/plain": [
       "0         C132389\n",
       "1         C133143\n",
       "2         C105591\n",
       "3         C106172\n",
       "4         C134744\n",
       "           ...   \n",
       "100495    C140533\n",
       "100496    C138850\n",
       "100497    C110615\n",
       "100498    C125593\n",
       "100499    C106543\n",
       "Name: CustomerID, Length: 100500, dtype: object"
      ]
     },
     "execution_count": 9,
     "metadata": {},
     "output_type": "execute_result"
    }
   ],
   "source": [
    "df['CustomerID']"
   ]
  },
  {
   "cell_type": "code",
   "execution_count": 10,
   "id": "e9b0899c-5857-4682-bf35-f8f2b8cb9c0c",
   "metadata": {},
   "outputs": [
    {
     "data": {
      "text/plain": [
       "np.int64(0)"
      ]
     },
     "execution_count": 10,
     "metadata": {},
     "output_type": "execute_result"
    }
   ],
   "source": [
    "df['CustomerID'].isnull().sum()"
   ]
  },
  {
   "cell_type": "code",
   "execution_count": 11,
   "id": "9c29e335-0280-4398-bf21-b971faf128dc",
   "metadata": {},
   "outputs": [
    {
     "data": {
      "text/plain": [
       "45764"
      ]
     },
     "execution_count": 11,
     "metadata": {},
     "output_type": "execute_result"
    }
   ],
   "source": [
    "df['CustomerID'].nunique()"
   ]
  },
  {
   "cell_type": "code",
   "execution_count": 12,
   "id": "0ee2d60e-7fb9-4785-9018-f23dd8c86294",
   "metadata": {},
   "outputs": [
    {
     "data": {
      "text/plain": [
       "dtype('O')"
      ]
     },
     "execution_count": 12,
     "metadata": {},
     "output_type": "execute_result"
    }
   ],
   "source": [
    "df['CustomerID'].dtype"
   ]
  },
  {
   "cell_type": "code",
   "execution_count": 13,
   "id": "724d9891-8ef0-4ff9-bfb0-1f0499c61f01",
   "metadata": {},
   "outputs": [],
   "source": [
    "df['CustomerID']=df['CustomerID'].astype(str).str.strip().str.title()"
   ]
  },
  {
   "cell_type": "code",
   "execution_count": 14,
   "id": "01bcf6f6-1aa5-4624-96bb-cb5fc9069602",
   "metadata": {},
   "outputs": [
    {
     "data": {
      "text/plain": [
       "0         C132389\n",
       "1         C133143\n",
       "2         C105591\n",
       "3         C106172\n",
       "4         C134744\n",
       "           ...   \n",
       "100495    C140533\n",
       "100496    C138850\n",
       "100497    C110615\n",
       "100498    C125593\n",
       "100499    C106543\n",
       "Name: CustomerID, Length: 100500, dtype: object"
      ]
     },
     "execution_count": 14,
     "metadata": {},
     "output_type": "execute_result"
    }
   ],
   "source": [
    "df['CustomerID']"
   ]
  },
  {
   "cell_type": "code",
   "execution_count": 15,
   "id": "31971ea8-3acd-4630-8eec-c69c4cee8fe4",
   "metadata": {},
   "outputs": [
    {
     "data": {
      "text/plain": [
       "0             Anil Singh\n",
       "1             Karan Nair\n",
       "2            Aisha Varma\n",
       "3         Hemender Mehta\n",
       "4           Vikram Mehta\n",
       "               ...      \n",
       "100495       Fatima Nair\n",
       "100496         Aisha Das\n",
       "100497      Aisha Joseph\n",
       "100498     Vikram  Reddy\n",
       "100499     Fatima Sharma\n",
       "Name: CustomerName, Length: 100500, dtype: object"
      ]
     },
     "execution_count": 15,
     "metadata": {},
     "output_type": "execute_result"
    }
   ],
   "source": [
    "df['CustomerName']"
   ]
  },
  {
   "cell_type": "code",
   "execution_count": 16,
   "id": "471736a1-17f3-4d97-95b4-bce2c7d3ab6c",
   "metadata": {},
   "outputs": [],
   "source": [
    "df['CustomerName']=df['CustomerName'].astype(str).str.strip().str.title()"
   ]
  },
  {
   "cell_type": "code",
   "execution_count": 17,
   "id": "760682a9-42d0-42e5-a81d-9efacd4411a8",
   "metadata": {},
   "outputs": [
    {
     "data": {
      "text/plain": [
       "0             Anil Singh\n",
       "1             Karan Nair\n",
       "2            Aisha Varma\n",
       "3         Hemender Mehta\n",
       "4           Vikram Mehta\n",
       "               ...      \n",
       "100495       Fatima Nair\n",
       "100496         Aisha Das\n",
       "100497      Aisha Joseph\n",
       "100498     Vikram  Reddy\n",
       "100499     Fatima Sharma\n",
       "Name: CustomerName, Length: 100500, dtype: object"
      ]
     },
     "execution_count": 17,
     "metadata": {},
     "output_type": "execute_result"
    }
   ],
   "source": [
    "df['CustomerName']"
   ]
  },
  {
   "cell_type": "code",
   "execution_count": 18,
   "id": "86b832c1-9d47-4442-9dd9-c50deab5ff70",
   "metadata": {},
   "outputs": [
    {
     "data": {
      "text/plain": [
       "0             Anil Singh\n",
       "1             Karan Nair\n",
       "2            Aisha Varma\n",
       "3         Hemender Mehta\n",
       "4           Vikram Mehta\n",
       "               ...      \n",
       "100495       Fatima Nair\n",
       "100496         Aisha Das\n",
       "100497      Aisha Joseph\n",
       "100498     Vikram  Reddy\n",
       "100499     Fatima Sharma\n",
       "Name: CustomerName, Length: 100500, dtype: object"
      ]
     },
     "execution_count": 18,
     "metadata": {},
     "output_type": "execute_result"
    }
   ],
   "source": [
    "df['CustomerName']"
   ]
  },
  {
   "cell_type": "code",
   "execution_count": 19,
   "id": "ac619f18-0552-41ca-9e0a-45d291bdab6c",
   "metadata": {},
   "outputs": [
    {
     "data": {
      "text/plain": [
       "np.int64(0)"
      ]
     },
     "execution_count": 19,
     "metadata": {},
     "output_type": "execute_result"
    }
   ],
   "source": [
    "df['CustomerName'].isnull().sum()"
   ]
  },
  {
   "cell_type": "code",
   "execution_count": 20,
   "id": "270d6bcb-7c3e-490f-b397-0440b9b1a966",
   "metadata": {},
   "outputs": [
    {
     "data": {
      "text/plain": [
       "0             Anil Singh\n",
       "1             Karan Nair\n",
       "2            Aisha Varma\n",
       "3         Hemender Mehta\n",
       "4           Vikram Mehta\n",
       "               ...      \n",
       "100495       Fatima Nair\n",
       "100496         Aisha Das\n",
       "100497      Aisha Joseph\n",
       "100498     Vikram  Reddy\n",
       "100499     Fatima Sharma\n",
       "Name: CustomerName, Length: 100500, dtype: object"
      ]
     },
     "execution_count": 20,
     "metadata": {},
     "output_type": "execute_result"
    }
   ],
   "source": [
    "df['CustomerName']"
   ]
  },
  {
   "cell_type": "code",
   "execution_count": 21,
   "id": "f78e02bb-84c2-4faa-9439-878192133b60",
   "metadata": {},
   "outputs": [
    {
     "data": {
      "text/plain": [
       "CustomerID                      C121856\n",
       "CustomerName                        Nan\n",
       "Gender                             Male\n",
       "Age                                18.0\n",
       "Country                          Canada\n",
       "OrderID                         O204881\n",
       "OrderDate                    04-07-2024\n",
       "ProductCategory                Clothing\n",
       "ProductName           Zara Casual Shirt\n",
       "Price                           2176.68\n",
       "Quantity                            1.0\n",
       "DiscountRate                        0.0\n",
       "HasDiscountApplied                FALSE\n",
       "TotalAmount                     2176.68\n",
       "PaymentMethod                       UPI\n",
       "DeviceType                       Mobile\n",
       "ReferralSource                   Friend\n",
       "SessionDuration                    39.0\n",
       "CustomerTenureDays                653.0\n",
       "ReviewScore                         1.0\n",
       "ReviewText                          NaN\n",
       "Name: 291, dtype: object"
      ]
     },
     "execution_count": 21,
     "metadata": {},
     "output_type": "execute_result"
    }
   ],
   "source": [
    "df.iloc[291]"
   ]
  },
  {
   "cell_type": "code",
   "execution_count": 22,
   "id": "063b057e-1c0b-4aa9-8f3a-9393a70d445c",
   "metadata": {
    "scrolled": true
   },
   "outputs": [
    {
     "data": {
      "text/html": [
       "<div>\n",
       "<style scoped>\n",
       "    .dataframe tbody tr th:only-of-type {\n",
       "        vertical-align: middle;\n",
       "    }\n",
       "\n",
       "    .dataframe tbody tr th {\n",
       "        vertical-align: top;\n",
       "    }\n",
       "\n",
       "    .dataframe thead th {\n",
       "        text-align: right;\n",
       "    }\n",
       "</style>\n",
       "<table border=\"1\" class=\"dataframe\">\n",
       "  <thead>\n",
       "    <tr style=\"text-align: right;\">\n",
       "      <th></th>\n",
       "      <th>CustomerID</th>\n",
       "      <th>CustomerName</th>\n",
       "      <th>Gender</th>\n",
       "      <th>Age</th>\n",
       "      <th>Country</th>\n",
       "      <th>OrderID</th>\n",
       "      <th>OrderDate</th>\n",
       "      <th>ProductCategory</th>\n",
       "      <th>ProductName</th>\n",
       "      <th>Price</th>\n",
       "      <th>...</th>\n",
       "      <th>DiscountRate</th>\n",
       "      <th>HasDiscountApplied</th>\n",
       "      <th>TotalAmount</th>\n",
       "      <th>PaymentMethod</th>\n",
       "      <th>DeviceType</th>\n",
       "      <th>ReferralSource</th>\n",
       "      <th>SessionDuration</th>\n",
       "      <th>CustomerTenureDays</th>\n",
       "      <th>ReviewScore</th>\n",
       "      <th>ReviewText</th>\n",
       "    </tr>\n",
       "  </thead>\n",
       "  <tbody>\n",
       "    <tr>\n",
       "      <th>167</th>\n",
       "      <td>C120005</td>\n",
       "      <td>Nan</td>\n",
       "      <td>Male</td>\n",
       "      <td>49.000000</td>\n",
       "      <td>India</td>\n",
       "      <td>O242731</td>\n",
       "      <td>01-12-2024</td>\n",
       "      <td>Clothing</td>\n",
       "      <td>Nike Running Shoes</td>\n",
       "      <td>4023.00000</td>\n",
       "      <td>...</td>\n",
       "      <td>0.0</td>\n",
       "      <td>FALSE</td>\n",
       "      <td>4023.000000</td>\n",
       "      <td>UPI</td>\n",
       "      <td>Mobile</td>\n",
       "      <td>Friend</td>\n",
       "      <td>1101.00000</td>\n",
       "      <td>3.000000</td>\n",
       "      <td>4.000000</td>\n",
       "      <td>NaN</td>\n",
       "    </tr>\n",
       "    <tr>\n",
       "      <th>291</th>\n",
       "      <td>C121856</td>\n",
       "      <td>Nan</td>\n",
       "      <td>Male</td>\n",
       "      <td>18.000000</td>\n",
       "      <td>Canada</td>\n",
       "      <td>O204881</td>\n",
       "      <td>04-07-2024</td>\n",
       "      <td>Clothing</td>\n",
       "      <td>Zara Casual Shirt</td>\n",
       "      <td>2176.68000</td>\n",
       "      <td>...</td>\n",
       "      <td>0.0</td>\n",
       "      <td>FALSE</td>\n",
       "      <td>2176.680000</td>\n",
       "      <td>UPI</td>\n",
       "      <td>Mobile</td>\n",
       "      <td>Friend</td>\n",
       "      <td>39.00000</td>\n",
       "      <td>653.000000</td>\n",
       "      <td>1.000000</td>\n",
       "      <td>NaN</td>\n",
       "    </tr>\n",
       "    <tr>\n",
       "      <th>557</th>\n",
       "      <td>C123113</td>\n",
       "      <td>Nan</td>\n",
       "      <td>Male</td>\n",
       "      <td>43.000000</td>\n",
       "      <td>UK</td>\n",
       "      <td>O258094</td>\n",
       "      <td>10-07-2024</td>\n",
       "      <td>Clothing</td>\n",
       "      <td>Puma Sports Tee</td>\n",
       "      <td>1040.00000</td>\n",
       "      <td>...</td>\n",
       "      <td>20.0</td>\n",
       "      <td>TRUE</td>\n",
       "      <td>1664.000000</td>\n",
       "      <td>UPI</td>\n",
       "      <td>Tablet</td>\n",
       "      <td>Friend</td>\n",
       "      <td>1509.00000</td>\n",
       "      <td>572.000000</td>\n",
       "      <td>3.000000</td>\n",
       "      <td>NaN</td>\n",
       "    </tr>\n",
       "    <tr>\n",
       "      <th>607</th>\n",
       "      <td>C135151</td>\n",
       "      <td>Nan</td>\n",
       "      <td>Male</td>\n",
       "      <td>37.000000</td>\n",
       "      <td>Canada</td>\n",
       "      <td>O251391</td>\n",
       "      <td>24-12-2024</td>\n",
       "      <td>Clothing</td>\n",
       "      <td>H&amp;M Hoodie</td>\n",
       "      <td>1578.15000</td>\n",
       "      <td>...</td>\n",
       "      <td>0.0</td>\n",
       "      <td>FALSE</td>\n",
       "      <td>1578.150000</td>\n",
       "      <td>UPI</td>\n",
       "      <td>Mobile</td>\n",
       "      <td>Organic</td>\n",
       "      <td>105.00000</td>\n",
       "      <td>341.000000</td>\n",
       "      <td>3.000000</td>\n",
       "      <td>Okay product</td>\n",
       "    </tr>\n",
       "    <tr>\n",
       "      <th>633</th>\n",
       "      <td>C140142</td>\n",
       "      <td>Nan</td>\n",
       "      <td>Male</td>\n",
       "      <td>19.000000</td>\n",
       "      <td>USA</td>\n",
       "      <td>O297478</td>\n",
       "      <td>27-07-2024</td>\n",
       "      <td>Furniture</td>\n",
       "      <td>Sofa 3-Seater</td>\n",
       "      <td>22521.75000</td>\n",
       "      <td>...</td>\n",
       "      <td>0.0</td>\n",
       "      <td>FALSE</td>\n",
       "      <td>90087.000000</td>\n",
       "      <td>Card</td>\n",
       "      <td>Mobile</td>\n",
       "      <td>Organic</td>\n",
       "      <td>368.00000</td>\n",
       "      <td>275.000000</td>\n",
       "      <td>3.000000</td>\n",
       "      <td>NaN</td>\n",
       "    </tr>\n",
       "    <tr>\n",
       "      <th>...</th>\n",
       "      <td>...</td>\n",
       "      <td>...</td>\n",
       "      <td>...</td>\n",
       "      <td>...</td>\n",
       "      <td>...</td>\n",
       "      <td>...</td>\n",
       "      <td>...</td>\n",
       "      <td>...</td>\n",
       "      <td>...</td>\n",
       "      <td>...</td>\n",
       "      <td>...</td>\n",
       "      <td>...</td>\n",
       "      <td>...</td>\n",
       "      <td>...</td>\n",
       "      <td>...</td>\n",
       "      <td>...</td>\n",
       "      <td>...</td>\n",
       "      <td>...</td>\n",
       "      <td>...</td>\n",
       "      <td>...</td>\n",
       "      <td>...</td>\n",
       "    </tr>\n",
       "    <tr>\n",
       "      <th>100213</th>\n",
       "      <td>C135214</td>\n",
       "      <td>Nan</td>\n",
       "      <td>Female</td>\n",
       "      <td>44.000000</td>\n",
       "      <td>India</td>\n",
       "      <td>O243016</td>\n",
       "      <td>14-10-2024</td>\n",
       "      <td>Clothing</td>\n",
       "      <td>Nike Running Shoes</td>\n",
       "      <td>4267.25000</td>\n",
       "      <td>...</td>\n",
       "      <td>0.0</td>\n",
       "      <td>FALSE</td>\n",
       "      <td>4267.250000</td>\n",
       "      <td>UPI</td>\n",
       "      <td>Mobile</td>\n",
       "      <td>Friend</td>\n",
       "      <td>253.00000</td>\n",
       "      <td>571.000000</td>\n",
       "      <td>5.000000</td>\n",
       "      <td>NaN</td>\n",
       "    </tr>\n",
       "    <tr>\n",
       "      <th>100244</th>\n",
       "      <td>C118808</td>\n",
       "      <td>Nan</td>\n",
       "      <td>Male</td>\n",
       "      <td>49.774759</td>\n",
       "      <td>uk</td>\n",
       "      <td>o202911</td>\n",
       "      <td>02-05-2024</td>\n",
       "      <td>electronics</td>\n",
       "      <td>Sony WH-1000XM5 Headphones</td>\n",
       "      <td>11156.36086</td>\n",
       "      <td>...</td>\n",
       "      <td>0.0</td>\n",
       "      <td>False</td>\n",
       "      <td>9264.245465</td>\n",
       "      <td>Card</td>\n",
       "      <td>Mobile</td>\n",
       "      <td>ad</td>\n",
       "      <td>530.53667</td>\n",
       "      <td>239.166188</td>\n",
       "      <td>3.676023</td>\n",
       "      <td>good quality</td>\n",
       "    </tr>\n",
       "    <tr>\n",
       "      <th>100295</th>\n",
       "      <td>C149102</td>\n",
       "      <td>Nan</td>\n",
       "      <td>Female</td>\n",
       "      <td>58.000000</td>\n",
       "      <td>USA</td>\n",
       "      <td>O246576</td>\n",
       "      <td>14-06-2024</td>\n",
       "      <td>Clothing</td>\n",
       "      <td>Nike Running Shoes</td>\n",
       "      <td>3131.89000</td>\n",
       "      <td>...</td>\n",
       "      <td>0.0</td>\n",
       "      <td>FALSE</td>\n",
       "      <td>6263.780000</td>\n",
       "      <td>Card</td>\n",
       "      <td>Tablet</td>\n",
       "      <td>Organic</td>\n",
       "      <td>471.00000</td>\n",
       "      <td>218.000000</td>\n",
       "      <td>4.000000</td>\n",
       "      <td>Great product</td>\n",
       "    </tr>\n",
       "    <tr>\n",
       "      <th>100299</th>\n",
       "      <td>C109351</td>\n",
       "      <td>Nan</td>\n",
       "      <td>Female</td>\n",
       "      <td>39.000000</td>\n",
       "      <td>USA</td>\n",
       "      <td>O295839</td>\n",
       "      <td>15-08-2024</td>\n",
       "      <td>Clothing</td>\n",
       "      <td>Nike Running Shoes</td>\n",
       "      <td>3389.72000</td>\n",
       "      <td>...</td>\n",
       "      <td>5.0</td>\n",
       "      <td>TRUE</td>\n",
       "      <td>3220.230000</td>\n",
       "      <td>UPI</td>\n",
       "      <td>Mobile</td>\n",
       "      <td>Ad</td>\n",
       "      <td>65.00000</td>\n",
       "      <td>173.000000</td>\n",
       "      <td>1.000000</td>\n",
       "      <td>NaN</td>\n",
       "    </tr>\n",
       "    <tr>\n",
       "      <th>100363</th>\n",
       "      <td>C102051</td>\n",
       "      <td>Nan</td>\n",
       "      <td>Male</td>\n",
       "      <td>31.000000</td>\n",
       "      <td>UK</td>\n",
       "      <td>O252992</td>\n",
       "      <td>06-03-2024</td>\n",
       "      <td>Clothing</td>\n",
       "      <td>Nike Running Shoes</td>\n",
       "      <td>3282.69000</td>\n",
       "      <td>...</td>\n",
       "      <td>5.0</td>\n",
       "      <td>TRUE</td>\n",
       "      <td>3118.560000</td>\n",
       "      <td>COD</td>\n",
       "      <td>Desktop</td>\n",
       "      <td>Friend</td>\n",
       "      <td>131.00000</td>\n",
       "      <td>1273.000000</td>\n",
       "      <td>4.000000</td>\n",
       "      <td>Good quality</td>\n",
       "    </tr>\n",
       "  </tbody>\n",
       "</table>\n",
       "<p>1001 rows × 21 columns</p>\n",
       "</div>"
      ],
      "text/plain": [
       "       CustomerID CustomerName  Gender        Age Country  OrderID  \\\n",
       "167       C120005          Nan    Male  49.000000   India  O242731   \n",
       "291       C121856          Nan    Male  18.000000  Canada  O204881   \n",
       "557       C123113          Nan    Male  43.000000      UK  O258094   \n",
       "607       C135151          Nan    Male  37.000000  Canada  O251391   \n",
       "633       C140142          Nan    Male  19.000000     USA  O297478   \n",
       "...           ...          ...     ...        ...     ...      ...   \n",
       "100213    C135214          Nan  Female  44.000000   India  O243016   \n",
       "100244    C118808          Nan    Male  49.774759      uk  o202911   \n",
       "100295    C149102          Nan  Female  58.000000     USA  O246576   \n",
       "100299    C109351          Nan  Female  39.000000     USA  O295839   \n",
       "100363    C102051          Nan    Male  31.000000      UK  O252992   \n",
       "\n",
       "         OrderDate ProductCategory                  ProductName        Price  \\\n",
       "167     01-12-2024        Clothing           Nike Running Shoes   4023.00000   \n",
       "291     04-07-2024        Clothing            Zara Casual Shirt   2176.68000   \n",
       "557     10-07-2024        Clothing              Puma Sports Tee   1040.00000   \n",
       "607     24-12-2024        Clothing                   H&M Hoodie   1578.15000   \n",
       "633     27-07-2024       Furniture                Sofa 3-Seater  22521.75000   \n",
       "...            ...             ...                          ...          ...   \n",
       "100213  14-10-2024        Clothing           Nike Running Shoes   4267.25000   \n",
       "100244  02-05-2024     electronics   Sony WH-1000XM5 Headphones  11156.36086   \n",
       "100295  14-06-2024        Clothing           Nike Running Shoes   3131.89000   \n",
       "100299  15-08-2024        Clothing           Nike Running Shoes   3389.72000   \n",
       "100363  06-03-2024        Clothing           Nike Running Shoes   3282.69000   \n",
       "\n",
       "        ...  DiscountRate  HasDiscountApplied   TotalAmount  PaymentMethod  \\\n",
       "167     ...           0.0               FALSE   4023.000000            UPI   \n",
       "291     ...           0.0               FALSE   2176.680000            UPI   \n",
       "557     ...          20.0                TRUE   1664.000000            UPI   \n",
       "607     ...           0.0               FALSE   1578.150000            UPI   \n",
       "633     ...           0.0               FALSE  90087.000000           Card   \n",
       "...     ...           ...                 ...           ...            ...   \n",
       "100213  ...           0.0               FALSE   4267.250000            UPI   \n",
       "100244  ...           0.0              False    9264.245465           Card   \n",
       "100295  ...           0.0               FALSE   6263.780000           Card   \n",
       "100299  ...           5.0                TRUE   3220.230000            UPI   \n",
       "100363  ...           5.0                TRUE   3118.560000            COD   \n",
       "\n",
       "       DeviceType ReferralSource SessionDuration  CustomerTenureDays  \\\n",
       "167        Mobile         Friend      1101.00000            3.000000   \n",
       "291        Mobile         Friend        39.00000          653.000000   \n",
       "557        Tablet         Friend      1509.00000          572.000000   \n",
       "607        Mobile        Organic       105.00000          341.000000   \n",
       "633        Mobile        Organic       368.00000          275.000000   \n",
       "...           ...            ...             ...                 ...   \n",
       "100213     Mobile         Friend       253.00000          571.000000   \n",
       "100244     Mobile             ad       530.53667          239.166188   \n",
       "100295     Tablet        Organic       471.00000          218.000000   \n",
       "100299     Mobile             Ad        65.00000          173.000000   \n",
       "100363    Desktop         Friend       131.00000         1273.000000   \n",
       "\n",
       "        ReviewScore     ReviewText  \n",
       "167        4.000000            NaN  \n",
       "291        1.000000            NaN  \n",
       "557        3.000000            NaN  \n",
       "607        3.000000   Okay product  \n",
       "633        3.000000            NaN  \n",
       "...             ...            ...  \n",
       "100213     5.000000            NaN  \n",
       "100244     3.676023   good quality  \n",
       "100295     4.000000  Great product  \n",
       "100299     1.000000            NaN  \n",
       "100363     4.000000   Good quality  \n",
       "\n",
       "[1001 rows x 21 columns]"
      ]
     },
     "execution_count": 22,
     "metadata": {},
     "output_type": "execute_result"
    }
   ],
   "source": [
    "df[df['CustomerName']=='Nan']\n"
   ]
  },
  {
   "cell_type": "code",
   "execution_count": 23,
   "id": "82118b7f-9d5b-4851-bddc-6e7a993fc115",
   "metadata": {},
   "outputs": [],
   "source": [
    "df['CustomerName'] = df['CustomerName'].replace('Nan', np.nan)"
   ]
  },
  {
   "cell_type": "code",
   "execution_count": 24,
   "id": "a8ad7e76-cf03-496b-9bb9-44438722a626",
   "metadata": {},
   "outputs": [
    {
     "data": {
      "text/plain": [
       "np.int64(1001)"
      ]
     },
     "execution_count": 24,
     "metadata": {},
     "output_type": "execute_result"
    }
   ],
   "source": [
    "df['CustomerName'].isnull().sum()"
   ]
  },
  {
   "cell_type": "code",
   "execution_count": 25,
   "id": "a71957e2-76f6-4f2e-8f74-2f1ba709522c",
   "metadata": {},
   "outputs": [
    {
     "name": "stderr",
     "output_type": "stream",
     "text": [
      "C:\\Users\\hemen\\AppData\\Local\\Temp\\ipykernel_4876\\3384984950.py:1: FutureWarning: A value is trying to be set on a copy of a DataFrame or Series through chained assignment using an inplace method.\n",
      "The behavior will change in pandas 3.0. This inplace method will never work because the intermediate object on which we are setting values always behaves as a copy.\n",
      "\n",
      "For example, when doing 'df[col].method(value, inplace=True)', try using 'df.method({col: value}, inplace=True)' or df[col] = df[col].method(value) instead, to perform the operation inplace on the original object.\n",
      "\n",
      "\n",
      "  df['CustomerName'].fillna('Unknown',inplace=True)\n"
     ]
    }
   ],
   "source": [
    "df['CustomerName'].fillna('Unknown',inplace=True)"
   ]
  },
  {
   "cell_type": "code",
   "execution_count": 26,
   "id": "2864faa1-7f44-4061-a1b5-1aea26aa47b6",
   "metadata": {},
   "outputs": [
    {
     "data": {
      "text/plain": [
       "np.int64(0)"
      ]
     },
     "execution_count": 26,
     "metadata": {},
     "output_type": "execute_result"
    }
   ],
   "source": [
    "df['CustomerName'].isnull().sum()"
   ]
  },
  {
   "cell_type": "code",
   "execution_count": 27,
   "id": "913da5a2-f583-4e15-ac7c-927f67eb828b",
   "metadata": {},
   "outputs": [
    {
     "data": {
      "text/html": [
       "<div>\n",
       "<style scoped>\n",
       "    .dataframe tbody tr th:only-of-type {\n",
       "        vertical-align: middle;\n",
       "    }\n",
       "\n",
       "    .dataframe tbody tr th {\n",
       "        vertical-align: top;\n",
       "    }\n",
       "\n",
       "    .dataframe thead th {\n",
       "        text-align: right;\n",
       "    }\n",
       "</style>\n",
       "<table border=\"1\" class=\"dataframe\">\n",
       "  <thead>\n",
       "    <tr style=\"text-align: right;\">\n",
       "      <th></th>\n",
       "      <th>CustomerID</th>\n",
       "      <th>CustomerName</th>\n",
       "      <th>Gender</th>\n",
       "      <th>Age</th>\n",
       "      <th>Country</th>\n",
       "      <th>OrderID</th>\n",
       "      <th>OrderDate</th>\n",
       "      <th>ProductCategory</th>\n",
       "      <th>ProductName</th>\n",
       "      <th>Price</th>\n",
       "      <th>...</th>\n",
       "      <th>DiscountRate</th>\n",
       "      <th>HasDiscountApplied</th>\n",
       "      <th>TotalAmount</th>\n",
       "      <th>PaymentMethod</th>\n",
       "      <th>DeviceType</th>\n",
       "      <th>ReferralSource</th>\n",
       "      <th>SessionDuration</th>\n",
       "      <th>CustomerTenureDays</th>\n",
       "      <th>ReviewScore</th>\n",
       "      <th>ReviewText</th>\n",
       "    </tr>\n",
       "  </thead>\n",
       "  <tbody>\n",
       "    <tr>\n",
       "      <th>167</th>\n",
       "      <td>C120005</td>\n",
       "      <td>Unknown</td>\n",
       "      <td>Male</td>\n",
       "      <td>49.000000</td>\n",
       "      <td>India</td>\n",
       "      <td>O242731</td>\n",
       "      <td>01-12-2024</td>\n",
       "      <td>Clothing</td>\n",
       "      <td>Nike Running Shoes</td>\n",
       "      <td>4023.00000</td>\n",
       "      <td>...</td>\n",
       "      <td>0.0</td>\n",
       "      <td>FALSE</td>\n",
       "      <td>4023.000000</td>\n",
       "      <td>UPI</td>\n",
       "      <td>Mobile</td>\n",
       "      <td>Friend</td>\n",
       "      <td>1101.00000</td>\n",
       "      <td>3.000000</td>\n",
       "      <td>4.000000</td>\n",
       "      <td>NaN</td>\n",
       "    </tr>\n",
       "    <tr>\n",
       "      <th>291</th>\n",
       "      <td>C121856</td>\n",
       "      <td>Unknown</td>\n",
       "      <td>Male</td>\n",
       "      <td>18.000000</td>\n",
       "      <td>Canada</td>\n",
       "      <td>O204881</td>\n",
       "      <td>04-07-2024</td>\n",
       "      <td>Clothing</td>\n",
       "      <td>Zara Casual Shirt</td>\n",
       "      <td>2176.68000</td>\n",
       "      <td>...</td>\n",
       "      <td>0.0</td>\n",
       "      <td>FALSE</td>\n",
       "      <td>2176.680000</td>\n",
       "      <td>UPI</td>\n",
       "      <td>Mobile</td>\n",
       "      <td>Friend</td>\n",
       "      <td>39.00000</td>\n",
       "      <td>653.000000</td>\n",
       "      <td>1.000000</td>\n",
       "      <td>NaN</td>\n",
       "    </tr>\n",
       "    <tr>\n",
       "      <th>557</th>\n",
       "      <td>C123113</td>\n",
       "      <td>Unknown</td>\n",
       "      <td>Male</td>\n",
       "      <td>43.000000</td>\n",
       "      <td>UK</td>\n",
       "      <td>O258094</td>\n",
       "      <td>10-07-2024</td>\n",
       "      <td>Clothing</td>\n",
       "      <td>Puma Sports Tee</td>\n",
       "      <td>1040.00000</td>\n",
       "      <td>...</td>\n",
       "      <td>20.0</td>\n",
       "      <td>TRUE</td>\n",
       "      <td>1664.000000</td>\n",
       "      <td>UPI</td>\n",
       "      <td>Tablet</td>\n",
       "      <td>Friend</td>\n",
       "      <td>1509.00000</td>\n",
       "      <td>572.000000</td>\n",
       "      <td>3.000000</td>\n",
       "      <td>NaN</td>\n",
       "    </tr>\n",
       "    <tr>\n",
       "      <th>607</th>\n",
       "      <td>C135151</td>\n",
       "      <td>Unknown</td>\n",
       "      <td>Male</td>\n",
       "      <td>37.000000</td>\n",
       "      <td>Canada</td>\n",
       "      <td>O251391</td>\n",
       "      <td>24-12-2024</td>\n",
       "      <td>Clothing</td>\n",
       "      <td>H&amp;M Hoodie</td>\n",
       "      <td>1578.15000</td>\n",
       "      <td>...</td>\n",
       "      <td>0.0</td>\n",
       "      <td>FALSE</td>\n",
       "      <td>1578.150000</td>\n",
       "      <td>UPI</td>\n",
       "      <td>Mobile</td>\n",
       "      <td>Organic</td>\n",
       "      <td>105.00000</td>\n",
       "      <td>341.000000</td>\n",
       "      <td>3.000000</td>\n",
       "      <td>Okay product</td>\n",
       "    </tr>\n",
       "    <tr>\n",
       "      <th>633</th>\n",
       "      <td>C140142</td>\n",
       "      <td>Unknown</td>\n",
       "      <td>Male</td>\n",
       "      <td>19.000000</td>\n",
       "      <td>USA</td>\n",
       "      <td>O297478</td>\n",
       "      <td>27-07-2024</td>\n",
       "      <td>Furniture</td>\n",
       "      <td>Sofa 3-Seater</td>\n",
       "      <td>22521.75000</td>\n",
       "      <td>...</td>\n",
       "      <td>0.0</td>\n",
       "      <td>FALSE</td>\n",
       "      <td>90087.000000</td>\n",
       "      <td>Card</td>\n",
       "      <td>Mobile</td>\n",
       "      <td>Organic</td>\n",
       "      <td>368.00000</td>\n",
       "      <td>275.000000</td>\n",
       "      <td>3.000000</td>\n",
       "      <td>NaN</td>\n",
       "    </tr>\n",
       "    <tr>\n",
       "      <th>...</th>\n",
       "      <td>...</td>\n",
       "      <td>...</td>\n",
       "      <td>...</td>\n",
       "      <td>...</td>\n",
       "      <td>...</td>\n",
       "      <td>...</td>\n",
       "      <td>...</td>\n",
       "      <td>...</td>\n",
       "      <td>...</td>\n",
       "      <td>...</td>\n",
       "      <td>...</td>\n",
       "      <td>...</td>\n",
       "      <td>...</td>\n",
       "      <td>...</td>\n",
       "      <td>...</td>\n",
       "      <td>...</td>\n",
       "      <td>...</td>\n",
       "      <td>...</td>\n",
       "      <td>...</td>\n",
       "      <td>...</td>\n",
       "      <td>...</td>\n",
       "    </tr>\n",
       "    <tr>\n",
       "      <th>100213</th>\n",
       "      <td>C135214</td>\n",
       "      <td>Unknown</td>\n",
       "      <td>Female</td>\n",
       "      <td>44.000000</td>\n",
       "      <td>India</td>\n",
       "      <td>O243016</td>\n",
       "      <td>14-10-2024</td>\n",
       "      <td>Clothing</td>\n",
       "      <td>Nike Running Shoes</td>\n",
       "      <td>4267.25000</td>\n",
       "      <td>...</td>\n",
       "      <td>0.0</td>\n",
       "      <td>FALSE</td>\n",
       "      <td>4267.250000</td>\n",
       "      <td>UPI</td>\n",
       "      <td>Mobile</td>\n",
       "      <td>Friend</td>\n",
       "      <td>253.00000</td>\n",
       "      <td>571.000000</td>\n",
       "      <td>5.000000</td>\n",
       "      <td>NaN</td>\n",
       "    </tr>\n",
       "    <tr>\n",
       "      <th>100244</th>\n",
       "      <td>C118808</td>\n",
       "      <td>Unknown</td>\n",
       "      <td>Male</td>\n",
       "      <td>49.774759</td>\n",
       "      <td>uk</td>\n",
       "      <td>o202911</td>\n",
       "      <td>02-05-2024</td>\n",
       "      <td>electronics</td>\n",
       "      <td>Sony WH-1000XM5 Headphones</td>\n",
       "      <td>11156.36086</td>\n",
       "      <td>...</td>\n",
       "      <td>0.0</td>\n",
       "      <td>False</td>\n",
       "      <td>9264.245465</td>\n",
       "      <td>Card</td>\n",
       "      <td>Mobile</td>\n",
       "      <td>ad</td>\n",
       "      <td>530.53667</td>\n",
       "      <td>239.166188</td>\n",
       "      <td>3.676023</td>\n",
       "      <td>good quality</td>\n",
       "    </tr>\n",
       "    <tr>\n",
       "      <th>100295</th>\n",
       "      <td>C149102</td>\n",
       "      <td>Unknown</td>\n",
       "      <td>Female</td>\n",
       "      <td>58.000000</td>\n",
       "      <td>USA</td>\n",
       "      <td>O246576</td>\n",
       "      <td>14-06-2024</td>\n",
       "      <td>Clothing</td>\n",
       "      <td>Nike Running Shoes</td>\n",
       "      <td>3131.89000</td>\n",
       "      <td>...</td>\n",
       "      <td>0.0</td>\n",
       "      <td>FALSE</td>\n",
       "      <td>6263.780000</td>\n",
       "      <td>Card</td>\n",
       "      <td>Tablet</td>\n",
       "      <td>Organic</td>\n",
       "      <td>471.00000</td>\n",
       "      <td>218.000000</td>\n",
       "      <td>4.000000</td>\n",
       "      <td>Great product</td>\n",
       "    </tr>\n",
       "    <tr>\n",
       "      <th>100299</th>\n",
       "      <td>C109351</td>\n",
       "      <td>Unknown</td>\n",
       "      <td>Female</td>\n",
       "      <td>39.000000</td>\n",
       "      <td>USA</td>\n",
       "      <td>O295839</td>\n",
       "      <td>15-08-2024</td>\n",
       "      <td>Clothing</td>\n",
       "      <td>Nike Running Shoes</td>\n",
       "      <td>3389.72000</td>\n",
       "      <td>...</td>\n",
       "      <td>5.0</td>\n",
       "      <td>TRUE</td>\n",
       "      <td>3220.230000</td>\n",
       "      <td>UPI</td>\n",
       "      <td>Mobile</td>\n",
       "      <td>Ad</td>\n",
       "      <td>65.00000</td>\n",
       "      <td>173.000000</td>\n",
       "      <td>1.000000</td>\n",
       "      <td>NaN</td>\n",
       "    </tr>\n",
       "    <tr>\n",
       "      <th>100363</th>\n",
       "      <td>C102051</td>\n",
       "      <td>Unknown</td>\n",
       "      <td>Male</td>\n",
       "      <td>31.000000</td>\n",
       "      <td>UK</td>\n",
       "      <td>O252992</td>\n",
       "      <td>06-03-2024</td>\n",
       "      <td>Clothing</td>\n",
       "      <td>Nike Running Shoes</td>\n",
       "      <td>3282.69000</td>\n",
       "      <td>...</td>\n",
       "      <td>5.0</td>\n",
       "      <td>TRUE</td>\n",
       "      <td>3118.560000</td>\n",
       "      <td>COD</td>\n",
       "      <td>Desktop</td>\n",
       "      <td>Friend</td>\n",
       "      <td>131.00000</td>\n",
       "      <td>1273.000000</td>\n",
       "      <td>4.000000</td>\n",
       "      <td>Good quality</td>\n",
       "    </tr>\n",
       "  </tbody>\n",
       "</table>\n",
       "<p>1001 rows × 21 columns</p>\n",
       "</div>"
      ],
      "text/plain": [
       "       CustomerID CustomerName  Gender        Age Country  OrderID  \\\n",
       "167       C120005      Unknown    Male  49.000000   India  O242731   \n",
       "291       C121856      Unknown    Male  18.000000  Canada  O204881   \n",
       "557       C123113      Unknown    Male  43.000000      UK  O258094   \n",
       "607       C135151      Unknown    Male  37.000000  Canada  O251391   \n",
       "633       C140142      Unknown    Male  19.000000     USA  O297478   \n",
       "...           ...          ...     ...        ...     ...      ...   \n",
       "100213    C135214      Unknown  Female  44.000000   India  O243016   \n",
       "100244    C118808      Unknown    Male  49.774759      uk  o202911   \n",
       "100295    C149102      Unknown  Female  58.000000     USA  O246576   \n",
       "100299    C109351      Unknown  Female  39.000000     USA  O295839   \n",
       "100363    C102051      Unknown    Male  31.000000      UK  O252992   \n",
       "\n",
       "         OrderDate ProductCategory                  ProductName        Price  \\\n",
       "167     01-12-2024        Clothing           Nike Running Shoes   4023.00000   \n",
       "291     04-07-2024        Clothing            Zara Casual Shirt   2176.68000   \n",
       "557     10-07-2024        Clothing              Puma Sports Tee   1040.00000   \n",
       "607     24-12-2024        Clothing                   H&M Hoodie   1578.15000   \n",
       "633     27-07-2024       Furniture                Sofa 3-Seater  22521.75000   \n",
       "...            ...             ...                          ...          ...   \n",
       "100213  14-10-2024        Clothing           Nike Running Shoes   4267.25000   \n",
       "100244  02-05-2024     electronics   Sony WH-1000XM5 Headphones  11156.36086   \n",
       "100295  14-06-2024        Clothing           Nike Running Shoes   3131.89000   \n",
       "100299  15-08-2024        Clothing           Nike Running Shoes   3389.72000   \n",
       "100363  06-03-2024        Clothing           Nike Running Shoes   3282.69000   \n",
       "\n",
       "        ...  DiscountRate  HasDiscountApplied   TotalAmount  PaymentMethod  \\\n",
       "167     ...           0.0               FALSE   4023.000000            UPI   \n",
       "291     ...           0.0               FALSE   2176.680000            UPI   \n",
       "557     ...          20.0                TRUE   1664.000000            UPI   \n",
       "607     ...           0.0               FALSE   1578.150000            UPI   \n",
       "633     ...           0.0               FALSE  90087.000000           Card   \n",
       "...     ...           ...                 ...           ...            ...   \n",
       "100213  ...           0.0               FALSE   4267.250000            UPI   \n",
       "100244  ...           0.0              False    9264.245465           Card   \n",
       "100295  ...           0.0               FALSE   6263.780000           Card   \n",
       "100299  ...           5.0                TRUE   3220.230000            UPI   \n",
       "100363  ...           5.0                TRUE   3118.560000            COD   \n",
       "\n",
       "       DeviceType ReferralSource SessionDuration  CustomerTenureDays  \\\n",
       "167        Mobile         Friend      1101.00000            3.000000   \n",
       "291        Mobile         Friend        39.00000          653.000000   \n",
       "557        Tablet         Friend      1509.00000          572.000000   \n",
       "607        Mobile        Organic       105.00000          341.000000   \n",
       "633        Mobile        Organic       368.00000          275.000000   \n",
       "...           ...            ...             ...                 ...   \n",
       "100213     Mobile         Friend       253.00000          571.000000   \n",
       "100244     Mobile             ad       530.53667          239.166188   \n",
       "100295     Tablet        Organic       471.00000          218.000000   \n",
       "100299     Mobile             Ad        65.00000          173.000000   \n",
       "100363    Desktop         Friend       131.00000         1273.000000   \n",
       "\n",
       "        ReviewScore     ReviewText  \n",
       "167        4.000000            NaN  \n",
       "291        1.000000            NaN  \n",
       "557        3.000000            NaN  \n",
       "607        3.000000   Okay product  \n",
       "633        3.000000            NaN  \n",
       "...             ...            ...  \n",
       "100213     5.000000            NaN  \n",
       "100244     3.676023   good quality  \n",
       "100295     4.000000  Great product  \n",
       "100299     1.000000            NaN  \n",
       "100363     4.000000   Good quality  \n",
       "\n",
       "[1001 rows x 21 columns]"
      ]
     },
     "execution_count": 27,
     "metadata": {},
     "output_type": "execute_result"
    }
   ],
   "source": [
    "df[df['CustomerName']=='Unknown']"
   ]
  },
  {
   "cell_type": "code",
   "execution_count": 28,
   "id": "47ef6abd-adc2-43fc-99b8-196c0fd9dc20",
   "metadata": {},
   "outputs": [],
   "source": [
    "df.loc[df['CustomerName'].str.contains(r'\\d',na=False),'CustomerName']=np.nan"
   ]
  },
  {
   "cell_type": "code",
   "execution_count": 29,
   "id": "71684949-9bae-48f2-ad5d-31575120c745",
   "metadata": {},
   "outputs": [
    {
     "data": {
      "text/html": [
       "<div>\n",
       "<style scoped>\n",
       "    .dataframe tbody tr th:only-of-type {\n",
       "        vertical-align: middle;\n",
       "    }\n",
       "\n",
       "    .dataframe tbody tr th {\n",
       "        vertical-align: top;\n",
       "    }\n",
       "\n",
       "    .dataframe thead th {\n",
       "        text-align: right;\n",
       "    }\n",
       "</style>\n",
       "<table border=\"1\" class=\"dataframe\">\n",
       "  <thead>\n",
       "    <tr style=\"text-align: right;\">\n",
       "      <th></th>\n",
       "      <th>CustomerID</th>\n",
       "      <th>CustomerName</th>\n",
       "      <th>Gender</th>\n",
       "      <th>Age</th>\n",
       "      <th>Country</th>\n",
       "      <th>OrderID</th>\n",
       "      <th>OrderDate</th>\n",
       "      <th>ProductCategory</th>\n",
       "      <th>ProductName</th>\n",
       "      <th>Price</th>\n",
       "      <th>...</th>\n",
       "      <th>DiscountRate</th>\n",
       "      <th>HasDiscountApplied</th>\n",
       "      <th>TotalAmount</th>\n",
       "      <th>PaymentMethod</th>\n",
       "      <th>DeviceType</th>\n",
       "      <th>ReferralSource</th>\n",
       "      <th>SessionDuration</th>\n",
       "      <th>CustomerTenureDays</th>\n",
       "      <th>ReviewScore</th>\n",
       "      <th>ReviewText</th>\n",
       "    </tr>\n",
       "  </thead>\n",
       "  <tbody>\n",
       "    <tr>\n",
       "      <th>167</th>\n",
       "      <td>C120005</td>\n",
       "      <td>Unknown</td>\n",
       "      <td>Male</td>\n",
       "      <td>49.000000</td>\n",
       "      <td>India</td>\n",
       "      <td>O242731</td>\n",
       "      <td>01-12-2024</td>\n",
       "      <td>Clothing</td>\n",
       "      <td>Nike Running Shoes</td>\n",
       "      <td>4023.00000</td>\n",
       "      <td>...</td>\n",
       "      <td>0.0</td>\n",
       "      <td>FALSE</td>\n",
       "      <td>4023.000000</td>\n",
       "      <td>UPI</td>\n",
       "      <td>Mobile</td>\n",
       "      <td>Friend</td>\n",
       "      <td>1101.00000</td>\n",
       "      <td>3.000000</td>\n",
       "      <td>4.000000</td>\n",
       "      <td>NaN</td>\n",
       "    </tr>\n",
       "    <tr>\n",
       "      <th>291</th>\n",
       "      <td>C121856</td>\n",
       "      <td>Unknown</td>\n",
       "      <td>Male</td>\n",
       "      <td>18.000000</td>\n",
       "      <td>Canada</td>\n",
       "      <td>O204881</td>\n",
       "      <td>04-07-2024</td>\n",
       "      <td>Clothing</td>\n",
       "      <td>Zara Casual Shirt</td>\n",
       "      <td>2176.68000</td>\n",
       "      <td>...</td>\n",
       "      <td>0.0</td>\n",
       "      <td>FALSE</td>\n",
       "      <td>2176.680000</td>\n",
       "      <td>UPI</td>\n",
       "      <td>Mobile</td>\n",
       "      <td>Friend</td>\n",
       "      <td>39.00000</td>\n",
       "      <td>653.000000</td>\n",
       "      <td>1.000000</td>\n",
       "      <td>NaN</td>\n",
       "    </tr>\n",
       "    <tr>\n",
       "      <th>557</th>\n",
       "      <td>C123113</td>\n",
       "      <td>Unknown</td>\n",
       "      <td>Male</td>\n",
       "      <td>43.000000</td>\n",
       "      <td>UK</td>\n",
       "      <td>O258094</td>\n",
       "      <td>10-07-2024</td>\n",
       "      <td>Clothing</td>\n",
       "      <td>Puma Sports Tee</td>\n",
       "      <td>1040.00000</td>\n",
       "      <td>...</td>\n",
       "      <td>20.0</td>\n",
       "      <td>TRUE</td>\n",
       "      <td>1664.000000</td>\n",
       "      <td>UPI</td>\n",
       "      <td>Tablet</td>\n",
       "      <td>Friend</td>\n",
       "      <td>1509.00000</td>\n",
       "      <td>572.000000</td>\n",
       "      <td>3.000000</td>\n",
       "      <td>NaN</td>\n",
       "    </tr>\n",
       "    <tr>\n",
       "      <th>607</th>\n",
       "      <td>C135151</td>\n",
       "      <td>Unknown</td>\n",
       "      <td>Male</td>\n",
       "      <td>37.000000</td>\n",
       "      <td>Canada</td>\n",
       "      <td>O251391</td>\n",
       "      <td>24-12-2024</td>\n",
       "      <td>Clothing</td>\n",
       "      <td>H&amp;M Hoodie</td>\n",
       "      <td>1578.15000</td>\n",
       "      <td>...</td>\n",
       "      <td>0.0</td>\n",
       "      <td>FALSE</td>\n",
       "      <td>1578.150000</td>\n",
       "      <td>UPI</td>\n",
       "      <td>Mobile</td>\n",
       "      <td>Organic</td>\n",
       "      <td>105.00000</td>\n",
       "      <td>341.000000</td>\n",
       "      <td>3.000000</td>\n",
       "      <td>Okay product</td>\n",
       "    </tr>\n",
       "    <tr>\n",
       "      <th>633</th>\n",
       "      <td>C140142</td>\n",
       "      <td>Unknown</td>\n",
       "      <td>Male</td>\n",
       "      <td>19.000000</td>\n",
       "      <td>USA</td>\n",
       "      <td>O297478</td>\n",
       "      <td>27-07-2024</td>\n",
       "      <td>Furniture</td>\n",
       "      <td>Sofa 3-Seater</td>\n",
       "      <td>22521.75000</td>\n",
       "      <td>...</td>\n",
       "      <td>0.0</td>\n",
       "      <td>FALSE</td>\n",
       "      <td>90087.000000</td>\n",
       "      <td>Card</td>\n",
       "      <td>Mobile</td>\n",
       "      <td>Organic</td>\n",
       "      <td>368.00000</td>\n",
       "      <td>275.000000</td>\n",
       "      <td>3.000000</td>\n",
       "      <td>NaN</td>\n",
       "    </tr>\n",
       "    <tr>\n",
       "      <th>...</th>\n",
       "      <td>...</td>\n",
       "      <td>...</td>\n",
       "      <td>...</td>\n",
       "      <td>...</td>\n",
       "      <td>...</td>\n",
       "      <td>...</td>\n",
       "      <td>...</td>\n",
       "      <td>...</td>\n",
       "      <td>...</td>\n",
       "      <td>...</td>\n",
       "      <td>...</td>\n",
       "      <td>...</td>\n",
       "      <td>...</td>\n",
       "      <td>...</td>\n",
       "      <td>...</td>\n",
       "      <td>...</td>\n",
       "      <td>...</td>\n",
       "      <td>...</td>\n",
       "      <td>...</td>\n",
       "      <td>...</td>\n",
       "      <td>...</td>\n",
       "    </tr>\n",
       "    <tr>\n",
       "      <th>100213</th>\n",
       "      <td>C135214</td>\n",
       "      <td>Unknown</td>\n",
       "      <td>Female</td>\n",
       "      <td>44.000000</td>\n",
       "      <td>India</td>\n",
       "      <td>O243016</td>\n",
       "      <td>14-10-2024</td>\n",
       "      <td>Clothing</td>\n",
       "      <td>Nike Running Shoes</td>\n",
       "      <td>4267.25000</td>\n",
       "      <td>...</td>\n",
       "      <td>0.0</td>\n",
       "      <td>FALSE</td>\n",
       "      <td>4267.250000</td>\n",
       "      <td>UPI</td>\n",
       "      <td>Mobile</td>\n",
       "      <td>Friend</td>\n",
       "      <td>253.00000</td>\n",
       "      <td>571.000000</td>\n",
       "      <td>5.000000</td>\n",
       "      <td>NaN</td>\n",
       "    </tr>\n",
       "    <tr>\n",
       "      <th>100244</th>\n",
       "      <td>C118808</td>\n",
       "      <td>Unknown</td>\n",
       "      <td>Male</td>\n",
       "      <td>49.774759</td>\n",
       "      <td>uk</td>\n",
       "      <td>o202911</td>\n",
       "      <td>02-05-2024</td>\n",
       "      <td>electronics</td>\n",
       "      <td>Sony WH-1000XM5 Headphones</td>\n",
       "      <td>11156.36086</td>\n",
       "      <td>...</td>\n",
       "      <td>0.0</td>\n",
       "      <td>False</td>\n",
       "      <td>9264.245465</td>\n",
       "      <td>Card</td>\n",
       "      <td>Mobile</td>\n",
       "      <td>ad</td>\n",
       "      <td>530.53667</td>\n",
       "      <td>239.166188</td>\n",
       "      <td>3.676023</td>\n",
       "      <td>good quality</td>\n",
       "    </tr>\n",
       "    <tr>\n",
       "      <th>100295</th>\n",
       "      <td>C149102</td>\n",
       "      <td>Unknown</td>\n",
       "      <td>Female</td>\n",
       "      <td>58.000000</td>\n",
       "      <td>USA</td>\n",
       "      <td>O246576</td>\n",
       "      <td>14-06-2024</td>\n",
       "      <td>Clothing</td>\n",
       "      <td>Nike Running Shoes</td>\n",
       "      <td>3131.89000</td>\n",
       "      <td>...</td>\n",
       "      <td>0.0</td>\n",
       "      <td>FALSE</td>\n",
       "      <td>6263.780000</td>\n",
       "      <td>Card</td>\n",
       "      <td>Tablet</td>\n",
       "      <td>Organic</td>\n",
       "      <td>471.00000</td>\n",
       "      <td>218.000000</td>\n",
       "      <td>4.000000</td>\n",
       "      <td>Great product</td>\n",
       "    </tr>\n",
       "    <tr>\n",
       "      <th>100299</th>\n",
       "      <td>C109351</td>\n",
       "      <td>Unknown</td>\n",
       "      <td>Female</td>\n",
       "      <td>39.000000</td>\n",
       "      <td>USA</td>\n",
       "      <td>O295839</td>\n",
       "      <td>15-08-2024</td>\n",
       "      <td>Clothing</td>\n",
       "      <td>Nike Running Shoes</td>\n",
       "      <td>3389.72000</td>\n",
       "      <td>...</td>\n",
       "      <td>5.0</td>\n",
       "      <td>TRUE</td>\n",
       "      <td>3220.230000</td>\n",
       "      <td>UPI</td>\n",
       "      <td>Mobile</td>\n",
       "      <td>Ad</td>\n",
       "      <td>65.00000</td>\n",
       "      <td>173.000000</td>\n",
       "      <td>1.000000</td>\n",
       "      <td>NaN</td>\n",
       "    </tr>\n",
       "    <tr>\n",
       "      <th>100363</th>\n",
       "      <td>C102051</td>\n",
       "      <td>Unknown</td>\n",
       "      <td>Male</td>\n",
       "      <td>31.000000</td>\n",
       "      <td>UK</td>\n",
       "      <td>O252992</td>\n",
       "      <td>06-03-2024</td>\n",
       "      <td>Clothing</td>\n",
       "      <td>Nike Running Shoes</td>\n",
       "      <td>3282.69000</td>\n",
       "      <td>...</td>\n",
       "      <td>5.0</td>\n",
       "      <td>TRUE</td>\n",
       "      <td>3118.560000</td>\n",
       "      <td>COD</td>\n",
       "      <td>Desktop</td>\n",
       "      <td>Friend</td>\n",
       "      <td>131.00000</td>\n",
       "      <td>1273.000000</td>\n",
       "      <td>4.000000</td>\n",
       "      <td>Good quality</td>\n",
       "    </tr>\n",
       "  </tbody>\n",
       "</table>\n",
       "<p>1001 rows × 21 columns</p>\n",
       "</div>"
      ],
      "text/plain": [
       "       CustomerID CustomerName  Gender        Age Country  OrderID  \\\n",
       "167       C120005      Unknown    Male  49.000000   India  O242731   \n",
       "291       C121856      Unknown    Male  18.000000  Canada  O204881   \n",
       "557       C123113      Unknown    Male  43.000000      UK  O258094   \n",
       "607       C135151      Unknown    Male  37.000000  Canada  O251391   \n",
       "633       C140142      Unknown    Male  19.000000     USA  O297478   \n",
       "...           ...          ...     ...        ...     ...      ...   \n",
       "100213    C135214      Unknown  Female  44.000000   India  O243016   \n",
       "100244    C118808      Unknown    Male  49.774759      uk  o202911   \n",
       "100295    C149102      Unknown  Female  58.000000     USA  O246576   \n",
       "100299    C109351      Unknown  Female  39.000000     USA  O295839   \n",
       "100363    C102051      Unknown    Male  31.000000      UK  O252992   \n",
       "\n",
       "         OrderDate ProductCategory                  ProductName        Price  \\\n",
       "167     01-12-2024        Clothing           Nike Running Shoes   4023.00000   \n",
       "291     04-07-2024        Clothing            Zara Casual Shirt   2176.68000   \n",
       "557     10-07-2024        Clothing              Puma Sports Tee   1040.00000   \n",
       "607     24-12-2024        Clothing                   H&M Hoodie   1578.15000   \n",
       "633     27-07-2024       Furniture                Sofa 3-Seater  22521.75000   \n",
       "...            ...             ...                          ...          ...   \n",
       "100213  14-10-2024        Clothing           Nike Running Shoes   4267.25000   \n",
       "100244  02-05-2024     electronics   Sony WH-1000XM5 Headphones  11156.36086   \n",
       "100295  14-06-2024        Clothing           Nike Running Shoes   3131.89000   \n",
       "100299  15-08-2024        Clothing           Nike Running Shoes   3389.72000   \n",
       "100363  06-03-2024        Clothing           Nike Running Shoes   3282.69000   \n",
       "\n",
       "        ...  DiscountRate  HasDiscountApplied   TotalAmount  PaymentMethod  \\\n",
       "167     ...           0.0               FALSE   4023.000000            UPI   \n",
       "291     ...           0.0               FALSE   2176.680000            UPI   \n",
       "557     ...          20.0                TRUE   1664.000000            UPI   \n",
       "607     ...           0.0               FALSE   1578.150000            UPI   \n",
       "633     ...           0.0               FALSE  90087.000000           Card   \n",
       "...     ...           ...                 ...           ...            ...   \n",
       "100213  ...           0.0               FALSE   4267.250000            UPI   \n",
       "100244  ...           0.0              False    9264.245465           Card   \n",
       "100295  ...           0.0               FALSE   6263.780000           Card   \n",
       "100299  ...           5.0                TRUE   3220.230000            UPI   \n",
       "100363  ...           5.0                TRUE   3118.560000            COD   \n",
       "\n",
       "       DeviceType ReferralSource SessionDuration  CustomerTenureDays  \\\n",
       "167        Mobile         Friend      1101.00000            3.000000   \n",
       "291        Mobile         Friend        39.00000          653.000000   \n",
       "557        Tablet         Friend      1509.00000          572.000000   \n",
       "607        Mobile        Organic       105.00000          341.000000   \n",
       "633        Mobile        Organic       368.00000          275.000000   \n",
       "...           ...            ...             ...                 ...   \n",
       "100213     Mobile         Friend       253.00000          571.000000   \n",
       "100244     Mobile             ad       530.53667          239.166188   \n",
       "100295     Tablet        Organic       471.00000          218.000000   \n",
       "100299     Mobile             Ad        65.00000          173.000000   \n",
       "100363    Desktop         Friend       131.00000         1273.000000   \n",
       "\n",
       "        ReviewScore     ReviewText  \n",
       "167        4.000000            NaN  \n",
       "291        1.000000            NaN  \n",
       "557        3.000000            NaN  \n",
       "607        3.000000   Okay product  \n",
       "633        3.000000            NaN  \n",
       "...             ...            ...  \n",
       "100213     5.000000            NaN  \n",
       "100244     3.676023   good quality  \n",
       "100295     4.000000  Great product  \n",
       "100299     1.000000            NaN  \n",
       "100363     4.000000   Good quality  \n",
       "\n",
       "[1001 rows x 21 columns]"
      ]
     },
     "execution_count": 29,
     "metadata": {},
     "output_type": "execute_result"
    }
   ],
   "source": [
    "df[df['CustomerName']=='Unknown']"
   ]
  },
  {
   "cell_type": "code",
   "execution_count": 30,
   "id": "5f1866d9-6493-4125-8196-4588a7952792",
   "metadata": {},
   "outputs": [
    {
     "name": "stdout",
     "output_type": "stream",
     "text": [
      "<class 'pandas.core.frame.DataFrame'>\n",
      "RangeIndex: 100500 entries, 0 to 100499\n",
      "Data columns (total 21 columns):\n",
      " #   Column              Non-Null Count   Dtype  \n",
      "---  ------              --------------   -----  \n",
      " 0   CustomerID          100500 non-null  object \n",
      " 1   CustomerName        100500 non-null  object \n",
      " 2   Gender              100500 non-null  object \n",
      " 3   Age                 100500 non-null  float64\n",
      " 4   Country             100500 non-null  object \n",
      " 5   OrderID             100500 non-null  object \n",
      " 6   OrderDate           100500 non-null  object \n",
      " 7   ProductCategory     100500 non-null  object \n",
      " 8   ProductName         99525 non-null   object \n",
      " 9   Price               100500 non-null  float64\n",
      " 10  Quantity            100500 non-null  float64\n",
      " 11  DiscountRate        100500 non-null  float64\n",
      " 12  HasDiscountApplied  100500 non-null  object \n",
      " 13  TotalAmount         100500 non-null  float64\n",
      " 14  PaymentMethod       99490 non-null   object \n",
      " 15  DeviceType          100500 non-null  object \n",
      " 16  ReferralSource      100500 non-null  object \n",
      " 17  SessionDuration     100500 non-null  float64\n",
      " 18  CustomerTenureDays  100500 non-null  float64\n",
      " 19  ReviewScore         100500 non-null  float64\n",
      " 20  ReviewText          41962 non-null   object \n",
      "dtypes: float64(8), object(13)\n",
      "memory usage: 16.1+ MB\n"
     ]
    }
   ],
   "source": [
    "df.info()"
   ]
  },
  {
   "cell_type": "code",
   "execution_count": 31,
   "id": "ca26673c-9ff3-49a3-b343-48e4197e411b",
   "metadata": {},
   "outputs": [
    {
     "data": {
      "text/plain": [
       "0         Female\n",
       "1           Male\n",
       "2         Female\n",
       "3           Male\n",
       "4         Female\n",
       "           ...  \n",
       "100495      Male\n",
       "100496    Female\n",
       "100497      Male\n",
       "100498    Female\n",
       "100499      Male\n",
       "Name: Gender, Length: 100500, dtype: object"
      ]
     },
     "execution_count": 31,
     "metadata": {},
     "output_type": "execute_result"
    }
   ],
   "source": [
    "df['Gender']"
   ]
  },
  {
   "cell_type": "code",
   "execution_count": 32,
   "id": "badfdc8f-5d9a-4b05-9baa-2a08fd241b40",
   "metadata": {},
   "outputs": [
    {
     "data": {
      "text/plain": [
       "np.int64(0)"
      ]
     },
     "execution_count": 32,
     "metadata": {},
     "output_type": "execute_result"
    }
   ],
   "source": [
    "df['Gender'].isnull().sum()"
   ]
  },
  {
   "cell_type": "code",
   "execution_count": 33,
   "id": "910e5583-6dfd-41a1-bf44-08921d9bd0b2",
   "metadata": {},
   "outputs": [
    {
     "data": {
      "text/plain": [
       "Gender\n",
       "Male       55972\n",
       "Female     38564\n",
       "Other       1878\n",
       " Male        619\n",
       "male         588\n",
       "Male         584\n",
       "MALE         579\n",
       "Female       448\n",
       "FEMALE       426\n",
       " Female      383\n",
       "female       382\n",
       " Other        22\n",
       "other         21\n",
       "OTHER         18\n",
       "Other         16\n",
       "Name: count, dtype: int64"
      ]
     },
     "execution_count": 33,
     "metadata": {},
     "output_type": "execute_result"
    }
   ],
   "source": [
    "df['Gender'].value_counts()"
   ]
  },
  {
   "cell_type": "code",
   "execution_count": 34,
   "id": "11ccee43-2bd4-4ea1-8986-66a94fc845cc",
   "metadata": {},
   "outputs": [],
   "source": [
    "df['Gender']=df['Gender'].astype(str).str.strip().str.title()"
   ]
  },
  {
   "cell_type": "code",
   "execution_count": 35,
   "id": "6cb672b6-10b4-444a-9ad2-6e4c20b526a1",
   "metadata": {},
   "outputs": [
    {
     "data": {
      "text/plain": [
       "Gender\n",
       "Male      58342\n",
       "Female    40203\n",
       "Other      1955\n",
       "Name: count, dtype: int64"
      ]
     },
     "execution_count": 35,
     "metadata": {},
     "output_type": "execute_result"
    }
   ],
   "source": [
    "df['Gender'].value_counts()"
   ]
  },
  {
   "cell_type": "code",
   "execution_count": 36,
   "id": "0af0cdb5-42f0-4bd4-a1bb-3a573e9a5545",
   "metadata": {},
   "outputs": [
    {
     "name": "stdout",
     "output_type": "stream",
     "text": [
      "<class 'pandas.core.frame.DataFrame'>\n",
      "RangeIndex: 100500 entries, 0 to 100499\n",
      "Data columns (total 21 columns):\n",
      " #   Column              Non-Null Count   Dtype  \n",
      "---  ------              --------------   -----  \n",
      " 0   CustomerID          100500 non-null  object \n",
      " 1   CustomerName        100500 non-null  object \n",
      " 2   Gender              100500 non-null  object \n",
      " 3   Age                 100500 non-null  float64\n",
      " 4   Country             100500 non-null  object \n",
      " 5   OrderID             100500 non-null  object \n",
      " 6   OrderDate           100500 non-null  object \n",
      " 7   ProductCategory     100500 non-null  object \n",
      " 8   ProductName         99525 non-null   object \n",
      " 9   Price               100500 non-null  float64\n",
      " 10  Quantity            100500 non-null  float64\n",
      " 11  DiscountRate        100500 non-null  float64\n",
      " 12  HasDiscountApplied  100500 non-null  object \n",
      " 13  TotalAmount         100500 non-null  float64\n",
      " 14  PaymentMethod       99490 non-null   object \n",
      " 15  DeviceType          100500 non-null  object \n",
      " 16  ReferralSource      100500 non-null  object \n",
      " 17  SessionDuration     100500 non-null  float64\n",
      " 18  CustomerTenureDays  100500 non-null  float64\n",
      " 19  ReviewScore         100500 non-null  float64\n",
      " 20  ReviewText          41962 non-null   object \n",
      "dtypes: float64(8), object(13)\n",
      "memory usage: 16.1+ MB\n"
     ]
    }
   ],
   "source": [
    "df.info()"
   ]
  },
  {
   "cell_type": "code",
   "execution_count": 37,
   "id": "01afa1a7-98ef-4310-b336-9de889f92aa3",
   "metadata": {},
   "outputs": [
    {
     "data": {
      "text/plain": [
       "0         18.0\n",
       "1         40.0\n",
       "2         40.0\n",
       "3         18.0\n",
       "4         36.0\n",
       "          ... \n",
       "100495    18.0\n",
       "100496    44.0\n",
       "100497    47.0\n",
       "100498    37.0\n",
       "100499    30.0\n",
       "Name: Age, Length: 100500, dtype: float64"
      ]
     },
     "execution_count": 37,
     "metadata": {},
     "output_type": "execute_result"
    }
   ],
   "source": [
    "df['Age']"
   ]
  },
  {
   "cell_type": "code",
   "execution_count": 38,
   "id": "82808e00-9198-46dd-8db0-3bf881e28ce6",
   "metadata": {},
   "outputs": [],
   "source": [
    "df['Age'] = pd.to_numeric(df['Age'], errors='coerce').astype('int64')\n"
   ]
  },
  {
   "cell_type": "code",
   "execution_count": 39,
   "id": "4bba2652-de45-489e-87da-924352d096f0",
   "metadata": {},
   "outputs": [
    {
     "data": {
      "text/plain": [
       "0         18\n",
       "1         40\n",
       "2         40\n",
       "3         18\n",
       "4         36\n",
       "          ..\n",
       "100495    18\n",
       "100496    44\n",
       "100497    47\n",
       "100498    37\n",
       "100499    30\n",
       "Name: Age, Length: 100500, dtype: int64"
      ]
     },
     "execution_count": 39,
     "metadata": {},
     "output_type": "execute_result"
    }
   ],
   "source": [
    "df['Age']"
   ]
  },
  {
   "cell_type": "code",
   "execution_count": 40,
   "id": "57df8ae8-601c-4020-ac3b-5cac93a53d0a",
   "metadata": {},
   "outputs": [
    {
     "data": {
      "text/html": [
       "<div>\n",
       "<style scoped>\n",
       "    .dataframe tbody tr th:only-of-type {\n",
       "        vertical-align: middle;\n",
       "    }\n",
       "\n",
       "    .dataframe tbody tr th {\n",
       "        vertical-align: top;\n",
       "    }\n",
       "\n",
       "    .dataframe thead th {\n",
       "        text-align: right;\n",
       "    }\n",
       "</style>\n",
       "<table border=\"1\" class=\"dataframe\">\n",
       "  <thead>\n",
       "    <tr style=\"text-align: right;\">\n",
       "      <th></th>\n",
       "      <th>Age</th>\n",
       "      <th>Price</th>\n",
       "      <th>Quantity</th>\n",
       "      <th>DiscountRate</th>\n",
       "      <th>TotalAmount</th>\n",
       "      <th>SessionDuration</th>\n",
       "      <th>CustomerTenureDays</th>\n",
       "      <th>ReviewScore</th>\n",
       "    </tr>\n",
       "  </thead>\n",
       "  <tbody>\n",
       "    <tr>\n",
       "      <th>count</th>\n",
       "      <td>100500.000000</td>\n",
       "      <td>100500.000000</td>\n",
       "      <td>100500.000000</td>\n",
       "      <td>100500.000000</td>\n",
       "      <td>100500.000000</td>\n",
       "      <td>100500.000000</td>\n",
       "      <td>100500.000000</td>\n",
       "      <td>100500.000000</td>\n",
       "    </tr>\n",
       "    <tr>\n",
       "      <th>mean</th>\n",
       "      <td>32.200428</td>\n",
       "      <td>12969.015061</td>\n",
       "      <td>1.373490</td>\n",
       "      <td>3.732758</td>\n",
       "      <td>16636.518828</td>\n",
       "      <td>322.946302</td>\n",
       "      <td>402.047919</td>\n",
       "      <td>3.629075</td>\n",
       "    </tr>\n",
       "    <tr>\n",
       "      <th>std</th>\n",
       "      <td>9.395823</td>\n",
       "      <td>14705.752729</td>\n",
       "      <td>0.799082</td>\n",
       "      <td>5.572621</td>\n",
       "      <td>23898.641885</td>\n",
       "      <td>297.289047</td>\n",
       "      <td>403.322816</td>\n",
       "      <td>1.108081</td>\n",
       "    </tr>\n",
       "    <tr>\n",
       "      <th>min</th>\n",
       "      <td>18.000000</td>\n",
       "      <td>255.050000</td>\n",
       "      <td>1.000000</td>\n",
       "      <td>0.000000</td>\n",
       "      <td>204.380000</td>\n",
       "      <td>16.191353</td>\n",
       "      <td>0.000000</td>\n",
       "      <td>0.919006</td>\n",
       "    </tr>\n",
       "    <tr>\n",
       "      <th>25%</th>\n",
       "      <td>25.000000</td>\n",
       "      <td>1896.890000</td>\n",
       "      <td>1.000000</td>\n",
       "      <td>0.000000</td>\n",
       "      <td>2085.767500</td>\n",
       "      <td>112.000000</td>\n",
       "      <td>115.000000</td>\n",
       "      <td>3.000000</td>\n",
       "    </tr>\n",
       "    <tr>\n",
       "      <th>50%</th>\n",
       "      <td>32.000000</td>\n",
       "      <td>7769.295000</td>\n",
       "      <td>1.000000</td>\n",
       "      <td>0.000000</td>\n",
       "      <td>8025.115000</td>\n",
       "      <td>231.000000</td>\n",
       "      <td>278.000000</td>\n",
       "      <td>4.000000</td>\n",
       "    </tr>\n",
       "    <tr>\n",
       "      <th>75%</th>\n",
       "      <td>39.000000</td>\n",
       "      <td>18445.222500</td>\n",
       "      <td>1.000000</td>\n",
       "      <td>5.000000</td>\n",
       "      <td>22620.780000</td>\n",
       "      <td>436.000000</td>\n",
       "      <td>556.000000</td>\n",
       "      <td>4.000000</td>\n",
       "    </tr>\n",
       "    <tr>\n",
       "      <th>max</th>\n",
       "      <td>81.000000</td>\n",
       "      <td>74911.034740</td>\n",
       "      <td>5.883613</td>\n",
       "      <td>28.270089</td>\n",
       "      <td>249669.520000</td>\n",
       "      <td>3465.000000</td>\n",
       "      <td>6287.000000</td>\n",
       "      <td>5.000000</td>\n",
       "    </tr>\n",
       "  </tbody>\n",
       "</table>\n",
       "</div>"
      ],
      "text/plain": [
       "                 Age          Price       Quantity   DiscountRate  \\\n",
       "count  100500.000000  100500.000000  100500.000000  100500.000000   \n",
       "mean       32.200428   12969.015061       1.373490       3.732758   \n",
       "std         9.395823   14705.752729       0.799082       5.572621   \n",
       "min        18.000000     255.050000       1.000000       0.000000   \n",
       "25%        25.000000    1896.890000       1.000000       0.000000   \n",
       "50%        32.000000    7769.295000       1.000000       0.000000   \n",
       "75%        39.000000   18445.222500       1.000000       5.000000   \n",
       "max        81.000000   74911.034740       5.883613      28.270089   \n",
       "\n",
       "         TotalAmount  SessionDuration  CustomerTenureDays    ReviewScore  \n",
       "count  100500.000000    100500.000000       100500.000000  100500.000000  \n",
       "mean    16636.518828       322.946302          402.047919       3.629075  \n",
       "std     23898.641885       297.289047          403.322816       1.108081  \n",
       "min       204.380000        16.191353            0.000000       0.919006  \n",
       "25%      2085.767500       112.000000          115.000000       3.000000  \n",
       "50%      8025.115000       231.000000          278.000000       4.000000  \n",
       "75%     22620.780000       436.000000          556.000000       4.000000  \n",
       "max    249669.520000      3465.000000         6287.000000       5.000000  "
      ]
     },
     "execution_count": 40,
     "metadata": {},
     "output_type": "execute_result"
    }
   ],
   "source": [
    "df.describe()"
   ]
  },
  {
   "cell_type": "code",
   "execution_count": 41,
   "id": "95f831a0-1997-4e85-967b-ee9b0e1d8126",
   "metadata": {},
   "outputs": [
    {
     "data": {
      "text/plain": [
       "np.int64(0)"
      ]
     },
     "execution_count": 41,
     "metadata": {},
     "output_type": "execute_result"
    }
   ],
   "source": [
    "df['Age'].isnull().sum()"
   ]
  },
  {
   "cell_type": "code",
   "execution_count": 42,
   "id": "a5db3814-3959-4789-9e7b-4183fb37ce37",
   "metadata": {},
   "outputs": [
    {
     "data": {
      "text/plain": [
       "dtype('int64')"
      ]
     },
     "execution_count": 42,
     "metadata": {},
     "output_type": "execute_result"
    }
   ],
   "source": [
    "df['Age'].dtype"
   ]
  },
  {
   "cell_type": "code",
   "execution_count": 43,
   "id": "9cee3759-cc20-495a-83bb-fb6d93016819",
   "metadata": {},
   "outputs": [
    {
     "name": "stdout",
     "output_type": "stream",
     "text": [
      "<class 'pandas.core.frame.DataFrame'>\n",
      "RangeIndex: 100500 entries, 0 to 100499\n",
      "Data columns (total 21 columns):\n",
      " #   Column              Non-Null Count   Dtype  \n",
      "---  ------              --------------   -----  \n",
      " 0   CustomerID          100500 non-null  object \n",
      " 1   CustomerName        100500 non-null  object \n",
      " 2   Gender              100500 non-null  object \n",
      " 3   Age                 100500 non-null  int64  \n",
      " 4   Country             100500 non-null  object \n",
      " 5   OrderID             100500 non-null  object \n",
      " 6   OrderDate           100500 non-null  object \n",
      " 7   ProductCategory     100500 non-null  object \n",
      " 8   ProductName         99525 non-null   object \n",
      " 9   Price               100500 non-null  float64\n",
      " 10  Quantity            100500 non-null  float64\n",
      " 11  DiscountRate        100500 non-null  float64\n",
      " 12  HasDiscountApplied  100500 non-null  object \n",
      " 13  TotalAmount         100500 non-null  float64\n",
      " 14  PaymentMethod       99490 non-null   object \n",
      " 15  DeviceType          100500 non-null  object \n",
      " 16  ReferralSource      100500 non-null  object \n",
      " 17  SessionDuration     100500 non-null  float64\n",
      " 18  CustomerTenureDays  100500 non-null  float64\n",
      " 19  ReviewScore         100500 non-null  float64\n",
      " 20  ReviewText          41962 non-null   object \n",
      "dtypes: float64(7), int64(1), object(13)\n",
      "memory usage: 16.1+ MB\n"
     ]
    }
   ],
   "source": [
    "df.info()"
   ]
  },
  {
   "cell_type": "code",
   "execution_count": 44,
   "id": "ab88eed5-d57b-4bf8-929a-f3944369b27e",
   "metadata": {},
   "outputs": [
    {
     "data": {
      "text/plain": [
       "0             USA\n",
       "1             USA\n",
       "2         Germany\n",
       "3              UK\n",
       "4              UK\n",
       "           ...   \n",
       "100495         UK\n",
       "100496     Canada\n",
       "100497      India\n",
       "100498        USA\n",
       "100499        USA\n",
       "Name: Country, Length: 100500, dtype: object"
      ]
     },
     "execution_count": 44,
     "metadata": {},
     "output_type": "execute_result"
    }
   ],
   "source": [
    "df['Country']"
   ]
  },
  {
   "cell_type": "code",
   "execution_count": 45,
   "id": "5a21984e-063c-4e5b-a3c3-be3b20cac96d",
   "metadata": {},
   "outputs": [
    {
     "data": {
      "text/plain": [
       "Country\n",
       "USA          38224\n",
       "India        28400\n",
       "UK           14284\n",
       "Canada        9426\n",
       "Germany       4781\n",
       " USA           759\n",
       " India         543\n",
       "USA            456\n",
       " USA           410\n",
       "usa            399\n",
       " INDIA         327\n",
       "INDIA          318\n",
       "India          309\n",
       " UK            293\n",
       "india          274\n",
       " Canada        184\n",
       " UK            150\n",
       "uk             137\n",
       "UK             137\n",
       " Germany        93\n",
       "CANADA          91\n",
       " CANADA         91\n",
       "canada          88\n",
       "Canada          85\n",
       "Germany         54\n",
       " GERMANY        49\n",
       "GERMANY         45\n",
       "germany         41\n",
       " INDIA           6\n",
       "  USA            5\n",
       " India           4\n",
       " usa             4\n",
       " CANADA          3\n",
       "  USA            3\n",
       " india           3\n",
       " INDIA           2\n",
       "  UK             2\n",
       " uk              2\n",
       " USA             2\n",
       "  India          2\n",
       " uk              2\n",
       " UK              2\n",
       "  INDIA          2\n",
       "  Canada         2\n",
       " usa             1\n",
       " germany         1\n",
       " CANADA          1\n",
       "  CANADA         1\n",
       " canada          1\n",
       "  UK             1\n",
       "Name: count, dtype: int64"
      ]
     },
     "execution_count": 45,
     "metadata": {},
     "output_type": "execute_result"
    }
   ],
   "source": [
    "df['Country'].value_counts()"
   ]
  },
  {
   "cell_type": "code",
   "execution_count": 46,
   "id": "976daa6b-426e-4eff-bfe1-a5a30659a73b",
   "metadata": {},
   "outputs": [],
   "source": [
    "df['Country']=df['Country'].astype(str).str.strip().str.title()"
   ]
  },
  {
   "cell_type": "code",
   "execution_count": 47,
   "id": "6cee0f88-37ed-46eb-bccb-2341bdb01c0b",
   "metadata": {},
   "outputs": [
    {
     "data": {
      "text/plain": [
       "Country\n",
       "Usa        40263\n",
       "India      30190\n",
       "Uk         15010\n",
       "Canada      9973\n",
       "Germany     5064\n",
       "Name: count, dtype: int64"
      ]
     },
     "execution_count": 47,
     "metadata": {},
     "output_type": "execute_result"
    }
   ],
   "source": [
    "df['Country'].value_counts()"
   ]
  },
  {
   "cell_type": "code",
   "execution_count": 48,
   "id": "2333cf0d-e95c-4a81-9476-24e2a2895a35",
   "metadata": {},
   "outputs": [
    {
     "data": {
      "text/plain": [
       "np.int64(0)"
      ]
     },
     "execution_count": 48,
     "metadata": {},
     "output_type": "execute_result"
    }
   ],
   "source": [
    "df['Country'].isnull().sum()"
   ]
  },
  {
   "cell_type": "code",
   "execution_count": 49,
   "id": "ef3087f6-e68d-4fe2-ba02-7fdeedd0654d",
   "metadata": {},
   "outputs": [
    {
     "data": {
      "text/plain": [
       "dtype('O')"
      ]
     },
     "execution_count": 49,
     "metadata": {},
     "output_type": "execute_result"
    }
   ],
   "source": [
    "df['Country'].dtype"
   ]
  },
  {
   "cell_type": "code",
   "execution_count": 50,
   "id": "20fd0a80-b46b-4e2f-b1d8-b8111511df56",
   "metadata": {},
   "outputs": [
    {
     "name": "stdout",
     "output_type": "stream",
     "text": [
      "<class 'pandas.core.frame.DataFrame'>\n",
      "RangeIndex: 100500 entries, 0 to 100499\n",
      "Data columns (total 21 columns):\n",
      " #   Column              Non-Null Count   Dtype  \n",
      "---  ------              --------------   -----  \n",
      " 0   CustomerID          100500 non-null  object \n",
      " 1   CustomerName        100500 non-null  object \n",
      " 2   Gender              100500 non-null  object \n",
      " 3   Age                 100500 non-null  int64  \n",
      " 4   Country             100500 non-null  object \n",
      " 5   OrderID             100500 non-null  object \n",
      " 6   OrderDate           100500 non-null  object \n",
      " 7   ProductCategory     100500 non-null  object \n",
      " 8   ProductName         99525 non-null   object \n",
      " 9   Price               100500 non-null  float64\n",
      " 10  Quantity            100500 non-null  float64\n",
      " 11  DiscountRate        100500 non-null  float64\n",
      " 12  HasDiscountApplied  100500 non-null  object \n",
      " 13  TotalAmount         100500 non-null  float64\n",
      " 14  PaymentMethod       99490 non-null   object \n",
      " 15  DeviceType          100500 non-null  object \n",
      " 16  ReferralSource      100500 non-null  object \n",
      " 17  SessionDuration     100500 non-null  float64\n",
      " 18  CustomerTenureDays  100500 non-null  float64\n",
      " 19  ReviewScore         100500 non-null  float64\n",
      " 20  ReviewText          41962 non-null   object \n",
      "dtypes: float64(7), int64(1), object(13)\n",
      "memory usage: 16.1+ MB\n"
     ]
    }
   ],
   "source": [
    "df.info()"
   ]
  },
  {
   "cell_type": "code",
   "execution_count": 51,
   "id": "5c60f66f-8ce9-4472-8932-b49a703baa6d",
   "metadata": {},
   "outputs": [
    {
     "data": {
      "text/plain": [
       "0         O278302\n",
       "1         O266464\n",
       "2         O293227\n",
       "3         O201747\n",
       "4         O280004\n",
       "           ...   \n",
       "100495    O206265\n",
       "100496    O254886\n",
       "100497    O276820\n",
       "100498    O200860\n",
       "100499    O215795\n",
       "Name: OrderID, Length: 100500, dtype: object"
      ]
     },
     "execution_count": 51,
     "metadata": {},
     "output_type": "execute_result"
    }
   ],
   "source": [
    "df['OrderID']"
   ]
  },
  {
   "cell_type": "code",
   "execution_count": 52,
   "id": "12f2b060-5d93-497c-976a-3868f99d86e5",
   "metadata": {},
   "outputs": [
    {
     "data": {
      "text/plain": [
       "0         O278302\n",
       "1         O266464\n",
       "2         O293227\n",
       "3         O201747\n",
       "4         O280004\n",
       "           ...   \n",
       "100495    O206265\n",
       "100496    O254886\n",
       "100497    O276820\n",
       "100498    O200860\n",
       "100499    O215795\n",
       "Name: OrderID, Length: 100500, dtype: object"
      ]
     },
     "execution_count": 52,
     "metadata": {},
     "output_type": "execute_result"
    }
   ],
   "source": [
    "df['OrderID']"
   ]
  },
  {
   "cell_type": "code",
   "execution_count": 53,
   "id": "aa1192d4-3a9f-427d-a468-496e38a39439",
   "metadata": {},
   "outputs": [],
   "source": [
    "df['OrderID'] = df['OrderID'].astype(str).str.strip().str.upper()"
   ]
  },
  {
   "cell_type": "code",
   "execution_count": 54,
   "id": "05bf431f-7e29-4fe5-be45-071dafb90d47",
   "metadata": {},
   "outputs": [
    {
     "data": {
      "text/plain": [
       "0         O278302\n",
       "1         O266464\n",
       "2         O293227\n",
       "3         O201747\n",
       "4         O280004\n",
       "           ...   \n",
       "100495    O206265\n",
       "100496    O254886\n",
       "100497    O276820\n",
       "100498    O200860\n",
       "100499    O215795\n",
       "Name: OrderID, Length: 100500, dtype: object"
      ]
     },
     "execution_count": 54,
     "metadata": {},
     "output_type": "execute_result"
    }
   ],
   "source": [
    "df['OrderID']"
   ]
  },
  {
   "cell_type": "code",
   "execution_count": 55,
   "id": "ef0be9ca-ded3-4955-abba-314b546704be",
   "metadata": {},
   "outputs": [
    {
     "data": {
      "text/plain": [
       "np.int64(0)"
      ]
     },
     "execution_count": 55,
     "metadata": {},
     "output_type": "execute_result"
    }
   ],
   "source": [
    "df['OrderID'].isnull().sum()"
   ]
  },
  {
   "cell_type": "code",
   "execution_count": 56,
   "id": "95d12aad-9c31-4ac9-8894-bd20604f6221",
   "metadata": {},
   "outputs": [
    {
     "name": "stdout",
     "output_type": "stream",
     "text": [
      "<class 'pandas.core.frame.DataFrame'>\n",
      "RangeIndex: 100500 entries, 0 to 100499\n",
      "Data columns (total 21 columns):\n",
      " #   Column              Non-Null Count   Dtype  \n",
      "---  ------              --------------   -----  \n",
      " 0   CustomerID          100500 non-null  object \n",
      " 1   CustomerName        100500 non-null  object \n",
      " 2   Gender              100500 non-null  object \n",
      " 3   Age                 100500 non-null  int64  \n",
      " 4   Country             100500 non-null  object \n",
      " 5   OrderID             100500 non-null  object \n",
      " 6   OrderDate           100500 non-null  object \n",
      " 7   ProductCategory     100500 non-null  object \n",
      " 8   ProductName         99525 non-null   object \n",
      " 9   Price               100500 non-null  float64\n",
      " 10  Quantity            100500 non-null  float64\n",
      " 11  DiscountRate        100500 non-null  float64\n",
      " 12  HasDiscountApplied  100500 non-null  object \n",
      " 13  TotalAmount         100500 non-null  float64\n",
      " 14  PaymentMethod       99490 non-null   object \n",
      " 15  DeviceType          100500 non-null  object \n",
      " 16  ReferralSource      100500 non-null  object \n",
      " 17  SessionDuration     100500 non-null  float64\n",
      " 18  CustomerTenureDays  100500 non-null  float64\n",
      " 19  ReviewScore         100500 non-null  float64\n",
      " 20  ReviewText          41962 non-null   object \n",
      "dtypes: float64(7), int64(1), object(13)\n",
      "memory usage: 16.1+ MB\n"
     ]
    }
   ],
   "source": [
    "df.info()"
   ]
  },
  {
   "cell_type": "code",
   "execution_count": 57,
   "id": "09254498-86af-4f1b-b3c7-58e473cd3a23",
   "metadata": {},
   "outputs": [
    {
     "data": {
      "text/plain": [
       "0         27-02-2024\n",
       "1         25-12-2024\n",
       "2         23-04-2024\n",
       "3         20-02-2024\n",
       "4         25-02-2024\n",
       "             ...    \n",
       "100495    18-06-2024\n",
       "100496    16-02-2024\n",
       "100497    25-12-2024\n",
       "100498    24-12-2024\n",
       "100499    28-02-2024\n",
       "Name: OrderDate, Length: 100500, dtype: object"
      ]
     },
     "execution_count": 57,
     "metadata": {},
     "output_type": "execute_result"
    }
   ],
   "source": [
    "df['OrderDate']"
   ]
  },
  {
   "cell_type": "code",
   "execution_count": 58,
   "id": "6b661bee-2845-4486-9689-5282b10dde0e",
   "metadata": {},
   "outputs": [],
   "source": [
    "df['OrderDate']=pd.to_datetime(df['OrderDate'],format='%d-%m-%Y',errors='coerce')"
   ]
  },
  {
   "cell_type": "code",
   "execution_count": 59,
   "id": "245dfc88-dfbe-4f1a-b592-61cb2057e981",
   "metadata": {},
   "outputs": [
    {
     "data": {
      "text/plain": [
       "0        2024-02-27\n",
       "1        2024-12-25\n",
       "2        2024-04-23\n",
       "3        2024-02-20\n",
       "4        2024-02-25\n",
       "            ...    \n",
       "100495   2024-06-18\n",
       "100496   2024-02-16\n",
       "100497   2024-12-25\n",
       "100498   2024-12-24\n",
       "100499   2024-02-28\n",
       "Name: OrderDate, Length: 100500, dtype: datetime64[ns]"
      ]
     },
     "execution_count": 59,
     "metadata": {},
     "output_type": "execute_result"
    }
   ],
   "source": [
    "df['OrderDate']"
   ]
  },
  {
   "cell_type": "code",
   "execution_count": 60,
   "id": "9f51ecd7-d90a-442d-8c24-a0423abc8b0f",
   "metadata": {},
   "outputs": [
    {
     "data": {
      "text/plain": [
       "(Timestamp('2024-01-01 00:00:00'), Timestamp('2024-12-31 00:00:00'))"
      ]
     },
     "execution_count": 60,
     "metadata": {},
     "output_type": "execute_result"
    }
   ],
   "source": [
    "df['OrderDate'].min(), df['OrderDate'].max()"
   ]
  },
  {
   "cell_type": "code",
   "execution_count": 61,
   "id": "51203a00-6435-4d99-9f08-028b1938a80b",
   "metadata": {},
   "outputs": [
    {
     "data": {
      "text/plain": [
       "np.int64(201)"
      ]
     },
     "execution_count": 61,
     "metadata": {},
     "output_type": "execute_result"
    }
   ],
   "source": [
    "df['OrderDate'].isnull().sum()"
   ]
  },
  {
   "cell_type": "code",
   "execution_count": 62,
   "id": "d8bf7625-016a-4706-b83c-b9a1c2a17613",
   "metadata": {},
   "outputs": [
    {
     "name": "stdout",
     "output_type": "stream",
     "text": [
      "<class 'pandas.core.frame.DataFrame'>\n",
      "RangeIndex: 100500 entries, 0 to 100499\n",
      "Data columns (total 21 columns):\n",
      " #   Column              Non-Null Count   Dtype         \n",
      "---  ------              --------------   -----         \n",
      " 0   CustomerID          100500 non-null  object        \n",
      " 1   CustomerName        100500 non-null  object        \n",
      " 2   Gender              100500 non-null  object        \n",
      " 3   Age                 100500 non-null  int64         \n",
      " 4   Country             100500 non-null  object        \n",
      " 5   OrderID             100500 non-null  object        \n",
      " 6   OrderDate           100299 non-null  datetime64[ns]\n",
      " 7   ProductCategory     100500 non-null  object        \n",
      " 8   ProductName         99525 non-null   object        \n",
      " 9   Price               100500 non-null  float64       \n",
      " 10  Quantity            100500 non-null  float64       \n",
      " 11  DiscountRate        100500 non-null  float64       \n",
      " 12  HasDiscountApplied  100500 non-null  object        \n",
      " 13  TotalAmount         100500 non-null  float64       \n",
      " 14  PaymentMethod       99490 non-null   object        \n",
      " 15  DeviceType          100500 non-null  object        \n",
      " 16  ReferralSource      100500 non-null  object        \n",
      " 17  SessionDuration     100500 non-null  float64       \n",
      " 18  CustomerTenureDays  100500 non-null  float64       \n",
      " 19  ReviewScore         100500 non-null  float64       \n",
      " 20  ReviewText          41962 non-null   object        \n",
      "dtypes: datetime64[ns](1), float64(7), int64(1), object(12)\n",
      "memory usage: 16.1+ MB\n"
     ]
    }
   ],
   "source": [
    "df.info()"
   ]
  },
  {
   "cell_type": "code",
   "execution_count": 63,
   "id": "4b4b1e21-6212-4e43-b0d7-c57cca4e918d",
   "metadata": {},
   "outputs": [
    {
     "data": {
      "text/plain": [
       "0            Clothing\n",
       "1            Clothing\n",
       "2         Electronics\n",
       "3         Electronics\n",
       "4         Electronics\n",
       "             ...     \n",
       "100495    Electronics\n",
       "100496       Clothing\n",
       "100497      Furniture\n",
       "100498       Clothing\n",
       "100499    Electronics\n",
       "Name: ProductCategory, Length: 100500, dtype: object"
      ]
     },
     "execution_count": 63,
     "metadata": {},
     "output_type": "execute_result"
    }
   ],
   "source": [
    "df['ProductCategory']"
   ]
  },
  {
   "cell_type": "code",
   "execution_count": 64,
   "id": "30c71d1b-5a72-4c9a-822c-448f75271fa9",
   "metadata": {},
   "outputs": [
    {
     "data": {
      "text/plain": [
       "ProductCategory\n",
       "Electronics     33646\n",
       "Clothing        29251\n",
       "Furniture       19165\n",
       "Groceries        9566\n",
       "Accessories      4816\n",
       " Electronics      371\n",
       "electronics       365\n",
       "Electronics       362\n",
       "ELECTRONICS       331\n",
       "Clothing          324\n",
       "CLOTHING          303\n",
       " Clothing         292\n",
       "clothing          278\n",
       "FURNITURE         207\n",
       "furniture         201\n",
       "Furniture         198\n",
       " Furniture        183\n",
       "Groceries         116\n",
       " Groceries        111\n",
       "groceries         102\n",
       "GROCERIES         101\n",
       "ACCESSORIES        62\n",
       "accessories        55\n",
       " Accessories       53\n",
       "Accessories        41\n",
       "Name: count, dtype: int64"
      ]
     },
     "execution_count": 64,
     "metadata": {},
     "output_type": "execute_result"
    }
   ],
   "source": [
    "df['ProductCategory'].value_counts()"
   ]
  },
  {
   "cell_type": "code",
   "execution_count": 65,
   "id": "2212f6e1-baed-46af-b98f-f4e184fefd66",
   "metadata": {},
   "outputs": [],
   "source": [
    "df['ProductCategory']=df['ProductCategory'].astype(str).str.strip().str.title()"
   ]
  },
  {
   "cell_type": "code",
   "execution_count": 66,
   "id": "6c56713f-cabf-472a-a411-47f69bf48a78",
   "metadata": {},
   "outputs": [
    {
     "data": {
      "text/plain": [
       "ProductCategory\n",
       "Electronics    35075\n",
       "Clothing       30448\n",
       "Furniture      19954\n",
       "Groceries       9996\n",
       "Accessories     5027\n",
       "Name: count, dtype: int64"
      ]
     },
     "execution_count": 66,
     "metadata": {},
     "output_type": "execute_result"
    }
   ],
   "source": [
    "df['ProductCategory'].value_counts()"
   ]
  },
  {
   "cell_type": "code",
   "execution_count": 67,
   "id": "09a53d6e-025c-4fe1-b087-72ae0226538f",
   "metadata": {},
   "outputs": [
    {
     "data": {
      "text/plain": [
       "np.int64(0)"
      ]
     },
     "execution_count": 67,
     "metadata": {},
     "output_type": "execute_result"
    }
   ],
   "source": [
    "df['ProductCategory'].isnull().sum()"
   ]
  },
  {
   "cell_type": "code",
   "execution_count": 68,
   "id": "e99f5e9b-2ea0-4cf7-b918-90a2f206afa7",
   "metadata": {},
   "outputs": [
    {
     "name": "stdout",
     "output_type": "stream",
     "text": [
      "<class 'pandas.core.frame.DataFrame'>\n",
      "RangeIndex: 100500 entries, 0 to 100499\n",
      "Data columns (total 21 columns):\n",
      " #   Column              Non-Null Count   Dtype         \n",
      "---  ------              --------------   -----         \n",
      " 0   CustomerID          100500 non-null  object        \n",
      " 1   CustomerName        100500 non-null  object        \n",
      " 2   Gender              100500 non-null  object        \n",
      " 3   Age                 100500 non-null  int64         \n",
      " 4   Country             100500 non-null  object        \n",
      " 5   OrderID             100500 non-null  object        \n",
      " 6   OrderDate           100299 non-null  datetime64[ns]\n",
      " 7   ProductCategory     100500 non-null  object        \n",
      " 8   ProductName         99525 non-null   object        \n",
      " 9   Price               100500 non-null  float64       \n",
      " 10  Quantity            100500 non-null  float64       \n",
      " 11  DiscountRate        100500 non-null  float64       \n",
      " 12  HasDiscountApplied  100500 non-null  object        \n",
      " 13  TotalAmount         100500 non-null  float64       \n",
      " 14  PaymentMethod       99490 non-null   object        \n",
      " 15  DeviceType          100500 non-null  object        \n",
      " 16  ReferralSource      100500 non-null  object        \n",
      " 17  SessionDuration     100500 non-null  float64       \n",
      " 18  CustomerTenureDays  100500 non-null  float64       \n",
      " 19  ReviewScore         100500 non-null  float64       \n",
      " 20  ReviewText          41962 non-null   object        \n",
      "dtypes: datetime64[ns](1), float64(7), int64(1), object(12)\n",
      "memory usage: 16.1+ MB\n"
     ]
    }
   ],
   "source": [
    "df.info()"
   ]
  },
  {
   "cell_type": "code",
   "execution_count": 69,
   "id": "f43a1c1d-1741-4279-9283-f82328e6bd2a",
   "metadata": {},
   "outputs": [
    {
     "data": {
      "text/plain": [
       "0              Zara Casual Shirt\n",
       "1              Zara Casual Shirt\n",
       "2                Apple iPad 10th\n",
       "3                Apple iPad 10th\n",
       "4                Apple iPad 10th\n",
       "                   ...          \n",
       "100495           Apple iPad 10th\n",
       "100496         Zara Casual Shirt\n",
       "100497    Office Ergonomic Chair\n",
       "100498        Nike Running Shoes\n",
       "100499                 LG TV 43\"\n",
       "Name: ProductName, Length: 100500, dtype: object"
      ]
     },
     "execution_count": 69,
     "metadata": {},
     "output_type": "execute_result"
    }
   ],
   "source": [
    "df['ProductName']"
   ]
  },
  {
   "cell_type": "code",
   "execution_count": 70,
   "id": "c6661848-ccb7-4eb6-a79c-bdbe70fb196c",
   "metadata": {},
   "outputs": [
    {
     "data": {
      "text/plain": [
       "ProductName\n",
       "LG TV 43\"                     6772\n",
       "Sony WH-1000XM5 Headphones    6593\n",
       "Dell Inspiron Laptop          6592\n",
       "Apple iPad 10th               6527\n",
       "Samsung Galaxy S23            6482\n",
       "                              ... \n",
       "puma sports tee                  1\n",
       " PUMA SPORTS TEE                 1\n",
       " basmati rice 5kg                1\n",
       " lg tv 43\"                       1\n",
       "h&m hoodie                       1\n",
       "Name: count, Length: 146, dtype: int64"
      ]
     },
     "execution_count": 70,
     "metadata": {},
     "output_type": "execute_result"
    }
   ],
   "source": [
    "df['ProductName'].value_counts()"
   ]
  },
  {
   "cell_type": "code",
   "execution_count": 71,
   "id": "ec8669df-c362-4498-9039-01d4d39eb2af",
   "metadata": {},
   "outputs": [],
   "source": [
    "df['ProductName']=df['ProductName'].astype(str).str.strip().str.title()"
   ]
  },
  {
   "cell_type": "code",
   "execution_count": 72,
   "id": "db08a35e-27f8-4aec-87eb-bf6a3c852628",
   "metadata": {
    "scrolled": true
   },
   "outputs": [
    {
     "data": {
      "text/plain": [
       "ProductName\n",
       "Lg Tv 43\"                     7052\n",
       "Sony Wh-1000Xm5 Headphones    6970\n",
       "Dell Inspiron Laptop          6926\n",
       "Apple Ipad 10Th               6913\n",
       "Samsung Galaxy S23            6848\n",
       "Zara Casual Shirt             6114\n",
       "Levi Jeans 501                6086\n",
       "Nike Running Shoes            6011\n",
       "Puma Sports Tee               6011\n",
       "H&M Hoodie                    5927\n",
       "Queen Bed Frame               4001\n",
       "Sofa 3-Seater                 3975\n",
       "Ikea Study Table              3975\n",
       "Wooden Dining Set             3937\n",
       "Office Ergonomic Chair        3882\n",
       "Almonds 1Kg                   2060\n",
       "Basmati Rice 5Kg              2018\n",
       "Wheat Flour 2Kg               1953\n",
       "Organic Honey 500G            1932\n",
       "Olive Oil 1L                  1927\n",
       "Backpack 20L                  1031\n",
       "Titan Wristwatch              1019\n",
       "Nan                           1001\n",
       "Wireless Charger               998\n",
       "Sunglasses Polarized           985\n",
       "Leather Belt                   948\n",
       "Name: count, dtype: int64"
      ]
     },
     "execution_count": 72,
     "metadata": {},
     "output_type": "execute_result"
    }
   ],
   "source": [
    "df['ProductName'].value_counts()"
   ]
  },
  {
   "cell_type": "code",
   "execution_count": 73,
   "id": "5f8f6f35-fa28-424e-92e1-7d8e10236d57",
   "metadata": {},
   "outputs": [],
   "source": [
    "df['ProductName'] = df['ProductName'].replace('Nan', 'Unknown Product')"
   ]
  },
  {
   "cell_type": "code",
   "execution_count": 74,
   "id": "8e25d621-7346-4d99-8b02-a5936a1fd879",
   "metadata": {},
   "outputs": [
    {
     "data": {
      "text/plain": [
       "ProductName\n",
       "Lg Tv 43\"                     7052\n",
       "Sony Wh-1000Xm5 Headphones    6970\n",
       "Dell Inspiron Laptop          6926\n",
       "Apple Ipad 10Th               6913\n",
       "Samsung Galaxy S23            6848\n",
       "Zara Casual Shirt             6114\n",
       "Levi Jeans 501                6086\n",
       "Nike Running Shoes            6011\n",
       "Puma Sports Tee               6011\n",
       "H&M Hoodie                    5927\n",
       "Queen Bed Frame               4001\n",
       "Sofa 3-Seater                 3975\n",
       "Ikea Study Table              3975\n",
       "Wooden Dining Set             3937\n",
       "Office Ergonomic Chair        3882\n",
       "Almonds 1Kg                   2060\n",
       "Basmati Rice 5Kg              2018\n",
       "Wheat Flour 2Kg               1953\n",
       "Organic Honey 500G            1932\n",
       "Olive Oil 1L                  1927\n",
       "Backpack 20L                  1031\n",
       "Titan Wristwatch              1019\n",
       "Unknown Product               1001\n",
       "Wireless Charger               998\n",
       "Sunglasses Polarized           985\n",
       "Leather Belt                   948\n",
       "Name: count, dtype: int64"
      ]
     },
     "execution_count": 74,
     "metadata": {},
     "output_type": "execute_result"
    }
   ],
   "source": [
    "df['ProductName'].value_counts()"
   ]
  },
  {
   "cell_type": "code",
   "execution_count": 75,
   "id": "a43a2b00-91b8-4854-8820-74f9076c235d",
   "metadata": {},
   "outputs": [
    {
     "data": {
      "text/plain": [
       "np.int64(0)"
      ]
     },
     "execution_count": 75,
     "metadata": {},
     "output_type": "execute_result"
    }
   ],
   "source": [
    "df['ProductName'].isnull().sum()"
   ]
  },
  {
   "cell_type": "code",
   "execution_count": 76,
   "id": "d769d35b-54b0-42c5-8539-d6b390794315",
   "metadata": {},
   "outputs": [
    {
     "name": "stdout",
     "output_type": "stream",
     "text": [
      "<class 'pandas.core.frame.DataFrame'>\n",
      "RangeIndex: 100500 entries, 0 to 100499\n",
      "Data columns (total 21 columns):\n",
      " #   Column              Non-Null Count   Dtype         \n",
      "---  ------              --------------   -----         \n",
      " 0   CustomerID          100500 non-null  object        \n",
      " 1   CustomerName        100500 non-null  object        \n",
      " 2   Gender              100500 non-null  object        \n",
      " 3   Age                 100500 non-null  int64         \n",
      " 4   Country             100500 non-null  object        \n",
      " 5   OrderID             100500 non-null  object        \n",
      " 6   OrderDate           100299 non-null  datetime64[ns]\n",
      " 7   ProductCategory     100500 non-null  object        \n",
      " 8   ProductName         100500 non-null  object        \n",
      " 9   Price               100500 non-null  float64       \n",
      " 10  Quantity            100500 non-null  float64       \n",
      " 11  DiscountRate        100500 non-null  float64       \n",
      " 12  HasDiscountApplied  100500 non-null  object        \n",
      " 13  TotalAmount         100500 non-null  float64       \n",
      " 14  PaymentMethod       99490 non-null   object        \n",
      " 15  DeviceType          100500 non-null  object        \n",
      " 16  ReferralSource      100500 non-null  object        \n",
      " 17  SessionDuration     100500 non-null  float64       \n",
      " 18  CustomerTenureDays  100500 non-null  float64       \n",
      " 19  ReviewScore         100500 non-null  float64       \n",
      " 20  ReviewText          41962 non-null   object        \n",
      "dtypes: datetime64[ns](1), float64(7), int64(1), object(12)\n",
      "memory usage: 16.1+ MB\n"
     ]
    }
   ],
   "source": [
    "df.info()"
   ]
  },
  {
   "cell_type": "code",
   "execution_count": 77,
   "id": "7102354c-f433-48d1-9ce8-17f2c9265bbe",
   "metadata": {},
   "outputs": [
    {
     "data": {
      "text/plain": [
       "0          2196.74\n",
       "1          1843.29\n",
       "2         26148.78\n",
       "3         29340.19\n",
       "4         24367.64\n",
       "            ...   \n",
       "100495    29838.26\n",
       "100496     1828.11\n",
       "100497     9024.69\n",
       "100498     3915.72\n",
       "100499    15336.55\n",
       "Name: Price, Length: 100500, dtype: float64"
      ]
     },
     "execution_count": 77,
     "metadata": {},
     "output_type": "execute_result"
    }
   ],
   "source": [
    "df['Price']"
   ]
  },
  {
   "cell_type": "code",
   "execution_count": 78,
   "id": "a5f9715b-f59a-4a84-9c6a-68c9ca926e96",
   "metadata": {},
   "outputs": [
    {
     "data": {
      "text/plain": [
       "np.int64(0)"
      ]
     },
     "execution_count": 78,
     "metadata": {},
     "output_type": "execute_result"
    }
   ],
   "source": [
    "df['Price'].isnull().sum()"
   ]
  },
  {
   "cell_type": "code",
   "execution_count": 79,
   "id": "11723f14-25ae-4341-902a-6e71a03c156f",
   "metadata": {},
   "outputs": [
    {
     "data": {
      "text/plain": [
       "dtype('float64')"
      ]
     },
     "execution_count": 79,
     "metadata": {},
     "output_type": "execute_result"
    }
   ],
   "source": [
    "df['Price'].dtype"
   ]
  },
  {
   "cell_type": "code",
   "execution_count": 80,
   "id": "52ea7283-aa88-4e6b-80d0-3de0e55793f3",
   "metadata": {},
   "outputs": [
    {
     "name": "stdout",
     "output_type": "stream",
     "text": [
      "<class 'pandas.core.frame.DataFrame'>\n",
      "RangeIndex: 100500 entries, 0 to 100499\n",
      "Data columns (total 21 columns):\n",
      " #   Column              Non-Null Count   Dtype         \n",
      "---  ------              --------------   -----         \n",
      " 0   CustomerID          100500 non-null  object        \n",
      " 1   CustomerName        100500 non-null  object        \n",
      " 2   Gender              100500 non-null  object        \n",
      " 3   Age                 100500 non-null  int64         \n",
      " 4   Country             100500 non-null  object        \n",
      " 5   OrderID             100500 non-null  object        \n",
      " 6   OrderDate           100299 non-null  datetime64[ns]\n",
      " 7   ProductCategory     100500 non-null  object        \n",
      " 8   ProductName         100500 non-null  object        \n",
      " 9   Price               100500 non-null  float64       \n",
      " 10  Quantity            100500 non-null  float64       \n",
      " 11  DiscountRate        100500 non-null  float64       \n",
      " 12  HasDiscountApplied  100500 non-null  object        \n",
      " 13  TotalAmount         100500 non-null  float64       \n",
      " 14  PaymentMethod       99490 non-null   object        \n",
      " 15  DeviceType          100500 non-null  object        \n",
      " 16  ReferralSource      100500 non-null  object        \n",
      " 17  SessionDuration     100500 non-null  float64       \n",
      " 18  CustomerTenureDays  100500 non-null  float64       \n",
      " 19  ReviewScore         100500 non-null  float64       \n",
      " 20  ReviewText          41962 non-null   object        \n",
      "dtypes: datetime64[ns](1), float64(7), int64(1), object(12)\n",
      "memory usage: 16.1+ MB\n"
     ]
    }
   ],
   "source": [
    "df.info()"
   ]
  },
  {
   "cell_type": "code",
   "execution_count": 81,
   "id": "bab0563d-b730-4a72-bf5b-64880fa38cf0",
   "metadata": {},
   "outputs": [
    {
     "data": {
      "text/plain": [
       "0         1.0\n",
       "1         1.0\n",
       "2         1.0\n",
       "3         1.0\n",
       "4         1.0\n",
       "         ... \n",
       "100495    1.0\n",
       "100496    1.0\n",
       "100497    1.0\n",
       "100498    4.0\n",
       "100499    3.0\n",
       "Name: Quantity, Length: 100500, dtype: float64"
      ]
     },
     "execution_count": 81,
     "metadata": {},
     "output_type": "execute_result"
    }
   ],
   "source": [
    "df['Quantity']"
   ]
  },
  {
   "cell_type": "code",
   "execution_count": 82,
   "id": "7179f280-a8cc-4b2f-b4c2-0f9a4abc233a",
   "metadata": {},
   "outputs": [],
   "source": [
    "df['Quantity'] = pd.to_numeric(df['Quantity'], errors='coerce').fillna(0).astype('int')"
   ]
  },
  {
   "cell_type": "code",
   "execution_count": 83,
   "id": "aabcff9c-1221-4067-bc32-ad665cc66397",
   "metadata": {},
   "outputs": [
    {
     "data": {
      "text/plain": [
       "0         1\n",
       "1         1\n",
       "2         1\n",
       "3         1\n",
       "4         1\n",
       "         ..\n",
       "100495    1\n",
       "100496    1\n",
       "100497    1\n",
       "100498    4\n",
       "100499    3\n",
       "Name: Quantity, Length: 100500, dtype: int64"
      ]
     },
     "execution_count": 83,
     "metadata": {},
     "output_type": "execute_result"
    }
   ],
   "source": [
    "df['Quantity']"
   ]
  },
  {
   "cell_type": "code",
   "execution_count": 84,
   "id": "7c084b82-e7ce-45bf-98b1-8a60f4ef5cc5",
   "metadata": {},
   "outputs": [
    {
     "data": {
      "text/plain": [
       "np.int64(0)"
      ]
     },
     "execution_count": 84,
     "metadata": {},
     "output_type": "execute_result"
    }
   ],
   "source": [
    "df['Quantity'].isnull().sum()"
   ]
  },
  {
   "cell_type": "code",
   "execution_count": 85,
   "id": "feb66bfd-7797-40f7-8f8b-99210bb1ce5c",
   "metadata": {},
   "outputs": [
    {
     "name": "stdout",
     "output_type": "stream",
     "text": [
      "<class 'pandas.core.frame.DataFrame'>\n",
      "RangeIndex: 100500 entries, 0 to 100499\n",
      "Data columns (total 21 columns):\n",
      " #   Column              Non-Null Count   Dtype         \n",
      "---  ------              --------------   -----         \n",
      " 0   CustomerID          100500 non-null  object        \n",
      " 1   CustomerName        100500 non-null  object        \n",
      " 2   Gender              100500 non-null  object        \n",
      " 3   Age                 100500 non-null  int64         \n",
      " 4   Country             100500 non-null  object        \n",
      " 5   OrderID             100500 non-null  object        \n",
      " 6   OrderDate           100299 non-null  datetime64[ns]\n",
      " 7   ProductCategory     100500 non-null  object        \n",
      " 8   ProductName         100500 non-null  object        \n",
      " 9   Price               100500 non-null  float64       \n",
      " 10  Quantity            100500 non-null  int64         \n",
      " 11  DiscountRate        100500 non-null  float64       \n",
      " 12  HasDiscountApplied  100500 non-null  object        \n",
      " 13  TotalAmount         100500 non-null  float64       \n",
      " 14  PaymentMethod       99490 non-null   object        \n",
      " 15  DeviceType          100500 non-null  object        \n",
      " 16  ReferralSource      100500 non-null  object        \n",
      " 17  SessionDuration     100500 non-null  float64       \n",
      " 18  CustomerTenureDays  100500 non-null  float64       \n",
      " 19  ReviewScore         100500 non-null  float64       \n",
      " 20  ReviewText          41962 non-null   object        \n",
      "dtypes: datetime64[ns](1), float64(6), int64(2), object(12)\n",
      "memory usage: 16.1+ MB\n"
     ]
    }
   ],
   "source": [
    "df.info()"
   ]
  },
  {
   "cell_type": "code",
   "execution_count": 86,
   "id": "2e5ce2de-cbc8-4ceb-8979-7bc08784c354",
   "metadata": {},
   "outputs": [
    {
     "data": {
      "text/plain": [
       "0          0.0\n",
       "1          0.0\n",
       "2          0.0\n",
       "3          0.0\n",
       "4          0.0\n",
       "          ... \n",
       "100495     5.0\n",
       "100496     0.0\n",
       "100497     5.0\n",
       "100498     0.0\n",
       "100499    20.0\n",
       "Name: DiscountRate, Length: 100500, dtype: float64"
      ]
     },
     "execution_count": 86,
     "metadata": {},
     "output_type": "execute_result"
    }
   ],
   "source": [
    "df['DiscountRate']"
   ]
  },
  {
   "cell_type": "code",
   "execution_count": 87,
   "id": "83a65d8c-cef2-4d97-99ff-e5d94522cc09",
   "metadata": {},
   "outputs": [],
   "source": [
    "df['DiscountRate'] = (\n",
    "    df['DiscountRate']\n",
    "    .astype(str)\n",
    "    .str.replace('%', '', regex=False)  \n",
    "    .str.strip()\n",
    ")\n",
    "df['DiscountRate'] = pd.to_numeric(df['DiscountRate'], errors='coerce')\n"
   ]
  },
  {
   "cell_type": "code",
   "execution_count": 88,
   "id": "babfe2d6-6fc8-4645-be06-f7defab308bc",
   "metadata": {},
   "outputs": [
    {
     "data": {
      "text/plain": [
       "0          0.0\n",
       "1          0.0\n",
       "2          0.0\n",
       "3          0.0\n",
       "4          0.0\n",
       "          ... \n",
       "100495     5.0\n",
       "100496     0.0\n",
       "100497     5.0\n",
       "100498     0.0\n",
       "100499    20.0\n",
       "Name: DiscountRate, Length: 100500, dtype: float64"
      ]
     },
     "execution_count": 88,
     "metadata": {},
     "output_type": "execute_result"
    }
   ],
   "source": [
    "df['DiscountRate']"
   ]
  },
  {
   "cell_type": "code",
   "execution_count": 89,
   "id": "7d6ab5fc-dda3-40ba-b728-26f531101aef",
   "metadata": {},
   "outputs": [
    {
     "data": {
      "text/html": [
       "<div>\n",
       "<style scoped>\n",
       "    .dataframe tbody tr th:only-of-type {\n",
       "        vertical-align: middle;\n",
       "    }\n",
       "\n",
       "    .dataframe tbody tr th {\n",
       "        vertical-align: top;\n",
       "    }\n",
       "\n",
       "    .dataframe thead th {\n",
       "        text-align: right;\n",
       "    }\n",
       "</style>\n",
       "<table border=\"1\" class=\"dataframe\">\n",
       "  <thead>\n",
       "    <tr style=\"text-align: right;\">\n",
       "      <th></th>\n",
       "      <th>Age</th>\n",
       "      <th>OrderDate</th>\n",
       "      <th>Price</th>\n",
       "      <th>Quantity</th>\n",
       "      <th>DiscountRate</th>\n",
       "      <th>TotalAmount</th>\n",
       "      <th>SessionDuration</th>\n",
       "      <th>CustomerTenureDays</th>\n",
       "      <th>ReviewScore</th>\n",
       "    </tr>\n",
       "  </thead>\n",
       "  <tbody>\n",
       "    <tr>\n",
       "      <th>count</th>\n",
       "      <td>100500.000000</td>\n",
       "      <td>100299</td>\n",
       "      <td>100500.000000</td>\n",
       "      <td>100500.000000</td>\n",
       "      <td>100500.000000</td>\n",
       "      <td>100500.000000</td>\n",
       "      <td>100500.000000</td>\n",
       "      <td>100500.000000</td>\n",
       "      <td>100500.000000</td>\n",
       "    </tr>\n",
       "    <tr>\n",
       "      <th>mean</th>\n",
       "      <td>32.200428</td>\n",
       "      <td>2024-07-05 07:42:56.627882752</td>\n",
       "      <td>12969.015061</td>\n",
       "      <td>1.346985</td>\n",
       "      <td>3.732758</td>\n",
       "      <td>16636.518828</td>\n",
       "      <td>322.946302</td>\n",
       "      <td>402.047919</td>\n",
       "      <td>3.629075</td>\n",
       "    </tr>\n",
       "    <tr>\n",
       "      <th>min</th>\n",
       "      <td>18.000000</td>\n",
       "      <td>2024-01-01 00:00:00</td>\n",
       "      <td>255.050000</td>\n",
       "      <td>1.000000</td>\n",
       "      <td>0.000000</td>\n",
       "      <td>204.380000</td>\n",
       "      <td>16.191353</td>\n",
       "      <td>0.000000</td>\n",
       "      <td>0.919006</td>\n",
       "    </tr>\n",
       "    <tr>\n",
       "      <th>25%</th>\n",
       "      <td>25.000000</td>\n",
       "      <td>2024-04-02 00:00:00</td>\n",
       "      <td>1896.890000</td>\n",
       "      <td>1.000000</td>\n",
       "      <td>0.000000</td>\n",
       "      <td>2085.767500</td>\n",
       "      <td>112.000000</td>\n",
       "      <td>115.000000</td>\n",
       "      <td>3.000000</td>\n",
       "    </tr>\n",
       "    <tr>\n",
       "      <th>50%</th>\n",
       "      <td>32.000000</td>\n",
       "      <td>2024-07-04 00:00:00</td>\n",
       "      <td>7769.295000</td>\n",
       "      <td>1.000000</td>\n",
       "      <td>0.000000</td>\n",
       "      <td>8025.115000</td>\n",
       "      <td>231.000000</td>\n",
       "      <td>278.000000</td>\n",
       "      <td>4.000000</td>\n",
       "    </tr>\n",
       "    <tr>\n",
       "      <th>75%</th>\n",
       "      <td>39.000000</td>\n",
       "      <td>2024-10-05 00:00:00</td>\n",
       "      <td>18445.222500</td>\n",
       "      <td>1.000000</td>\n",
       "      <td>5.000000</td>\n",
       "      <td>22620.780000</td>\n",
       "      <td>436.000000</td>\n",
       "      <td>556.000000</td>\n",
       "      <td>4.000000</td>\n",
       "    </tr>\n",
       "    <tr>\n",
       "      <th>max</th>\n",
       "      <td>81.000000</td>\n",
       "      <td>2024-12-31 00:00:00</td>\n",
       "      <td>74911.034740</td>\n",
       "      <td>5.000000</td>\n",
       "      <td>28.270089</td>\n",
       "      <td>249669.520000</td>\n",
       "      <td>3465.000000</td>\n",
       "      <td>6287.000000</td>\n",
       "      <td>5.000000</td>\n",
       "    </tr>\n",
       "    <tr>\n",
       "      <th>std</th>\n",
       "      <td>9.395823</td>\n",
       "      <td>NaN</td>\n",
       "      <td>14705.752729</td>\n",
       "      <td>0.782397</td>\n",
       "      <td>5.572621</td>\n",
       "      <td>23898.641885</td>\n",
       "      <td>297.289047</td>\n",
       "      <td>403.322816</td>\n",
       "      <td>1.108081</td>\n",
       "    </tr>\n",
       "  </tbody>\n",
       "</table>\n",
       "</div>"
      ],
      "text/plain": [
       "                 Age                      OrderDate          Price  \\\n",
       "count  100500.000000                         100299  100500.000000   \n",
       "mean       32.200428  2024-07-05 07:42:56.627882752   12969.015061   \n",
       "min        18.000000            2024-01-01 00:00:00     255.050000   \n",
       "25%        25.000000            2024-04-02 00:00:00    1896.890000   \n",
       "50%        32.000000            2024-07-04 00:00:00    7769.295000   \n",
       "75%        39.000000            2024-10-05 00:00:00   18445.222500   \n",
       "max        81.000000            2024-12-31 00:00:00   74911.034740   \n",
       "std         9.395823                            NaN   14705.752729   \n",
       "\n",
       "            Quantity   DiscountRate    TotalAmount  SessionDuration  \\\n",
       "count  100500.000000  100500.000000  100500.000000    100500.000000   \n",
       "mean        1.346985       3.732758   16636.518828       322.946302   \n",
       "min         1.000000       0.000000     204.380000        16.191353   \n",
       "25%         1.000000       0.000000    2085.767500       112.000000   \n",
       "50%         1.000000       0.000000    8025.115000       231.000000   \n",
       "75%         1.000000       5.000000   22620.780000       436.000000   \n",
       "max         5.000000      28.270089  249669.520000      3465.000000   \n",
       "std         0.782397       5.572621   23898.641885       297.289047   \n",
       "\n",
       "       CustomerTenureDays    ReviewScore  \n",
       "count       100500.000000  100500.000000  \n",
       "mean           402.047919       3.629075  \n",
       "min              0.000000       0.919006  \n",
       "25%            115.000000       3.000000  \n",
       "50%            278.000000       4.000000  \n",
       "75%            556.000000       4.000000  \n",
       "max           6287.000000       5.000000  \n",
       "std            403.322816       1.108081  "
      ]
     },
     "execution_count": 89,
     "metadata": {},
     "output_type": "execute_result"
    }
   ],
   "source": [
    "df.describe()"
   ]
  },
  {
   "cell_type": "code",
   "execution_count": 90,
   "id": "97ca7f30-375b-4d62-bb4e-ab1408974bd8",
   "metadata": {},
   "outputs": [
    {
     "name": "stdout",
     "output_type": "stream",
     "text": [
      "<class 'pandas.core.frame.DataFrame'>\n",
      "RangeIndex: 100500 entries, 0 to 100499\n",
      "Data columns (total 21 columns):\n",
      " #   Column              Non-Null Count   Dtype         \n",
      "---  ------              --------------   -----         \n",
      " 0   CustomerID          100500 non-null  object        \n",
      " 1   CustomerName        100500 non-null  object        \n",
      " 2   Gender              100500 non-null  object        \n",
      " 3   Age                 100500 non-null  int64         \n",
      " 4   Country             100500 non-null  object        \n",
      " 5   OrderID             100500 non-null  object        \n",
      " 6   OrderDate           100299 non-null  datetime64[ns]\n",
      " 7   ProductCategory     100500 non-null  object        \n",
      " 8   ProductName         100500 non-null  object        \n",
      " 9   Price               100500 non-null  float64       \n",
      " 10  Quantity            100500 non-null  int64         \n",
      " 11  DiscountRate        100500 non-null  float64       \n",
      " 12  HasDiscountApplied  100500 non-null  object        \n",
      " 13  TotalAmount         100500 non-null  float64       \n",
      " 14  PaymentMethod       99490 non-null   object        \n",
      " 15  DeviceType          100500 non-null  object        \n",
      " 16  ReferralSource      100500 non-null  object        \n",
      " 17  SessionDuration     100500 non-null  float64       \n",
      " 18  CustomerTenureDays  100500 non-null  float64       \n",
      " 19  ReviewScore         100500 non-null  float64       \n",
      " 20  ReviewText          41962 non-null   object        \n",
      "dtypes: datetime64[ns](1), float64(6), int64(2), object(12)\n",
      "memory usage: 16.1+ MB\n"
     ]
    }
   ],
   "source": [
    "df.info()"
   ]
  },
  {
   "cell_type": "code",
   "execution_count": 91,
   "id": "15a70ce8-aed0-4576-b15f-b57da2960292",
   "metadata": {},
   "outputs": [
    {
     "data": {
      "text/plain": [
       "0         FALSE\n",
       "1         FALSE\n",
       "2         FALSE\n",
       "3         FALSE\n",
       "4         FALSE\n",
       "          ...  \n",
       "100495     TRUE\n",
       "100496    FALSE\n",
       "100497     TRUE\n",
       "100498    FALSE\n",
       "100499     TRUE\n",
       "Name: HasDiscountApplied, Length: 100500, dtype: object"
      ]
     },
     "execution_count": 91,
     "metadata": {},
     "output_type": "execute_result"
    }
   ],
   "source": [
    "df['HasDiscountApplied']"
   ]
  },
  {
   "cell_type": "code",
   "execution_count": 92,
   "id": "a15e2dd7-f0e7-46cb-b462-223cfeb96136",
   "metadata": {},
   "outputs": [
    {
     "data": {
      "text/plain": [
       "HasDiscountApplied\n",
       "FALSE     59030\n",
       "TRUE      39457\n",
       " False      661\n",
       "False       558\n",
       " True       414\n",
       "True        380\n",
       "Name: count, dtype: int64"
      ]
     },
     "execution_count": 92,
     "metadata": {},
     "output_type": "execute_result"
    }
   ],
   "source": [
    "df['HasDiscountApplied'].value_counts()"
   ]
  },
  {
   "cell_type": "code",
   "execution_count": 93,
   "id": "653e5a66-3a09-4bef-983b-0602bebed446",
   "metadata": {},
   "outputs": [],
   "source": [
    "df['HasDiscountApplied']=df['HasDiscountApplied'].astype(str).str.strip().str.title()"
   ]
  },
  {
   "cell_type": "code",
   "execution_count": 94,
   "id": "5121c804-0210-4534-945f-db2a22135aae",
   "metadata": {},
   "outputs": [
    {
     "data": {
      "text/plain": [
       "HasDiscountApplied\n",
       "False    60249\n",
       "True     40251\n",
       "Name: count, dtype: int64"
      ]
     },
     "execution_count": 94,
     "metadata": {},
     "output_type": "execute_result"
    }
   ],
   "source": [
    "df['HasDiscountApplied'].value_counts()"
   ]
  },
  {
   "cell_type": "code",
   "execution_count": 95,
   "id": "3c505ddd-d709-480d-be31-990106679804",
   "metadata": {},
   "outputs": [
    {
     "data": {
      "text/plain": [
       "np.int64(0)"
      ]
     },
     "execution_count": 95,
     "metadata": {},
     "output_type": "execute_result"
    }
   ],
   "source": [
    "df['HasDiscountApplied'].isnull().sum()"
   ]
  },
  {
   "cell_type": "code",
   "execution_count": 96,
   "id": "299d3973-a873-4b08-ab9a-03f8e141d75d",
   "metadata": {},
   "outputs": [
    {
     "name": "stdout",
     "output_type": "stream",
     "text": [
      "<class 'pandas.core.frame.DataFrame'>\n",
      "RangeIndex: 100500 entries, 0 to 100499\n",
      "Data columns (total 21 columns):\n",
      " #   Column              Non-Null Count   Dtype         \n",
      "---  ------              --------------   -----         \n",
      " 0   CustomerID          100500 non-null  object        \n",
      " 1   CustomerName        100500 non-null  object        \n",
      " 2   Gender              100500 non-null  object        \n",
      " 3   Age                 100500 non-null  int64         \n",
      " 4   Country             100500 non-null  object        \n",
      " 5   OrderID             100500 non-null  object        \n",
      " 6   OrderDate           100299 non-null  datetime64[ns]\n",
      " 7   ProductCategory     100500 non-null  object        \n",
      " 8   ProductName         100500 non-null  object        \n",
      " 9   Price               100500 non-null  float64       \n",
      " 10  Quantity            100500 non-null  int64         \n",
      " 11  DiscountRate        100500 non-null  float64       \n",
      " 12  HasDiscountApplied  100500 non-null  object        \n",
      " 13  TotalAmount         100500 non-null  float64       \n",
      " 14  PaymentMethod       99490 non-null   object        \n",
      " 15  DeviceType          100500 non-null  object        \n",
      " 16  ReferralSource      100500 non-null  object        \n",
      " 17  SessionDuration     100500 non-null  float64       \n",
      " 18  CustomerTenureDays  100500 non-null  float64       \n",
      " 19  ReviewScore         100500 non-null  float64       \n",
      " 20  ReviewText          41962 non-null   object        \n",
      "dtypes: datetime64[ns](1), float64(6), int64(2), object(12)\n",
      "memory usage: 16.1+ MB\n"
     ]
    }
   ],
   "source": [
    "df.info()"
   ]
  },
  {
   "cell_type": "code",
   "execution_count": 97,
   "id": "8430c3cf-f8fe-4c63-a641-d9a798ba9394",
   "metadata": {},
   "outputs": [
    {
     "data": {
      "text/plain": [
       "0          2196.74\n",
       "1          1843.29\n",
       "2         26148.78\n",
       "3         29340.19\n",
       "4         24367.64\n",
       "            ...   \n",
       "100495    28346.35\n",
       "100496     1828.11\n",
       "100497     8573.46\n",
       "100498    15662.88\n",
       "100499    36807.72\n",
       "Name: TotalAmount, Length: 100500, dtype: float64"
      ]
     },
     "execution_count": 97,
     "metadata": {},
     "output_type": "execute_result"
    }
   ],
   "source": [
    "df['TotalAmount']"
   ]
  },
  {
   "cell_type": "code",
   "execution_count": 98,
   "id": "402e8401-2759-486d-8fd4-7b50012e0475",
   "metadata": {},
   "outputs": [
    {
     "data": {
      "text/html": [
       "<div>\n",
       "<style scoped>\n",
       "    .dataframe tbody tr th:only-of-type {\n",
       "        vertical-align: middle;\n",
       "    }\n",
       "\n",
       "    .dataframe tbody tr th {\n",
       "        vertical-align: top;\n",
       "    }\n",
       "\n",
       "    .dataframe thead th {\n",
       "        text-align: right;\n",
       "    }\n",
       "</style>\n",
       "<table border=\"1\" class=\"dataframe\">\n",
       "  <thead>\n",
       "    <tr style=\"text-align: right;\">\n",
       "      <th></th>\n",
       "      <th>Age</th>\n",
       "      <th>OrderDate</th>\n",
       "      <th>Price</th>\n",
       "      <th>Quantity</th>\n",
       "      <th>DiscountRate</th>\n",
       "      <th>TotalAmount</th>\n",
       "      <th>SessionDuration</th>\n",
       "      <th>CustomerTenureDays</th>\n",
       "      <th>ReviewScore</th>\n",
       "    </tr>\n",
       "  </thead>\n",
       "  <tbody>\n",
       "    <tr>\n",
       "      <th>count</th>\n",
       "      <td>100500.000000</td>\n",
       "      <td>100299</td>\n",
       "      <td>100500.000000</td>\n",
       "      <td>100500.000000</td>\n",
       "      <td>100500.000000</td>\n",
       "      <td>100500.000000</td>\n",
       "      <td>100500.000000</td>\n",
       "      <td>100500.000000</td>\n",
       "      <td>100500.000000</td>\n",
       "    </tr>\n",
       "    <tr>\n",
       "      <th>mean</th>\n",
       "      <td>32.200428</td>\n",
       "      <td>2024-07-05 07:42:56.627882752</td>\n",
       "      <td>12969.015061</td>\n",
       "      <td>1.346985</td>\n",
       "      <td>3.732758</td>\n",
       "      <td>16636.518828</td>\n",
       "      <td>322.946302</td>\n",
       "      <td>402.047919</td>\n",
       "      <td>3.629075</td>\n",
       "    </tr>\n",
       "    <tr>\n",
       "      <th>min</th>\n",
       "      <td>18.000000</td>\n",
       "      <td>2024-01-01 00:00:00</td>\n",
       "      <td>255.050000</td>\n",
       "      <td>1.000000</td>\n",
       "      <td>0.000000</td>\n",
       "      <td>204.380000</td>\n",
       "      <td>16.191353</td>\n",
       "      <td>0.000000</td>\n",
       "      <td>0.919006</td>\n",
       "    </tr>\n",
       "    <tr>\n",
       "      <th>25%</th>\n",
       "      <td>25.000000</td>\n",
       "      <td>2024-04-02 00:00:00</td>\n",
       "      <td>1896.890000</td>\n",
       "      <td>1.000000</td>\n",
       "      <td>0.000000</td>\n",
       "      <td>2085.767500</td>\n",
       "      <td>112.000000</td>\n",
       "      <td>115.000000</td>\n",
       "      <td>3.000000</td>\n",
       "    </tr>\n",
       "    <tr>\n",
       "      <th>50%</th>\n",
       "      <td>32.000000</td>\n",
       "      <td>2024-07-04 00:00:00</td>\n",
       "      <td>7769.295000</td>\n",
       "      <td>1.000000</td>\n",
       "      <td>0.000000</td>\n",
       "      <td>8025.115000</td>\n",
       "      <td>231.000000</td>\n",
       "      <td>278.000000</td>\n",
       "      <td>4.000000</td>\n",
       "    </tr>\n",
       "    <tr>\n",
       "      <th>75%</th>\n",
       "      <td>39.000000</td>\n",
       "      <td>2024-10-05 00:00:00</td>\n",
       "      <td>18445.222500</td>\n",
       "      <td>1.000000</td>\n",
       "      <td>5.000000</td>\n",
       "      <td>22620.780000</td>\n",
       "      <td>436.000000</td>\n",
       "      <td>556.000000</td>\n",
       "      <td>4.000000</td>\n",
       "    </tr>\n",
       "    <tr>\n",
       "      <th>max</th>\n",
       "      <td>81.000000</td>\n",
       "      <td>2024-12-31 00:00:00</td>\n",
       "      <td>74911.034740</td>\n",
       "      <td>5.000000</td>\n",
       "      <td>28.270089</td>\n",
       "      <td>249669.520000</td>\n",
       "      <td>3465.000000</td>\n",
       "      <td>6287.000000</td>\n",
       "      <td>5.000000</td>\n",
       "    </tr>\n",
       "    <tr>\n",
       "      <th>std</th>\n",
       "      <td>9.395823</td>\n",
       "      <td>NaN</td>\n",
       "      <td>14705.752729</td>\n",
       "      <td>0.782397</td>\n",
       "      <td>5.572621</td>\n",
       "      <td>23898.641885</td>\n",
       "      <td>297.289047</td>\n",
       "      <td>403.322816</td>\n",
       "      <td>1.108081</td>\n",
       "    </tr>\n",
       "  </tbody>\n",
       "</table>\n",
       "</div>"
      ],
      "text/plain": [
       "                 Age                      OrderDate          Price  \\\n",
       "count  100500.000000                         100299  100500.000000   \n",
       "mean       32.200428  2024-07-05 07:42:56.627882752   12969.015061   \n",
       "min        18.000000            2024-01-01 00:00:00     255.050000   \n",
       "25%        25.000000            2024-04-02 00:00:00    1896.890000   \n",
       "50%        32.000000            2024-07-04 00:00:00    7769.295000   \n",
       "75%        39.000000            2024-10-05 00:00:00   18445.222500   \n",
       "max        81.000000            2024-12-31 00:00:00   74911.034740   \n",
       "std         9.395823                            NaN   14705.752729   \n",
       "\n",
       "            Quantity   DiscountRate    TotalAmount  SessionDuration  \\\n",
       "count  100500.000000  100500.000000  100500.000000    100500.000000   \n",
       "mean        1.346985       3.732758   16636.518828       322.946302   \n",
       "min         1.000000       0.000000     204.380000        16.191353   \n",
       "25%         1.000000       0.000000    2085.767500       112.000000   \n",
       "50%         1.000000       0.000000    8025.115000       231.000000   \n",
       "75%         1.000000       5.000000   22620.780000       436.000000   \n",
       "max         5.000000      28.270089  249669.520000      3465.000000   \n",
       "std         0.782397       5.572621   23898.641885       297.289047   \n",
       "\n",
       "       CustomerTenureDays    ReviewScore  \n",
       "count       100500.000000  100500.000000  \n",
       "mean           402.047919       3.629075  \n",
       "min              0.000000       0.919006  \n",
       "25%            115.000000       3.000000  \n",
       "50%            278.000000       4.000000  \n",
       "75%            556.000000       4.000000  \n",
       "max           6287.000000       5.000000  \n",
       "std            403.322816       1.108081  "
      ]
     },
     "execution_count": 98,
     "metadata": {},
     "output_type": "execute_result"
    }
   ],
   "source": [
    "df.describe()"
   ]
  },
  {
   "cell_type": "code",
   "execution_count": 99,
   "id": "490c848f-d022-45ec-83dd-9ba0874d5ba6",
   "metadata": {},
   "outputs": [
    {
     "data": {
      "text/plain": [
       "0         Netbanking\n",
       "1         Netbanking\n",
       "2                UPI\n",
       "3                UPI\n",
       "4                UPI\n",
       "             ...    \n",
       "100495           UPI\n",
       "100496           UPI\n",
       "100497           UPI\n",
       "100498           UPI\n",
       "100499          Card\n",
       "Name: PaymentMethod, Length: 100500, dtype: object"
      ]
     },
     "execution_count": 99,
     "metadata": {},
     "output_type": "execute_result"
    }
   ],
   "source": [
    "df['PaymentMethod']"
   ]
  },
  {
   "cell_type": "code",
   "execution_count": 100,
   "id": "e96347a3-a818-4e16-95e6-f75f76341345",
   "metadata": {},
   "outputs": [],
   "source": [
    "df['PaymentMethod']=df['PaymentMethod'].astype(str).str.strip().str.title()"
   ]
  },
  {
   "cell_type": "code",
   "execution_count": 101,
   "id": "08cd0658-4ef7-48e0-95ba-531daeddb937",
   "metadata": {},
   "outputs": [
    {
     "data": {
      "text/plain": [
       "PaymentMethod\n",
       "Upi           59361\n",
       "Card          20051\n",
       "Netbanking    11999\n",
       "Cod            8035\n",
       "Nan            1043\n",
       "Na                4\n",
       "                  3\n",
       "Null              2\n",
       "N/A               2\n",
       "Name: count, dtype: int64"
      ]
     },
     "execution_count": 101,
     "metadata": {},
     "output_type": "execute_result"
    }
   ],
   "source": [
    "df['PaymentMethod'].value_counts()"
   ]
  },
  {
   "cell_type": "code",
   "execution_count": 102,
   "id": "801581f3-cb9d-4d0a-af6d-6cca6882aa1f",
   "metadata": {},
   "outputs": [],
   "source": [
    "df['PaymentMethod']=df['PaymentMethod'].replace('','Unknown')"
   ]
  },
  {
   "cell_type": "code",
   "execution_count": 103,
   "id": "91a406e7-d409-4ece-997a-bbcf3aa05b76",
   "metadata": {},
   "outputs": [
    {
     "data": {
      "text/plain": [
       "PaymentMethod\n",
       "Upi           59361\n",
       "Card          20051\n",
       "Netbanking    11999\n",
       "Cod            8035\n",
       "Nan            1043\n",
       "Na                4\n",
       "Unknown           3\n",
       "Null              2\n",
       "N/A               2\n",
       "Name: count, dtype: int64"
      ]
     },
     "execution_count": 103,
     "metadata": {},
     "output_type": "execute_result"
    }
   ],
   "source": [
    "df['PaymentMethod'].value_counts()"
   ]
  },
  {
   "cell_type": "code",
   "execution_count": 104,
   "id": "e0dd346f-252d-4473-8ab0-dc1dd2e8190c",
   "metadata": {},
   "outputs": [],
   "source": [
    "df['PaymentMethod']=df['PaymentMethod'].replace('N/A','Unknown')"
   ]
  },
  {
   "cell_type": "code",
   "execution_count": 105,
   "id": "c1f9275d-835a-4063-9640-43180a21b00c",
   "metadata": {},
   "outputs": [
    {
     "data": {
      "text/plain": [
       "PaymentMethod\n",
       "Upi           59361\n",
       "Card          20051\n",
       "Netbanking    11999\n",
       "Cod            8035\n",
       "Nan            1043\n",
       "Unknown           5\n",
       "Na                4\n",
       "Null              2\n",
       "Name: count, dtype: int64"
      ]
     },
     "execution_count": 105,
     "metadata": {},
     "output_type": "execute_result"
    }
   ],
   "source": [
    "df['PaymentMethod'].value_counts()"
   ]
  },
  {
   "cell_type": "code",
   "execution_count": 106,
   "id": "7b615bcb-5e87-42f8-8dfb-2be4a0905b64",
   "metadata": {},
   "outputs": [],
   "source": [
    "df['PaymentMethod']=df['PaymentMethod'].replace('Null','Unknown')"
   ]
  },
  {
   "cell_type": "code",
   "execution_count": 107,
   "id": "50aad257-2eab-4536-92c6-9733b6e578a8",
   "metadata": {},
   "outputs": [
    {
     "data": {
      "text/plain": [
       "PaymentMethod\n",
       "Upi           59361\n",
       "Card          20051\n",
       "Netbanking    11999\n",
       "Cod            8035\n",
       "Nan            1043\n",
       "Unknown           7\n",
       "Na                4\n",
       "Name: count, dtype: int64"
      ]
     },
     "execution_count": 107,
     "metadata": {},
     "output_type": "execute_result"
    }
   ],
   "source": [
    "df['PaymentMethod'].value_counts()"
   ]
  },
  {
   "cell_type": "code",
   "execution_count": 108,
   "id": "0abd9149-6601-496c-af31-02d8fa8a5974",
   "metadata": {},
   "outputs": [],
   "source": [
    "df['PaymentMethod']=df['PaymentMethod'].replace('Na','Unknown')"
   ]
  },
  {
   "cell_type": "code",
   "execution_count": 109,
   "id": "6a6567a2-6f7d-436b-b80a-9852fbcbf431",
   "metadata": {},
   "outputs": [
    {
     "data": {
      "text/plain": [
       "PaymentMethod\n",
       "Upi           59361\n",
       "Card          20051\n",
       "Netbanking    11999\n",
       "Cod            8035\n",
       "Nan            1043\n",
       "Unknown          11\n",
       "Name: count, dtype: int64"
      ]
     },
     "execution_count": 109,
     "metadata": {},
     "output_type": "execute_result"
    }
   ],
   "source": [
    "df['PaymentMethod'].value_counts()"
   ]
  },
  {
   "cell_type": "code",
   "execution_count": 110,
   "id": "cef8539a-a11b-4308-8601-bc84ec764558",
   "metadata": {},
   "outputs": [],
   "source": [
    "df['PaymentMethod']=df['PaymentMethod'].replace('Nan','Unknown')"
   ]
  },
  {
   "cell_type": "code",
   "execution_count": 111,
   "id": "0975140b-0eb2-498e-b194-2eda069983d7",
   "metadata": {},
   "outputs": [
    {
     "data": {
      "text/plain": [
       "PaymentMethod\n",
       "Upi           59361\n",
       "Card          20051\n",
       "Netbanking    11999\n",
       "Cod            8035\n",
       "Unknown        1054\n",
       "Name: count, dtype: int64"
      ]
     },
     "execution_count": 111,
     "metadata": {},
     "output_type": "execute_result"
    }
   ],
   "source": [
    "df['PaymentMethod'].value_counts()"
   ]
  },
  {
   "cell_type": "code",
   "execution_count": 112,
   "id": "37574df4-8623-4aa2-a400-0b1f0d8da1bb",
   "metadata": {},
   "outputs": [
    {
     "name": "stdout",
     "output_type": "stream",
     "text": [
      "<class 'pandas.core.frame.DataFrame'>\n",
      "RangeIndex: 100500 entries, 0 to 100499\n",
      "Data columns (total 21 columns):\n",
      " #   Column              Non-Null Count   Dtype         \n",
      "---  ------              --------------   -----         \n",
      " 0   CustomerID          100500 non-null  object        \n",
      " 1   CustomerName        100500 non-null  object        \n",
      " 2   Gender              100500 non-null  object        \n",
      " 3   Age                 100500 non-null  int64         \n",
      " 4   Country             100500 non-null  object        \n",
      " 5   OrderID             100500 non-null  object        \n",
      " 6   OrderDate           100299 non-null  datetime64[ns]\n",
      " 7   ProductCategory     100500 non-null  object        \n",
      " 8   ProductName         100500 non-null  object        \n",
      " 9   Price               100500 non-null  float64       \n",
      " 10  Quantity            100500 non-null  int64         \n",
      " 11  DiscountRate        100500 non-null  float64       \n",
      " 12  HasDiscountApplied  100500 non-null  object        \n",
      " 13  TotalAmount         100500 non-null  float64       \n",
      " 14  PaymentMethod       100500 non-null  object        \n",
      " 15  DeviceType          100500 non-null  object        \n",
      " 16  ReferralSource      100500 non-null  object        \n",
      " 17  SessionDuration     100500 non-null  float64       \n",
      " 18  CustomerTenureDays  100500 non-null  float64       \n",
      " 19  ReviewScore         100500 non-null  float64       \n",
      " 20  ReviewText          41962 non-null   object        \n",
      "dtypes: datetime64[ns](1), float64(6), int64(2), object(12)\n",
      "memory usage: 16.1+ MB\n"
     ]
    }
   ],
   "source": [
    "df.info()"
   ]
  },
  {
   "cell_type": "code",
   "execution_count": 113,
   "id": "119c8dd0-e1e9-4eab-b915-ca5d44cb8645",
   "metadata": {},
   "outputs": [
    {
     "data": {
      "text/plain": [
       "0          Mobile\n",
       "1          Mobile\n",
       "2          Mobile\n",
       "3          Mobile\n",
       "4          Mobile\n",
       "           ...   \n",
       "100495     Mobile\n",
       "100496     Mobile\n",
       "100497     Mobile\n",
       "100498    Desktop\n",
       "100499     Mobile\n",
       "Name: DeviceType, Length: 100500, dtype: object"
      ]
     },
     "execution_count": 113,
     "metadata": {},
     "output_type": "execute_result"
    }
   ],
   "source": [
    "df['DeviceType']"
   ]
  },
  {
   "cell_type": "code",
   "execution_count": 114,
   "id": "5255715f-e5da-4c53-8ee8-510265232c00",
   "metadata": {},
   "outputs": [],
   "source": [
    "df['DeviceType']=df['DeviceType'].astype(str).str.strip().str.title()"
   ]
  },
  {
   "cell_type": "code",
   "execution_count": 115,
   "id": "7ec85441-47b2-4a7b-95bc-2c5e60c0fa57",
   "metadata": {},
   "outputs": [
    {
     "data": {
      "text/plain": [
       "DeviceType\n",
       "Mobile     70404\n",
       "Desktop    15045\n",
       "Tablet      9930\n",
       "Other       5121\n",
       "Name: count, dtype: int64"
      ]
     },
     "execution_count": 115,
     "metadata": {},
     "output_type": "execute_result"
    }
   ],
   "source": [
    "df['DeviceType'].value_counts()"
   ]
  },
  {
   "cell_type": "code",
   "execution_count": 116,
   "id": "088dd8cb-5a95-441e-bf08-8217de28c22c",
   "metadata": {},
   "outputs": [
    {
     "data": {
      "text/plain": [
       "0         Organic\n",
       "1          Search\n",
       "2           Email\n",
       "3              Ad\n",
       "4          Friend\n",
       "           ...   \n",
       "100495    Organic\n",
       "100496     Social\n",
       "100497     Friend\n",
       "100498     Social\n",
       "100499         Ad\n",
       "Name: ReferralSource, Length: 100500, dtype: object"
      ]
     },
     "execution_count": 116,
     "metadata": {},
     "output_type": "execute_result"
    }
   ],
   "source": [
    "df['ReferralSource']"
   ]
  },
  {
   "cell_type": "code",
   "execution_count": 117,
   "id": "7c460fc9-5b18-4278-92b5-fdea51a4ae6e",
   "metadata": {},
   "outputs": [],
   "source": [
    "df['ReferralSource']=df['ReferralSource'].astype(str).str.strip().str.title()"
   ]
  },
  {
   "cell_type": "code",
   "execution_count": 118,
   "id": "d90a78a0-303d-47b4-91c8-f438ad88d6af",
   "metadata": {},
   "outputs": [
    {
     "data": {
      "text/plain": [
       "ReferralSource\n",
       "Organic    35183\n",
       "Friend     20112\n",
       "Ad         15172\n",
       "Social     15116\n",
       "Email      10025\n",
       "Search      4892\n",
       "Name: count, dtype: int64"
      ]
     },
     "execution_count": 118,
     "metadata": {},
     "output_type": "execute_result"
    }
   ],
   "source": [
    "df['ReferralSource'].value_counts()"
   ]
  },
  {
   "cell_type": "code",
   "execution_count": 119,
   "id": "5e3430b5-a88a-4b25-9105-125e8ff3a743",
   "metadata": {},
   "outputs": [
    {
     "data": {
      "text/plain": [
       "0         970.0\n",
       "1         240.0\n",
       "2         233.0\n",
       "3         163.0\n",
       "4         149.0\n",
       "          ...  \n",
       "100495    185.0\n",
       "100496    204.0\n",
       "100497    185.0\n",
       "100498    170.0\n",
       "100499    135.0\n",
       "Name: SessionDuration, Length: 100500, dtype: float64"
      ]
     },
     "execution_count": 119,
     "metadata": {},
     "output_type": "execute_result"
    }
   ],
   "source": [
    "df['SessionDuration']"
   ]
  },
  {
   "cell_type": "code",
   "execution_count": 120,
   "id": "a98d801b-1af8-4d07-9f20-07dd95434835",
   "metadata": {},
   "outputs": [
    {
     "data": {
      "text/plain": [
       "np.int64(0)"
      ]
     },
     "execution_count": 120,
     "metadata": {},
     "output_type": "execute_result"
    }
   ],
   "source": [
    "df['SessionDuration'].isnull().sum()"
   ]
  },
  {
   "cell_type": "code",
   "execution_count": 121,
   "id": "ce084f0c-c2cd-41f8-b145-2e524491b0b9",
   "metadata": {},
   "outputs": [
    {
     "data": {
      "text/plain": [
       "0         423.0\n",
       "1         917.0\n",
       "2         560.0\n",
       "3          91.0\n",
       "4          11.0\n",
       "          ...  \n",
       "100495    621.0\n",
       "100496      8.0\n",
       "100497     92.0\n",
       "100498    207.0\n",
       "100499     45.0\n",
       "Name: CustomerTenureDays, Length: 100500, dtype: float64"
      ]
     },
     "execution_count": 121,
     "metadata": {},
     "output_type": "execute_result"
    }
   ],
   "source": [
    "df['CustomerTenureDays']"
   ]
  },
  {
   "cell_type": "code",
   "execution_count": 122,
   "id": "bf7f94d9-063e-47bc-a484-27aa81212e30",
   "metadata": {},
   "outputs": [
    {
     "data": {
      "text/plain": [
       "0         5.0\n",
       "1         3.0\n",
       "2         5.0\n",
       "3         4.0\n",
       "4         4.0\n",
       "         ... \n",
       "100495    5.0\n",
       "100496    3.0\n",
       "100497    4.0\n",
       "100498    3.0\n",
       "100499    5.0\n",
       "Name: ReviewScore, Length: 100500, dtype: float64"
      ]
     },
     "execution_count": 122,
     "metadata": {},
     "output_type": "execute_result"
    }
   ],
   "source": [
    "df['ReviewScore']"
   ]
  },
  {
   "cell_type": "code",
   "execution_count": 123,
   "id": "5d4cd8fb-1793-4ae8-8c3c-b332df70eadb",
   "metadata": {},
   "outputs": [
    {
     "data": {
      "text/plain": [
       "ReviewScore\n",
       "4.000000    33314\n",
       "3.000000    23939\n",
       "5.000000    23757\n",
       "2.000000     9595\n",
       "1.000000     4870\n",
       "3.676023     1785\n",
       "2.757017     1267\n",
       "4.595029     1216\n",
       "1.838012      507\n",
       "0.919006      250\n",
       "Name: count, dtype: int64"
      ]
     },
     "execution_count": 123,
     "metadata": {},
     "output_type": "execute_result"
    }
   ],
   "source": [
    "df['ReviewScore'].value_counts()"
   ]
  },
  {
   "cell_type": "code",
   "execution_count": 124,
   "id": "13f28443-6277-4aec-a955-c057da17ae0f",
   "metadata": {},
   "outputs": [],
   "source": [
    "df.loc[df['ReviewScore'] < 1, 'ReviewScore'] = np.nan\n",
    "df.loc[df['ReviewScore'] > 5, 'ReviewScore'] = np.nan"
   ]
  },
  {
   "cell_type": "code",
   "execution_count": 125,
   "id": "e6f5b8e6-2265-46f1-83a8-d6d611a914ee",
   "metadata": {},
   "outputs": [
    {
     "data": {
      "text/plain": [
       "ReviewScore\n",
       "4.000000    33314\n",
       "3.000000    23939\n",
       "5.000000    23757\n",
       "2.000000     9595\n",
       "1.000000     4870\n",
       "3.676023     1785\n",
       "2.757017     1267\n",
       "4.595029     1216\n",
       "1.838012      507\n",
       "Name: count, dtype: int64"
      ]
     },
     "execution_count": 125,
     "metadata": {},
     "output_type": "execute_result"
    }
   ],
   "source": [
    "df['ReviewScore'].value_counts()"
   ]
  },
  {
   "cell_type": "code",
   "execution_count": 126,
   "id": "965ce579-0f58-4d7f-82af-65a0709bcd87",
   "metadata": {},
   "outputs": [
    {
     "data": {
      "text/html": [
       "<div>\n",
       "<style scoped>\n",
       "    .dataframe tbody tr th:only-of-type {\n",
       "        vertical-align: middle;\n",
       "    }\n",
       "\n",
       "    .dataframe tbody tr th {\n",
       "        vertical-align: top;\n",
       "    }\n",
       "\n",
       "    .dataframe thead th {\n",
       "        text-align: right;\n",
       "    }\n",
       "</style>\n",
       "<table border=\"1\" class=\"dataframe\">\n",
       "  <thead>\n",
       "    <tr style=\"text-align: right;\">\n",
       "      <th></th>\n",
       "      <th>CustomerID</th>\n",
       "      <th>CustomerName</th>\n",
       "      <th>Gender</th>\n",
       "      <th>Age</th>\n",
       "      <th>Country</th>\n",
       "      <th>OrderID</th>\n",
       "      <th>OrderDate</th>\n",
       "      <th>ProductCategory</th>\n",
       "      <th>ProductName</th>\n",
       "      <th>Price</th>\n",
       "      <th>...</th>\n",
       "      <th>DiscountRate</th>\n",
       "      <th>HasDiscountApplied</th>\n",
       "      <th>TotalAmount</th>\n",
       "      <th>PaymentMethod</th>\n",
       "      <th>DeviceType</th>\n",
       "      <th>ReferralSource</th>\n",
       "      <th>SessionDuration</th>\n",
       "      <th>CustomerTenureDays</th>\n",
       "      <th>ReviewScore</th>\n",
       "      <th>ReviewText</th>\n",
       "    </tr>\n",
       "  </thead>\n",
       "  <tbody>\n",
       "  </tbody>\n",
       "</table>\n",
       "<p>0 rows × 21 columns</p>\n",
       "</div>"
      ],
      "text/plain": [
       "Empty DataFrame\n",
       "Columns: [CustomerID, CustomerName, Gender, Age, Country, OrderID, OrderDate, ProductCategory, ProductName, Price, Quantity, DiscountRate, HasDiscountApplied, TotalAmount, PaymentMethod, DeviceType, ReferralSource, SessionDuration, CustomerTenureDays, ReviewScore, ReviewText]\n",
       "Index: []\n",
       "\n",
       "[0 rows x 21 columns]"
      ]
     },
     "execution_count": 126,
     "metadata": {},
     "output_type": "execute_result"
    }
   ],
   "source": [
    "df[df['ReviewScore']=='nan']"
   ]
  },
  {
   "cell_type": "code",
   "execution_count": 127,
   "id": "9be28da8-9d4c-4b95-b63c-5455bbb83fc0",
   "metadata": {},
   "outputs": [],
   "source": [
    "df['ReviewScore'] = df['ReviewScore'].round().clip(lower=1, upper=5)"
   ]
  },
  {
   "cell_type": "code",
   "execution_count": 128,
   "id": "e9fc2a7e-009f-4711-9f12-e2953ead2ced",
   "metadata": {},
   "outputs": [
    {
     "data": {
      "text/plain": [
       "ReviewScore\n",
       "4.0    35099\n",
       "3.0    25206\n",
       "5.0    24973\n",
       "2.0    10102\n",
       "1.0     4870\n",
       "Name: count, dtype: int64"
      ]
     },
     "execution_count": 128,
     "metadata": {},
     "output_type": "execute_result"
    }
   ],
   "source": [
    "df['ReviewScore'].value_counts()"
   ]
  },
  {
   "cell_type": "code",
   "execution_count": 129,
   "id": "f7faa587-22f5-4e63-9f74-fe851404d6fe",
   "metadata": {},
   "outputs": [
    {
     "name": "stdout",
     "output_type": "stream",
     "text": [
      "<class 'pandas.core.frame.DataFrame'>\n",
      "RangeIndex: 100500 entries, 0 to 100499\n",
      "Data columns (total 21 columns):\n",
      " #   Column              Non-Null Count   Dtype         \n",
      "---  ------              --------------   -----         \n",
      " 0   CustomerID          100500 non-null  object        \n",
      " 1   CustomerName        100500 non-null  object        \n",
      " 2   Gender              100500 non-null  object        \n",
      " 3   Age                 100500 non-null  int64         \n",
      " 4   Country             100500 non-null  object        \n",
      " 5   OrderID             100500 non-null  object        \n",
      " 6   OrderDate           100299 non-null  datetime64[ns]\n",
      " 7   ProductCategory     100500 non-null  object        \n",
      " 8   ProductName         100500 non-null  object        \n",
      " 9   Price               100500 non-null  float64       \n",
      " 10  Quantity            100500 non-null  int64         \n",
      " 11  DiscountRate        100500 non-null  float64       \n",
      " 12  HasDiscountApplied  100500 non-null  object        \n",
      " 13  TotalAmount         100500 non-null  float64       \n",
      " 14  PaymentMethod       100500 non-null  object        \n",
      " 15  DeviceType          100500 non-null  object        \n",
      " 16  ReferralSource      100500 non-null  object        \n",
      " 17  SessionDuration     100500 non-null  float64       \n",
      " 18  CustomerTenureDays  100500 non-null  float64       \n",
      " 19  ReviewScore         100250 non-null  float64       \n",
      " 20  ReviewText          41962 non-null   object        \n",
      "dtypes: datetime64[ns](1), float64(6), int64(2), object(12)\n",
      "memory usage: 16.1+ MB\n"
     ]
    }
   ],
   "source": [
    "df.info()"
   ]
  },
  {
   "cell_type": "code",
   "execution_count": 130,
   "id": "d54c7828-76dd-4da7-9c5d-3672fe144dff",
   "metadata": {},
   "outputs": [
    {
     "data": {
      "text/plain": [
       "0                     NaN\n",
       "1            Okay product\n",
       "2          Very satisfied\n",
       "3                     NaN\n",
       "4                     NaN\n",
       "               ...       \n",
       "100495      Great product\n",
       "100496                NaN\n",
       "100497                NaN\n",
       "100498    Nothing special\n",
       "100499                NaN\n",
       "Name: ReviewText, Length: 100500, dtype: object"
      ]
     },
     "execution_count": 130,
     "metadata": {},
     "output_type": "execute_result"
    }
   ],
   "source": [
    "df['ReviewText']"
   ]
  },
  {
   "cell_type": "code",
   "execution_count": 131,
   "id": "ccdd99f7-9d45-45f2-8849-06c1a8ff61e0",
   "metadata": {},
   "outputs": [],
   "source": [
    "df['ReviewText']=df['ReviewText'].astype(str).str.strip().str.title()"
   ]
  },
  {
   "cell_type": "code",
   "execution_count": 132,
   "id": "4fe191d6-84d8-4fca-ae38-b2f90d04a759",
   "metadata": {},
   "outputs": [
    {
     "data": {
      "text/plain": [
       "0                     Nan\n",
       "1            Okay Product\n",
       "2          Very Satisfied\n",
       "3                     Nan\n",
       "4                     Nan\n",
       "               ...       \n",
       "100495      Great Product\n",
       "100496                Nan\n",
       "100497                Nan\n",
       "100498    Nothing Special\n",
       "100499                Nan\n",
       "Name: ReviewText, Length: 100500, dtype: object"
      ]
     },
     "execution_count": 132,
     "metadata": {},
     "output_type": "execute_result"
    }
   ],
   "source": [
    "df['ReviewText']"
   ]
  },
  {
   "cell_type": "code",
   "execution_count": 133,
   "id": "57904aaa-fe4b-4f93-8f6a-9c17987ac3a7",
   "metadata": {},
   "outputs": [
    {
     "data": {
      "text/plain": [
       "ReviewText\n",
       "Nan                   60298\n",
       "Will Buy Again         4860\n",
       "Value For Money        4809\n",
       "Very Satisfied         4793\n",
       "Great Product          4788\n",
       "Good Quality           4769\n",
       "As Expected            2570\n",
       "Nothing Special        2569\n",
       "Average                2482\n",
       "Okay Product           2460\n",
       "Not As Described       1562\n",
       "Bad Service            1540\n",
       "Damaged On Arrival     1502\n",
       "Poor Quality           1498\n",
       "Name: count, dtype: int64"
      ]
     },
     "execution_count": 133,
     "metadata": {},
     "output_type": "execute_result"
    }
   ],
   "source": [
    "df['ReviewText'].value_counts()"
   ]
  },
  {
   "cell_type": "code",
   "execution_count": 134,
   "id": "721aeec7-7e92-4487-aba6-01509a5cf5fd",
   "metadata": {},
   "outputs": [
    {
     "name": "stdout",
     "output_type": "stream",
     "text": [
      "<class 'pandas.core.frame.DataFrame'>\n",
      "RangeIndex: 100500 entries, 0 to 100499\n",
      "Data columns (total 21 columns):\n",
      " #   Column              Non-Null Count   Dtype         \n",
      "---  ------              --------------   -----         \n",
      " 0   CustomerID          100500 non-null  object        \n",
      " 1   CustomerName        100500 non-null  object        \n",
      " 2   Gender              100500 non-null  object        \n",
      " 3   Age                 100500 non-null  int64         \n",
      " 4   Country             100500 non-null  object        \n",
      " 5   OrderID             100500 non-null  object        \n",
      " 6   OrderDate           100299 non-null  datetime64[ns]\n",
      " 7   ProductCategory     100500 non-null  object        \n",
      " 8   ProductName         100500 non-null  object        \n",
      " 9   Price               100500 non-null  float64       \n",
      " 10  Quantity            100500 non-null  int64         \n",
      " 11  DiscountRate        100500 non-null  float64       \n",
      " 12  HasDiscountApplied  100500 non-null  object        \n",
      " 13  TotalAmount         100500 non-null  float64       \n",
      " 14  PaymentMethod       100500 non-null  object        \n",
      " 15  DeviceType          100500 non-null  object        \n",
      " 16  ReferralSource      100500 non-null  object        \n",
      " 17  SessionDuration     100500 non-null  float64       \n",
      " 18  CustomerTenureDays  100500 non-null  float64       \n",
      " 19  ReviewScore         100250 non-null  float64       \n",
      " 20  ReviewText          100500 non-null  object        \n",
      "dtypes: datetime64[ns](1), float64(6), int64(2), object(12)\n",
      "memory usage: 16.1+ MB\n"
     ]
    }
   ],
   "source": [
    "df.info()"
   ]
  },
  {
   "cell_type": "code",
   "execution_count": 135,
   "id": "96cd0987-2878-453b-820c-d4afd524a7fc",
   "metadata": {},
   "outputs": [
    {
     "data": {
      "text/plain": [
       "ReviewText\n",
       "Nan                   60298\n",
       "Will Buy Again         4860\n",
       "Value For Money        4809\n",
       "Very Satisfied         4793\n",
       "Great Product          4788\n",
       "Good Quality           4769\n",
       "As Expected            2570\n",
       "Nothing Special        2569\n",
       "Average                2482\n",
       "Okay Product           2460\n",
       "Not As Described       1562\n",
       "Bad Service            1540\n",
       "Damaged On Arrival     1502\n",
       "Poor Quality           1498\n",
       "Name: count, dtype: int64"
      ]
     },
     "execution_count": 135,
     "metadata": {},
     "output_type": "execute_result"
    }
   ],
   "source": [
    "df['ReviewText'].value_counts()"
   ]
  },
  {
   "cell_type": "code",
   "execution_count": 138,
   "id": "56057230-03b0-4e2b-907a-1672fb0da93f",
   "metadata": {},
   "outputs": [
    {
     "data": {
      "text/plain": [
       "np.int64(0)"
      ]
     },
     "execution_count": 138,
     "metadata": {},
     "output_type": "execute_result"
    }
   ],
   "source": [
    "df.duplicated().sum()"
   ]
  },
  {
   "cell_type": "code",
   "execution_count": 139,
   "id": "5d310c00-f895-4a8b-9b40-801fcab41dd4",
   "metadata": {},
   "outputs": [
    {
     "data": {
      "text/plain": [
       "np.int64(500)"
      ]
     },
     "execution_count": 139,
     "metadata": {},
     "output_type": "execute_result"
    }
   ],
   "source": [
    "df.duplicated(subset=['OrderID']).sum()"
   ]
  },
  {
   "cell_type": "code",
   "execution_count": 140,
   "id": "36ed2844-98f2-48fb-a488-31a258899c73",
   "metadata": {},
   "outputs": [],
   "source": [
    "df.drop_duplicates(inplace=True)"
   ]
  },
  {
   "cell_type": "code",
   "execution_count": 142,
   "id": "3afd70aa-c3c0-4d10-b1b8-e4336e26900c",
   "metadata": {},
   "outputs": [],
   "source": [
    "df.drop_duplicates(subset=['OrderID'], keep='first', inplace=True)"
   ]
  },
  {
   "cell_type": "code",
   "execution_count": 143,
   "id": "7e9eae13-473c-4335-bc02-a036b2bb8b09",
   "metadata": {},
   "outputs": [
    {
     "data": {
      "text/plain": [
       "np.int64(0)"
      ]
     },
     "execution_count": 143,
     "metadata": {},
     "output_type": "execute_result"
    }
   ],
   "source": [
    "df.duplicated(subset=['OrderID']).sum()"
   ]
  },
  {
   "cell_type": "code",
   "execution_count": 144,
   "id": "6e7f33d2-bc9b-479f-948c-f63c2a8f8008",
   "metadata": {},
   "outputs": [],
   "source": [
    "df.to_csv(\"ecommerce_cleaned.csv\", index=False)"
   ]
  },
  {
   "cell_type": "code",
   "execution_count": null,
   "id": "3424405c-4e65-4f8a-960b-6bd0283af788",
   "metadata": {},
   "outputs": [],
   "source": []
  }
 ],
 "metadata": {
  "kernelspec": {
   "display_name": "Python 3 (ipykernel)",
   "language": "python",
   "name": "python3"
  },
  "language_info": {
   "codemirror_mode": {
    "name": "ipython",
    "version": 3
   },
   "file_extension": ".py",
   "mimetype": "text/x-python",
   "name": "python",
   "nbconvert_exporter": "python",
   "pygments_lexer": "ipython3",
   "version": "3.13.5"
  }
 },
 "nbformat": 4,
 "nbformat_minor": 5
}
